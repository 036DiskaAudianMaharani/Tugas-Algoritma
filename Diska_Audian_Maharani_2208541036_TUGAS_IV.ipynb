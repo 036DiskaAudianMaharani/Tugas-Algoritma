{
  "nbformat": 4,
  "nbformat_minor": 0,
  "metadata": {
    "colab": {
      "provenance": []
    },
    "kernelspec": {
      "name": "python3",
      "display_name": "Python 3"
    },
    "language_info": {
      "name": "python"
    }
  },
  "cells": [
    {
      "cell_type": "code",
      "execution_count": 2,
      "metadata": {
        "id": "C7WSwWPEGXvk"
      },
      "outputs": [],
      "source": [
        "#Tugas IV\n",
        "#Diska Audian Maharani\n",
        "#NIM 2208541036"
      ]
    },
    {
      "cell_type": "code",
      "source": [
        "#5.11 While Loop"
      ],
      "metadata": {
        "id": "ARNYs4pXGnyd"
      },
      "execution_count": 3,
      "outputs": []
    },
    {
      "cell_type": "code",
      "source": [
        "a = 6\n",
        "while a <= 14:\n",
        "  print ('Angka '+ str(a)+ ' masih di bawah 15')\n",
        "  a += 2\n",
        "#while loop selalu dieksekusi selama nilainya True\n",
        "#berhenti di angka 14 karena untuk angka selanjutnya akan bernilai false"
      ],
      "metadata": {
        "colab": {
          "base_uri": "https://localhost:8080/"
        },
        "id": "ZAPR5JObG2pS",
        "outputId": "681e3bb3-01a0-4466-affc-8fd1565fef52"
      },
      "execution_count": 9,
      "outputs": [
        {
          "output_type": "stream",
          "name": "stdout",
          "text": [
            "Angka 6 masih di bawah 15\n",
            "Angka 8 masih di bawah 15\n",
            "Angka 10 masih di bawah 15\n",
            "Angka 12 masih di bawah 15\n",
            "Angka 14 masih di bawah 15\n"
          ]
        }
      ]
    },
    {
      "cell_type": "code",
      "source": [
        "b = 6\n",
        "while b > 14:\n",
        "  print ('Angka ' + str(b)+ ' masih di bawah 14')\n",
        "  a += 2\n",
        "#while loop tidak dieksekusi karena nilai nya False\n",
        "#nilai False karena b !> 14"
      ],
      "metadata": {
        "id": "EqTnFLCtIG4m"
      },
      "execution_count": 10,
      "outputs": []
    },
    {
      "cell_type": "code",
      "source": [
        "harga_pensil = 5000\n",
        "harga_buku = 10000\n",
        "while harga_pensil < harga_buku:\n",
        "  print ('harga pensil '+ str (harga_pensil) + ' masih di bawah harga buku')\n",
        "  harga_pensil += 1000\n",
        "#while loop dapat dieksekusi selama nilainya True\n",
        "#while loop berhenti mengeksekusi karena untuk harga selanjutnya bernilai False\n"
      ],
      "metadata": {
        "colab": {
          "base_uri": "https://localhost:8080/"
        },
        "id": "9tONrRNYJKAh",
        "outputId": "2e91e5a3-df64-478d-e635-021400901e30"
      },
      "execution_count": 14,
      "outputs": [
        {
          "output_type": "stream",
          "name": "stdout",
          "text": [
            "harga pensil 5000 masih di bawah harga buku\n",
            "harga pensil 6000 masih di bawah harga buku\n",
            "harga pensil 7000 masih di bawah harga buku\n",
            "harga pensil 8000 masih di bawah harga buku\n",
            "harga pensil 9000 masih di bawah harga buku\n"
          ]
        }
      ]
    },
    {
      "cell_type": "code",
      "source": [
        "#5.12 List\n",
        "#digunakan pada saat merepresentasikan objek di python\n",
        "#berupa string maupun berupa angka"
      ],
      "metadata": {
        "id": "mvjlRsgkMoTH"
      },
      "execution_count": 18,
      "outputs": []
    },
    {
      "cell_type": "code",
      "source": [
        "mata_kuliah = ['Statistika dasar', 'Aljabar linear elementer', 'Geometri analitik', 'Kalkulus 2', 'Agama']\n",
        "print (mata_kuliah)"
      ],
      "metadata": {
        "colab": {
          "base_uri": "https://localhost:8080/"
        },
        "id": "qoVFJQH9NFrT",
        "outputId": "3acade1f-7414-4b85-9cf2-4789dad129f2"
      },
      "execution_count": 20,
      "outputs": [
        {
          "output_type": "stream",
          "name": "stdout",
          "text": [
            "['Statistika dasar', 'Aljabar linear elementer', 'Geometri analitik', 'Kalkulus 2', 'Agama']\n"
          ]
        }
      ]
    },
    {
      "cell_type": "code",
      "source": [
        "print (mata_kuliah[3])\n",
        "#memanggil mata kuliah ke 3"
      ],
      "metadata": {
        "colab": {
          "base_uri": "https://localhost:8080/"
        },
        "id": "FDT18cFwN1t3",
        "outputId": "092a1e7f-90f0-420a-b734-c589eb14b03c"
      },
      "execution_count": 21,
      "outputs": [
        {
          "output_type": "stream",
          "name": "stdout",
          "text": [
            "Kalkulus 2\n"
          ]
        }
      ]
    },
    {
      "cell_type": "code",
      "source": [
        "print (mata_kuliah[-3])\n",
        "#memanggil mata kuliah ke -3\n",
        "#artinya dihitung dari belakang"
      ],
      "metadata": {
        "colab": {
          "base_uri": "https://localhost:8080/"
        },
        "id": "BFxKIM63OeUJ",
        "outputId": "f578ab81-db1d-40ab-92d8-0aebb9a7baa0"
      },
      "execution_count": 22,
      "outputs": [
        {
          "output_type": "stream",
          "name": "stdout",
          "text": [
            "Geometri analitik\n"
          ]
        }
      ]
    },
    {
      "cell_type": "code",
      "source": [
        "print (mata_kuliah[0])\n",
        "#memanggil mata kuliah ke 0"
      ],
      "metadata": {
        "colab": {
          "base_uri": "https://localhost:8080/"
        },
        "id": "w8UA62l3OmvF",
        "outputId": "3151852e-010f-4cdb-880a-89fd334671cc"
      },
      "execution_count": 23,
      "outputs": [
        {
          "output_type": "stream",
          "name": "stdout",
          "text": [
            "Statistika dasar\n"
          ]
        }
      ]
    },
    {
      "cell_type": "code",
      "source": [
        "mata_kuliah[1] = 'Struktur aljabar'\n",
        "print (mata_kuliah)\n",
        "#mengganti urutan mata kuliah ke 1 "
      ],
      "metadata": {
        "colab": {
          "base_uri": "https://localhost:8080/"
        },
        "id": "SmhBMn-2Ot27",
        "outputId": "1f71882a-15d5-42bf-8282-79215dc63634"
      },
      "execution_count": 25,
      "outputs": [
        {
          "output_type": "stream",
          "name": "stdout",
          "text": [
            "['Statistika dasar', 'Struktur aljabar', 'Geometri analitik', 'Kalkulus 2', 'Agama']\n"
          ]
        }
      ]
    },
    {
      "cell_type": "code",
      "source": [
        "print (mata_kuliah[0:5:2])\n",
        "#memanggil urutan ke 0 hingga 5 dengan loncatan sebanyak 2"
      ],
      "metadata": {
        "colab": {
          "base_uri": "https://localhost:8080/"
        },
        "id": "Mc2TvlfYO3Wh",
        "outputId": "c4e4c068-f734-4384-e438-6dede8596d37"
      },
      "execution_count": 27,
      "outputs": [
        {
          "output_type": "stream",
          "name": "stdout",
          "text": [
            "['Statistika dasar', 'Geometri analitik', 'Agama']\n"
          ]
        }
      ]
    },
    {
      "cell_type": "code",
      "source": [
        "print (mata_kuliah)\n",
        "#tidak merubah list\n",
        "#tetap menggunakan perubahan list terbaru yang telah dibuat"
      ],
      "metadata": {
        "colab": {
          "base_uri": "https://localhost:8080/"
        },
        "id": "NYRm0sFyP34k",
        "outputId": "073f0e88-3674-4dc3-bc4e-07094a195937"
      },
      "execution_count": 28,
      "outputs": [
        {
          "output_type": "stream",
          "name": "stdout",
          "text": [
            "['Statistika dasar', 'Struktur aljabar', 'Geometri analitik', 'Kalkulus 2', 'Agama']\n"
          ]
        }
      ]
    },
    {
      "cell_type": "code",
      "source": [
        "angka_genap = ['2', '4', '6', '8', '10']\n",
        "print (angka_genap)"
      ],
      "metadata": {
        "colab": {
          "base_uri": "https://localhost:8080/"
        },
        "id": "TvXbN6xGQM3S",
        "outputId": "26625b22-652d-41c5-b973-1c37f14bcd62"
      },
      "execution_count": 29,
      "outputs": [
        {
          "output_type": "stream",
          "name": "stdout",
          "text": [
            "['2', '4', '6', '8', '10']\n"
          ]
        }
      ]
    },
    {
      "cell_type": "code",
      "source": [
        "print (angka_genap[0])\n",
        "#memanggil angka genap urutan ke 0"
      ],
      "metadata": {
        "colab": {
          "base_uri": "https://localhost:8080/"
        },
        "id": "Writ5EHkQxwN",
        "outputId": "177b0b57-7e15-4f2d-cf08-931f83997afa"
      },
      "execution_count": 30,
      "outputs": [
        {
          "output_type": "stream",
          "name": "stdout",
          "text": [
            "2\n"
          ]
        }
      ]
    },
    {
      "cell_type": "code",
      "source": [
        "print (angka_genap[-1])\n",
        "#memanggil angka genap urutan ke -1\n",
        "#berarti urutan ke 1 dari belakang"
      ],
      "metadata": {
        "colab": {
          "base_uri": "https://localhost:8080/"
        },
        "id": "O2w6EYXxQ3k7",
        "outputId": "ee681193-8611-4ca5-db94-0c8374a8f735"
      },
      "execution_count": 31,
      "outputs": [
        {
          "output_type": "stream",
          "name": "stdout",
          "text": [
            "10\n"
          ]
        }
      ]
    },
    {
      "cell_type": "code",
      "source": [
        "print (angka_genap[1:4:2])\n",
        "#memanggil angka genap urutan ke 1 sampai 4 dengan loncatan 2"
      ],
      "metadata": {
        "colab": {
          "base_uri": "https://localhost:8080/"
        },
        "id": "sFfDqCXlQ_2y",
        "outputId": "cad1e41f-46bc-4c71-9378-dd4c931e40ab"
      },
      "execution_count": 32,
      "outputs": [
        {
          "output_type": "stream",
          "name": "stdout",
          "text": [
            "['4', '8']\n"
          ]
        }
      ]
    },
    {
      "cell_type": "code",
      "source": [
        "#5.13 Metoda List\n",
        "#berfungsi memanipulasi dengan menambahkan atau menghilangkan isinya"
      ],
      "metadata": {
        "id": "issDApSLRkEc"
      },
      "execution_count": 36,
      "outputs": []
    },
    {
      "cell_type": "code",
      "source": [
        "sayur = ['wortel', 'bayam', 'sawi', 'kol', 'brokoli', 'kentang']\n",
        "print (sayur)"
      ],
      "metadata": {
        "colab": {
          "base_uri": "https://localhost:8080/"
        },
        "id": "KOjC3aa9SG-6",
        "outputId": "0dbf573c-005d-4062-c199-d85b002555d1"
      },
      "execution_count": 37,
      "outputs": [
        {
          "output_type": "stream",
          "name": "stdout",
          "text": [
            "['wortel', 'bayam', 'sawi', 'kol', 'brokoli', 'kentang']\n"
          ]
        }
      ]
    },
    {
      "cell_type": "code",
      "source": [
        "sayur.append ('terong')\n",
        "print (sayur)\n",
        "#append yakni untuk menambahkan isi dari list yang telah dimasukkan sebelumnya"
      ],
      "metadata": {
        "colab": {
          "base_uri": "https://localhost:8080/"
        },
        "id": "_Au8Fpp5Sw1Y",
        "outputId": "104b985b-7ce5-4822-f543-e053df785248"
      },
      "execution_count": 38,
      "outputs": [
        {
          "output_type": "stream",
          "name": "stdout",
          "text": [
            "['wortel', 'bayam', 'sawi', 'kol', 'brokoli', 'kentang', 'terong']\n"
          ]
        }
      ]
    },
    {
      "cell_type": "code",
      "source": [
        "sayur.insert(1, 'cabai')\n",
        "print (sayur)\n",
        "#insert untuk mengganti urutan ke 1 yang ada di list menjadi cabai\n",
        "#list yang ditampilkan yakni perubahan list terbaru yang telah dilakukan tadi "
      ],
      "metadata": {
        "colab": {
          "base_uri": "https://localhost:8080/"
        },
        "id": "vH3ARRpGS6cv",
        "outputId": "2a7c93ec-b645-4469-cc67-397febef67d1"
      },
      "execution_count": 41,
      "outputs": [
        {
          "output_type": "stream",
          "name": "stdout",
          "text": [
            "['wortel', 'cabai', 'bayam', 'sawi', 'kol', 'brokoli', 'kentang', 'terong']\n"
          ]
        }
      ]
    },
    {
      "cell_type": "code",
      "source": [
        "sayur.remove ('wortel')\n",
        "print (sayur)\n",
        "#remove untuk menghapus yang ada di sayur\n",
        "#berarti menghapus wortel dari sayur"
      ],
      "metadata": {
        "colab": {
          "base_uri": "https://localhost:8080/"
        },
        "id": "nTQTB9ZOToAg",
        "outputId": "9f6c68b3-5826-46d6-a305-3dfc2e92fb91"
      },
      "execution_count": 43,
      "outputs": [
        {
          "output_type": "stream",
          "name": "stdout",
          "text": [
            "['cabai', 'bayam', 'sawi', 'kol', 'brokoli', 'kentang', 'terong']\n"
          ]
        }
      ]
    },
    {
      "cell_type": "code",
      "source": [
        "print ('wortel' in sayur)\n",
        "#false karena wortel sudah tidak ada dalam sayur\n",
        "#ingat, akan menggunakan perubahan terbaru yang telah dilakukan"
      ],
      "metadata": {
        "colab": {
          "base_uri": "https://localhost:8080/"
        },
        "id": "fY5znJv4UHsl",
        "outputId": "871fa59a-a5e5-4665-de00-e64778c12274"
      },
      "execution_count": 44,
      "outputs": [
        {
          "output_type": "stream",
          "name": "stdout",
          "text": [
            "False\n"
          ]
        }
      ]
    },
    {
      "cell_type": "code",
      "source": [
        "sayur = ['wortel', 'bayam', 'sawi', 'kol', 'brokoli', 'kentang']\n",
        "print ('wortel'in sayur)\n",
        "#true karena telah mengubah anggota sayur terbaru\n"
      ],
      "metadata": {
        "colab": {
          "base_uri": "https://localhost:8080/"
        },
        "id": "hd7K60ZDUYPE",
        "outputId": "a04be745-fec4-4baf-ccc4-4c7e216ac71a"
      },
      "execution_count": 45,
      "outputs": [
        {
          "output_type": "stream",
          "name": "stdout",
          "text": [
            "True\n"
          ]
        }
      ]
    },
    {
      "cell_type": "code",
      "source": [
        "print (len(sayur))\n",
        "#len menghitung jumlah indeks"
      ],
      "metadata": {
        "colab": {
          "base_uri": "https://localhost:8080/"
        },
        "id": "NOKb_3eWVN1I",
        "outputId": "fe2635e1-543d-43d2-850c-4f200e996c19"
      },
      "execution_count": 46,
      "outputs": [
        {
          "output_type": "stream",
          "name": "stdout",
          "text": [
            "6\n"
          ]
        }
      ]
    },
    {
      "cell_type": "code",
      "source": [
        "#5.14 For Loop"
      ],
      "metadata": {
        "id": "3tku4pmGVcCD"
      },
      "execution_count": 50,
      "outputs": []
    },
    {
      "cell_type": "code",
      "source": [
        "#digunakan untuk memanggil semua list\n",
        "#while dan for sebenarnya fungsinya sama, cuma tergantung bentuk data nya\n",
        "#ada data yang cocok menggunakan for ataupun sebaliknya, \n",
        "#namun bukan berarti data yang yang cocok/bisa menggunakan for tidak bisa digunakan di while, hanya saja pengerjaannya lebih ribet"
      ],
      "metadata": {
        "id": "AHKOaliBX93J"
      },
      "execution_count": 51,
      "outputs": []
    },
    {
      "cell_type": "code",
      "source": [
        "hewan = ['kucing', 'gajah', 'panda', 'ikan', 'burung']\n",
        "for macam in hewan:\n",
        "  print (macam)"
      ],
      "metadata": {
        "colab": {
          "base_uri": "https://localhost:8080/"
        },
        "id": "dBPmgDQtV5ZM",
        "outputId": "4d993928-97b0-4d42-be85-d9a9e8c657e1"
      },
      "execution_count": 48,
      "outputs": [
        {
          "output_type": "stream",
          "name": "stdout",
          "text": [
            "kucing\n",
            "gajah\n",
            "panda\n",
            "ikan\n",
            "burung\n"
          ]
        }
      ]
    },
    {
      "cell_type": "code",
      "source": [
        "i = 0\n",
        "while i < len(hewan):\n",
        "  print (hewan[i])\n",
        "  i+=1"
      ],
      "metadata": {
        "colab": {
          "base_uri": "https://localhost:8080/"
        },
        "id": "HCWAA7EIXlAU",
        "outputId": "4104dc50-8c65-44db-e2c9-0ba3f36bcefb"
      },
      "execution_count": 49,
      "outputs": [
        {
          "output_type": "stream",
          "name": "stdout",
          "text": [
            "kucing\n",
            "gajah\n",
            "panda\n",
            "ikan\n",
            "burung\n"
          ]
        }
      ]
    },
    {
      "cell_type": "code",
      "source": [
        "#5.15 Fungsi Range\n",
        "#untuk membangkitkan bilangan berurutan atau berpola"
      ],
      "metadata": {
        "id": "SZ4o91nXX1Zn"
      },
      "execution_count": 52,
      "outputs": []
    },
    {
      "cell_type": "code",
      "source": [
        "angka = range (15)\n",
        "print (angka)"
      ],
      "metadata": {
        "colab": {
          "base_uri": "https://localhost:8080/"
        },
        "id": "x2Kqz2wQYx7Q",
        "outputId": "6735dcfd-f126-41b9-8f0f-ab361920d9d6"
      },
      "execution_count": 53,
      "outputs": [
        {
          "output_type": "stream",
          "name": "stdout",
          "text": [
            "range(0, 15)\n"
          ]
        }
      ]
    },
    {
      "cell_type": "code",
      "source": [
        "for isi in angka:\n",
        "  print (isi)\n",
        "#menampilkan isi dari angka\n",
        "#namun 15 tidak termasuk karena integer akhir yang dihasilkan berhenti setelah nilai = stop-1"
      ],
      "metadata": {
        "colab": {
          "base_uri": "https://localhost:8080/"
        },
        "id": "huD7SJZPZJfO",
        "outputId": "c757b21b-bbbf-4048-e0be-6e0e5680587d"
      },
      "execution_count": 54,
      "outputs": [
        {
          "output_type": "stream",
          "name": "stdout",
          "text": [
            "0\n",
            "1\n",
            "2\n",
            "3\n",
            "4\n",
            "5\n",
            "6\n",
            "7\n",
            "8\n",
            "9\n",
            "10\n",
            "11\n",
            "12\n",
            "13\n",
            "14\n"
          ]
        }
      ]
    },
    {
      "cell_type": "code",
      "source": [
        "for isi in range (8,12):\n",
        "  print (isi)\n",
        "#menampilkan 8 hingga 11\n",
        "#kenapa 11? karena integer akhir yang dihasilkan berhenti setelah nilai = stop-1"
      ],
      "metadata": {
        "colab": {
          "base_uri": "https://localhost:8080/"
        },
        "id": "vQuOR-BwZXrQ",
        "outputId": "4f294589-5fef-45da-d8e6-796dd9169a93"
      },
      "execution_count": 56,
      "outputs": [
        {
          "output_type": "stream",
          "name": "stdout",
          "text": [
            "8\n",
            "9\n",
            "10\n",
            "11\n"
          ]
        }
      ]
    },
    {
      "cell_type": "code",
      "source": [
        "for isi in range (2,12,2):\n",
        "  print (isi)\n",
        "#menampilkan angka 2 sampai 12 dengan loncatan 2, namun 12 tidak termasuk\n",
        "#12 tidak termasuk karena integer akhir yang dihasilkan berhenti setelah nilai = stop-1"
      ],
      "metadata": {
        "colab": {
          "base_uri": "https://localhost:8080/"
        },
        "id": "JrcZDV1kZv47",
        "outputId": "c6873e36-19da-4ef7-bbd6-1d26a49de5f5"
      },
      "execution_count": 58,
      "outputs": [
        {
          "output_type": "stream",
          "name": "stdout",
          "text": [
            "2\n",
            "4\n",
            "6\n",
            "8\n",
            "10\n"
          ]
        }
      ]
    },
    {
      "cell_type": "code",
      "source": [
        "angka = range (10,23)\n",
        "print (angka)"
      ],
      "metadata": {
        "colab": {
          "base_uri": "https://localhost:8080/"
        },
        "id": "HeKc7ZlRcMhM",
        "outputId": "1e28d2d5-0ce1-43b6-df1c-a02d000fb0c5"
      },
      "execution_count": 65,
      "outputs": [
        {
          "output_type": "stream",
          "name": "stdout",
          "text": [
            "range(10, 23)\n"
          ]
        }
      ]
    },
    {
      "cell_type": "code",
      "source": [
        "for isi in angka:\n",
        "  print (isi)\n",
        "#menampilkan isi dari angka"
      ],
      "metadata": {
        "colab": {
          "base_uri": "https://localhost:8080/"
        },
        "id": "LfEwVq0XcoYv",
        "outputId": "f2e680e0-f23a-4fe3-f625-b365165a1d3d"
      },
      "execution_count": 66,
      "outputs": [
        {
          "output_type": "stream",
          "name": "stdout",
          "text": [
            "10\n",
            "11\n",
            "12\n",
            "13\n",
            "14\n",
            "15\n",
            "16\n",
            "17\n",
            "18\n",
            "19\n",
            "20\n",
            "21\n",
            "22\n"
          ]
        }
      ]
    },
    {
      "cell_type": "code",
      "source": [
        "#%%%%%%%%%%%%%%%%%%%%%%%%%%%%%%%%%% TERIMA KASIH :) %%%%%%%%%%%%%%%%%%%%%%%%%%%%%%%%"
      ],
      "metadata": {
        "id": "KpIuRWrvaAeO"
      },
      "execution_count": null,
      "outputs": []
    },
    {
      "cell_type": "code",
      "source": [
        "#mohon maaf bapak untuk 5.11 while loop saya tidak mengerjakan contoh yang (*) dikarenakan nge run nya sangat lama\n",
        "#jadi saya memakai contoh while loop yang lain"
      ],
      "metadata": {
        "id": "69-Hhm_xgkS9"
      },
      "execution_count": null,
      "outputs": []
    }
  ]
}