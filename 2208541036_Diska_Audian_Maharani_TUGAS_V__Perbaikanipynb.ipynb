{
  "cells": [
    {
      "cell_type": "markdown",
      "metadata": {
        "id": "7RAmquegMGhz"
      },
      "source": [
        "## **TUGAS KELIMA**\n",
        "(03 April 2023)\n",
        "\n"
      ]
    },
    {
      "cell_type": "markdown",
      "source": [
        "ini merupakan perbaikan tugas kelima, karena adanya ketidakselesaian materi pada numpy di tugas kelima sebelumnya."
      ],
      "metadata": {
        "id": "HRsBJg1ylfZV"
      }
    },
    {
      "cell_type": "markdown",
      "metadata": {
        "id": "KOivBRyEJ54_"
      },
      "source": [
        "# **5.16 List 2 Dimensi**\n",
        "\n",
        "List 2 dimensi umumnya menempatkan sebuah list di dalam list.\n",
        "\n",
        "Penggambarannya seperti matrik"
      ]
    },
    {
      "cell_type": "code",
      "execution_count": 126,
      "metadata": {
        "colab": {
          "base_uri": "https://localhost:8080/"
        },
        "id": "j6s10h1wKFDo",
        "outputId": "539ea66d-38d9-4698-a918-8cdd5cd4dbdd"
      },
      "outputs": [
        {
          "output_type": "stream",
          "name": "stdout",
          "text": [
            "[[25, 37, 46, 59, 62, 71], [22, 15, 29, 55, 90, 31], [11, 67, 23, 87, 47, 25], [77, 89, 25, 38, 48, 90]]\n"
          ]
        }
      ],
      "source": [
        "#LATIHAN 1\n",
        "#akan mencoba  membuat list dalam bentuk angka random\n",
        "\n",
        "#kita bebas membuat list dengan bilangan apa saja\n",
        "matrik = [\n",
        "    [25, 37, 46, 59, 62, 71],\n",
        "    [22, 15, 29, 55, 90, 31],\n",
        "    [11, 67, 23, 87, 47, 25],\n",
        "    [77, 89, 25, 38, 48, 90],\n",
        "    ]\n",
        "#harus menggunakan kurung siku di awal dan di akhir, karena jika tidak memakai maka akan error\n",
        "#pada akhir setiap baris juga harus menggunakan koma, karena meskipun satu koma saja tidak ditulis maka sudah pasti akan error \n",
        "#perlu diingat bahwa,list ditulis sebagai daftar nilai yang dipisahkan koma antara tanda kurung siku\n",
        "\n",
        "print(matrik)\n",
        "#print matrik agar dapat terbaca keseluruhan matrik saat di run\n"
      ]
    },
    {
      "cell_type": "code",
      "execution_count": 127,
      "metadata": {
        "colab": {
          "base_uri": "https://localhost:8080/"
        },
        "id": "7SeHGhnyWYvD",
        "outputId": "f4e8e13e-943a-49b5-b656-995a6762f82c"
      },
      "outputs": [
        {
          "output_type": "execute_result",
          "data": {
            "text/plain": [
              "[25, 37, 46, 59, 62, 71]"
            ]
          },
          "metadata": {},
          "execution_count": 127
        }
      ],
      "source": [
        "matrik [0]\n",
        "#masih menggunakan list yang sama seperti di atas, jadi tidak perlu ditulis ulang\n",
        "#perlu diingat bahwa python bermula dari 0, jadi matrik baris paling atas adalah matrik 0\n"
      ]
    },
    {
      "cell_type": "code",
      "execution_count": 128,
      "metadata": {
        "colab": {
          "base_uri": "https://localhost:8080/"
        },
        "id": "MLD_owbO59Tk",
        "outputId": "c99f6154-1e8a-4e34-d811-7822ed55f69b"
      },
      "outputs": [
        {
          "output_type": "execute_result",
          "data": {
            "text/plain": [
              "[11, 67, 23, 87, 47, 25]"
            ]
          },
          "metadata": {},
          "execution_count": 128
        }
      ],
      "source": [
        "matrik [-2]\n",
        "#urutan baris matrik nomor 2 dari belakang (ini berarti sama dengan baris ke 3"
      ]
    },
    {
      "cell_type": "code",
      "execution_count": 129,
      "metadata": {
        "colab": {
          "base_uri": "https://localhost:8080/"
        },
        "id": "qJKW96tp7uHk",
        "outputId": "72b39297-56b6-4691-a1d6-4c11ac70451c"
      },
      "outputs": [
        {
          "output_type": "stream",
          "name": "stdout",
          "text": [
            "150\n"
          ]
        }
      ],
      "source": [
        "matrik [1][2] = 150 \n",
        "#ini berarti, angka pada baris ke 1 dengan kolom ke 2 akan diganti oleh angka 150\n",
        "print (matrik[1][2])\n",
        "#harus diberi print karena kalau tidak diberi, tidak menampilkan apapun"
      ]
    },
    {
      "cell_type": "code",
      "execution_count": 130,
      "metadata": {
        "colab": {
          "base_uri": "https://localhost:8080/"
        },
        "id": "eV1tDvEu8w-I",
        "outputId": "84078137-96ae-4f63-ae2a-495587b7ac59"
      },
      "outputs": [
        {
          "output_type": "execute_result",
          "data": {
            "text/plain": [
              "[[25, 37, 46, 59, 62, 71],\n",
              " [22, 15, 150, 55, 90, 31],\n",
              " [11, 67, 23, 87, 47, 25],\n",
              " [77, 89, 25, 38, 48, 90]]"
            ]
          },
          "metadata": {},
          "execution_count": 130
        }
      ],
      "source": [
        "#setelah angkanya diganti, coba kita akan menampilkan ulang matrik yang telah dibuat di atas\n",
        "matrik\n",
        "#terbukti bahwa angka pada baris ke 1 dengan kolom 2 angkanya berubah menjadi 150"
      ]
    },
    {
      "cell_type": "code",
      "execution_count": 131,
      "metadata": {
        "colab": {
          "base_uri": "https://localhost:8080/"
        },
        "id": "eomOcc7bJmRa",
        "outputId": "811794ba-65c5-42ea-e022-a33bed33ba27"
      },
      "outputs": [
        {
          "output_type": "stream",
          "name": "stdout",
          "text": [
            "[25, 37, 46, 59, 62, 71]\n",
            "25\n",
            "37\n",
            "46\n",
            "59\n",
            "62\n",
            "71\n",
            "[22, 15, 150, 55, 90, 31]\n",
            "22\n",
            "15\n",
            "150\n",
            "55\n",
            "90\n",
            "31\n",
            "[11, 67, 23, 87, 47, 25]\n",
            "11\n",
            "67\n",
            "23\n",
            "87\n",
            "47\n",
            "25\n",
            "[77, 89, 25, 38, 48, 90]\n",
            "77\n",
            "89\n",
            "25\n",
            "38\n",
            "48\n",
            "90\n"
          ]
        }
      ],
      "source": [
        "#coba memanggil anggota atau elemen baris dan kolom dari matrik di atas\n",
        "\n",
        "for baris in matrik:      #akan menampilkan baris pada matrik di atas\n",
        "  print (baris)           #gunakan perintah print untuk menampilkan baris\n",
        "  for kolom in baris:     #akan menampilkan kolom pada baris di atas\n",
        "    print (kolom)         #gunakan perintah print untuk menampilkan kolom\n",
        "\n",
        "#karena ini merupakan list maka yang ditampilkan adalah perubahan pada matrik yang dilakukan terakhir kali"
      ]
    },
    {
      "cell_type": "code",
      "execution_count": 132,
      "metadata": {
        "colab": {
          "base_uri": "https://localhost:8080/"
        },
        "id": "aO14uW6A3KoL",
        "outputId": "db3ff877-95a3-4784-9cb8-f6c64c6fe3e3"
      },
      "outputs": [
        {
          "output_type": "stream",
          "name": "stdout",
          "text": [
            "[[2, 6, 8, 10, 15, 12], [3, 6, 9, 4], [2, 7, 16], [5, 11, 14, 17, 20]]\n"
          ]
        }
      ],
      "source": [
        "#LATIHAN 2\n",
        "#saya akan mencoba membuat list dua dimensi dengan jumlah elemen yang berbeda\n",
        "\n",
        "#langkah yang pertama, saya akan membuat dengan angka random\n",
        "matrik = [\n",
        "    [2, 6, 8, 10, 15, 12],      #baris pertama terdapat 6 elemen\n",
        "    [3, 6, 9, 4],               #baris kedua terdapat 4 elemen\n",
        "    [2, 7, 16],                 #baris ketiga terdapat 3 elemen\n",
        "    [5, 11, 14, 17, 20],        #baris keempat terdapat 5 elemen\n",
        "]\n",
        "#pada contoh di atas terlihat bahwa list dua dimensi memiliki jumlah yang berbeda tiap barisnya\n",
        "print (matrik)"
      ]
    },
    {
      "cell_type": "code",
      "execution_count": 133,
      "metadata": {
        "colab": {
          "base_uri": "https://localhost:8080/"
        },
        "id": "THcsAn5S6bQh",
        "outputId": "e466222f-a817-4911-cc70-ebdea1f5ad21"
      },
      "outputs": [
        {
          "output_type": "execute_result",
          "data": {
            "text/plain": [
              "[2, 7, 16]"
            ]
          },
          "metadata": {},
          "execution_count": 133
        }
      ],
      "source": [
        "#kita akan lihat apakah list dua dimensi bisa mengoprasikan apabila jumlah elemen berbeda tiap barisnya\n",
        "\n",
        "matrik [2]\n",
        "#menampilkan baris ke 2"
      ]
    },
    {
      "cell_type": "code",
      "execution_count": 134,
      "metadata": {
        "colab": {
          "base_uri": "https://localhost:8080/"
        },
        "id": "H9fyVsLC71W8",
        "outputId": "0a127c3b-5af7-4a0b-94f1-0d2346be172c"
      },
      "outputs": [
        {
          "output_type": "execute_result",
          "data": {
            "text/plain": [
              "8"
            ]
          },
          "metadata": {},
          "execution_count": 134
        }
      ],
      "source": [
        "matrik [0][2]\n",
        "#menampilkan baris ke 0 kolom ke 2"
      ]
    },
    {
      "cell_type": "code",
      "execution_count": 135,
      "metadata": {
        "colab": {
          "base_uri": "https://localhost:8080/"
        },
        "id": "V5OFCjOM8EZR",
        "outputId": "09f53eb2-4dfc-4165-811a-cd6b081a1edf"
      },
      "outputs": [
        {
          "output_type": "stream",
          "name": "stdout",
          "text": [
            "50\n"
          ]
        }
      ],
      "source": [
        "matrik [1][0] = 50\n",
        "print (matrik [1][0])\n",
        "#ini artinya, mengubah elemen yang ada di baris 1 kolom 0 dengan angka 50\n",
        "#akan dibuktikan apakah elemen baris 1 kolom 0dapat mengubah angka menjadi 50"
      ]
    },
    {
      "cell_type": "code",
      "execution_count": 136,
      "metadata": {
        "colab": {
          "base_uri": "https://localhost:8080/"
        },
        "id": "lOVjjAg89blq",
        "outputId": "e7777cc7-e3ab-40a4-ea7c-5d2af38523cb"
      },
      "outputs": [
        {
          "output_type": "execute_result",
          "data": {
            "text/plain": [
              "[[2, 6, 8, 10, 15, 12], [50, 6, 9, 4], [2, 7, 16], [5, 11, 14, 17, 20]]"
            ]
          },
          "metadata": {},
          "execution_count": 136
        }
      ],
      "source": [
        "matrik\n",
        "#terbukti bahwa elemen baris 1 kolom 0 berubah menjadi 50"
      ]
    },
    {
      "cell_type": "code",
      "execution_count": 137,
      "metadata": {
        "colab": {
          "base_uri": "https://localhost:8080/"
        },
        "id": "gGPI34IYLP2i",
        "outputId": "103ebd32-8468-4317-846e-85fd63078401"
      },
      "outputs": [
        {
          "output_type": "stream",
          "name": "stdout",
          "text": [
            "[2, 6, 8, 10, 15, 12]\n",
            "2\n",
            "6\n",
            "8\n",
            "10\n",
            "15\n",
            "12\n",
            "[50, 6, 9, 4]\n",
            "50\n",
            "6\n",
            "9\n",
            "4\n",
            "[2, 7, 16]\n",
            "2\n",
            "7\n",
            "16\n",
            "[5, 11, 14, 17, 20]\n",
            "5\n",
            "11\n",
            "14\n",
            "17\n",
            "20\n"
          ]
        }
      ],
      "source": [
        "#cara memanggil elemen atau anggota dari matrik di atas\n",
        "\n",
        "for baris in matrik:      #akan menampilkan baris pada matrik di atas\n",
        "  print (baris)           #gunakan perintah print untuk menampilkan baris\n",
        "  for kolom in baris:     #akan menampilkan kolom pada baris di atas\n",
        "    print (kolom)         #gunakan perintah print untuk menampilkan kolom\n",
        "\n",
        "#karena ini merupakan list maka yang ditampilkan adalah perubahan pada matrik yang dilakukan terakhir "
      ]
    },
    {
      "cell_type": "markdown",
      "metadata": {
        "id": "NeGAhQ9A-oac"
      },
      "source": [
        "Kesimpulan:\n",
        "\n",
        "List memiliki keistimewaan dimana kita bebas mendefinisikan atau membuat berapa elemen dari setiap baris.\n",
        "Hal ini tentunya akan memudahkan kita saat membuat program yang lebih kompleks."
      ]
    },
    {
      "cell_type": "code",
      "execution_count": 138,
      "metadata": {
        "colab": {
          "base_uri": "https://localhost:8080/"
        },
        "id": "GOLkFmqI-Aoy",
        "outputId": "fa2af48e-449b-4132-a46f-edad01dafaf5"
      },
      "outputs": [
        {
          "output_type": "stream",
          "name": "stdout",
          "text": [
            "[['baju', 'tas', 'boneka'], ['sepatu', 'topi', 'sarung'], ['celana', 'rok', 'peci'], ['sandal', 'kacamata', 'kerudung'], ['jaket', 'masker', 'sajadah'], ['daster', 'gamis', 'tasbih']]\n"
          ]
        }
      ],
      "source": [
        "#kita akan membuat list barang apa saja yang ada di toko diska\n",
        "\n",
        "barang = [\n",
        "    ['baju', 'tas', 'boneka'],\n",
        "    ['sepatu', 'topi', 'sarung'],\n",
        "    ['celana', 'rok', 'peci'],\n",
        "    ['sandal', 'kacamata', 'kerudung'],\n",
        "    ['jaket', 'masker', 'sajadah'],\n",
        "    ['daster', 'gamis', 'tasbih'],\n",
        "]\n",
        "#jangan lupa untuk menambahkan '' pada sebelum dan setelah menulis list, karena akan eror apabila tidak ditambah ''\n",
        "#akan menampilkan elemen dari keseluruhan barang\n",
        "print (barang)"
      ]
    },
    {
      "cell_type": "code",
      "execution_count": 139,
      "metadata": {
        "colab": {
          "base_uri": "https://localhost:8080/"
        },
        "id": "4WEZd_ADCtQX",
        "outputId": "7e392818-16e1-4e2f-b4f2-065ae24ad707"
      },
      "outputs": [
        {
          "output_type": "stream",
          "name": "stdout",
          "text": [
            "['baju', 'tas', 'boneka']\n"
          ]
        }
      ],
      "source": [
        "#mencoba memanggil/menampilkan beberapa elemen dari barang\n",
        "#gunakan perintah print untuk menampilkan hasil\n",
        "#barang tidak perlu ditulis lagi karena ini merupakan lanjutan\n",
        "print (barang[0])\n",
        "#maksudnya adalah menampilkan elemen pada baris ke 0 yang ada di barang"
      ]
    },
    {
      "cell_type": "code",
      "execution_count": 140,
      "metadata": {
        "colab": {
          "base_uri": "https://localhost:8080/"
        },
        "id": "TWW5JeFkE-Jp",
        "outputId": "16f8640d-2f73-44b6-af64-d70be4bdaefc"
      },
      "outputs": [
        {
          "output_type": "stream",
          "name": "stdout",
          "text": [
            "['daster', 'gamis', 'tasbih']\n"
          ]
        }
      ],
      "source": [
        "print (barang[-1])\n",
        "#menampilkan elemen pada baris ke 1 dari belakang"
      ]
    },
    {
      "cell_type": "code",
      "execution_count": 141,
      "metadata": {
        "colab": {
          "base_uri": "https://localhost:8080/"
        },
        "id": "KYV2o_e1FQvf",
        "outputId": "dabf906c-50f3-4cf0-c7b0-4cc0d4db144a"
      },
      "outputs": [
        {
          "output_type": "stream",
          "name": "stdout",
          "text": [
            "celana\n"
          ]
        }
      ],
      "source": [
        "print (barang[2][0])\n",
        "#menampilkan elemen pada baris ke 2 kolom ke 0"
      ]
    },
    {
      "cell_type": "code",
      "execution_count": 142,
      "metadata": {
        "colab": {
          "base_uri": "https://localhost:8080/"
        },
        "id": "tc5jaSJSGCpg",
        "outputId": "910670bd-16aa-4996-f57c-dabf7627e4b8"
      },
      "outputs": [
        {
          "output_type": "stream",
          "name": "stdout",
          "text": [
            "[['baju', 'tas', 'boneka'], ['sepatu', 'topi', 'sarung'], ['celana', 'rok', 'peci'], ['sandal', 'kacamata', 'kerudung'], ['jaket', 'masker', 'sajadah'], ['daster', 'gamis', 'tasbih']]\n"
          ]
        }
      ],
      "source": [
        "print (barang)\n",
        "#tetap tidak merubah list yang telah dibuat di awal tadi"
      ]
    },
    {
      "cell_type": "code",
      "execution_count": 143,
      "metadata": {
        "colab": {
          "base_uri": "https://localhost:8080/"
        },
        "id": "Nb3QgY6mL7Q1",
        "outputId": "f5f9636c-3d91-48a9-dc3b-ce8f4a4e0f94"
      },
      "outputs": [
        {
          "output_type": "stream",
          "name": "stdout",
          "text": [
            "['baju', 'tas', 'boneka']\n",
            "baju\n",
            "tas\n",
            "boneka\n",
            "['sepatu', 'topi', 'sarung']\n",
            "sepatu\n",
            "topi\n",
            "sarung\n",
            "['celana', 'rok', 'peci']\n",
            "celana\n",
            "rok\n",
            "peci\n",
            "['sandal', 'kacamata', 'kerudung']\n",
            "sandal\n",
            "kacamata\n",
            "kerudung\n",
            "['jaket', 'masker', 'sajadah']\n",
            "jaket\n",
            "masker\n",
            "sajadah\n",
            "['daster', 'gamis', 'tasbih']\n",
            "daster\n",
            "gamis\n",
            "tasbih\n"
          ]
        }
      ],
      "source": [
        "#saya akan memanggil elemen barang\n",
        "\n",
        "for baris in barang:      #akan menampilkan baris pada barang di atas\n",
        "  print (baris)           #gunakan perintah print untuk menampilkan baris\n",
        "  for kolom in baris:     #akan menampilkan kolom pada baris di atas\n",
        "    print (kolom)         #gunakan perintah print untuk menampilkan kolom\n",
        "\n",
        "#karena ini merupakan list maka yang ditampilkan adalah perubahan pada barang yang dilakukan terakhir "
      ]
    },
    {
      "cell_type": "markdown",
      "metadata": {
        "id": "NQDTeBG3Gvvb"
      },
      "source": [
        "# **5.17 Tuples**\n",
        "\n",
        "Tuples sebenarnya mirip dengan list, akan tetapi yang membedakannya adalah tuples tidak dapat dirubah isinya."
      ]
    },
    {
      "cell_type": "code",
      "execution_count": 144,
      "metadata": {
        "colab": {
          "base_uri": "https://localhost:8080/"
        },
        "id": "W5L98G8TGZ3W",
        "outputId": "00562e04-209f-44ea-ad19-a5b44064c7b8"
      },
      "outputs": [
        {
          "output_type": "stream",
          "name": "stdout",
          "text": [
            "('mipa', 'kedokteran', 'teknik', 'hukum', 'pariwisata', 'peternakan')\n"
          ]
        }
      ],
      "source": [
        "#LATIHAN 1\n",
        "#saya akan menampilkan beberapa fakultas yang ada di universitas udayana\n",
        "\n",
        "fakultas = ('mipa', 'kedokteran', 'teknik', 'hukum', 'pariwisata', 'peternakan')\n",
        "#tuples diawali dan ditutup dengan tanda kurung buka dan memisahkan setiap elemen di dalamnya dengan menggunakan koma\n",
        "#apabila tidak menggunakan tanda kurung buka dan koma, maka akan error\n",
        "print (fakultas)\n",
        "#menggunakan perintah print agar fakultas dapat ditampilkan"
      ]
    },
    {
      "cell_type": "code",
      "execution_count": 145,
      "metadata": {
        "colab": {
          "base_uri": "https://localhost:8080/"
        },
        "id": "L5xJFMA2O2Qw",
        "outputId": "814c54a2-ae2c-4945-8577-86917cf5d6ee"
      },
      "outputs": [
        {
          "output_type": "stream",
          "name": "stdout",
          "text": [
            "peternakan\n"
          ]
        }
      ],
      "source": [
        "print (fakultas[5])\n",
        "#menampilkan elemen di urutan ke 5"
      ]
    },
    {
      "cell_type": "code",
      "execution_count": 146,
      "metadata": {
        "colab": {
          "base_uri": "https://localhost:8080/"
        },
        "id": "vfuzBjxqP9bW",
        "outputId": "2b9de72d-c774-4ad1-caff-1ecf49618595"
      },
      "outputs": [
        {
          "output_type": "stream",
          "name": "stdout",
          "text": [
            "('kedokteran', 'teknik')\n"
          ]
        }
      ],
      "source": [
        "print (fakultas[1:3])\n",
        "#ini maksudnya menampilkan elemen dari urutan ke 1 hingga ke urutan ke 2, urutan ke 3 tidak ikut\n"
      ]
    },
    {
      "cell_type": "code",
      "execution_count": 147,
      "metadata": {
        "colab": {
          "base_uri": "https://localhost:8080/",
          "height": 235
        },
        "id": "Fo8EtjPsQsiK",
        "outputId": "d430d312-4f28-42eb-b786-ef96c90d516d"
      },
      "outputs": [
        {
          "output_type": "error",
          "ename": "TypeError",
          "evalue": "ignored",
          "traceback": [
            "\u001b[0;31m---------------------------------------------------------------------------\u001b[0m",
            "\u001b[0;31mTypeError\u001b[0m                                 Traceback (most recent call last)",
            "\u001b[0;32m<ipython-input-147-1ca3a28e82bf>\u001b[0m in \u001b[0;36m<cell line: 3>\u001b[0;34m()\u001b[0m\n\u001b[1;32m      1\u001b[0m \u001b[0;31m#saya akan mencoba membuat perubahan pada elemen fakultas\u001b[0m\u001b[0;34m\u001b[0m\u001b[0;34m\u001b[0m\u001b[0m\n\u001b[1;32m      2\u001b[0m \u001b[0;34m\u001b[0m\u001b[0m\n\u001b[0;32m----> 3\u001b[0;31m \u001b[0mfakultas\u001b[0m\u001b[0;34m[\u001b[0m\u001b[0;36m5\u001b[0m\u001b[0;34m]\u001b[0m \u001b[0;34m=\u001b[0m \u001b[0;34m(\u001b[0m\u001b[0;34m'pertanian'\u001b[0m\u001b[0;34m)\u001b[0m     \u001b[0;31m#ini artinya, urutan ke 5 akan diubah menjadi pertanian\u001b[0m\u001b[0;34m\u001b[0m\u001b[0;34m\u001b[0m\u001b[0m\n\u001b[0m\u001b[1;32m      4\u001b[0m \u001b[0;31m#error karena tuple tidak dapat dirubah isinya/elemennya\u001b[0m\u001b[0;34m\u001b[0m\u001b[0;34m\u001b[0m\u001b[0m\n",
            "\u001b[0;31mTypeError\u001b[0m: 'tuple' object does not support item assignment"
          ]
        }
      ],
      "source": [
        "#saya akan mencoba membuat perubahan pada elemen fakultas\n",
        "\n",
        "fakultas[5] = ('pertanian')     #ini artinya, urutan ke 5 akan diubah menjadi pertanian\n",
        "#error karena tuple tidak dapat dirubah isinya/elemennya"
      ]
    },
    {
      "cell_type": "code",
      "execution_count": 148,
      "metadata": {
        "colab": {
          "base_uri": "https://localhost:8080/",
          "height": 200
        },
        "id": "URblyu_lRlEF",
        "outputId": "0d88048c-0106-449f-a1db-d150c5d0cf5f"
      },
      "outputs": [
        {
          "output_type": "error",
          "ename": "AttributeError",
          "evalue": "ignored",
          "traceback": [
            "\u001b[0;31m---------------------------------------------------------------------------\u001b[0m",
            "\u001b[0;31mAttributeError\u001b[0m                            Traceback (most recent call last)",
            "\u001b[0;32m<ipython-input-148-2c221d29ad15>\u001b[0m in \u001b[0;36m<cell line: 1>\u001b[0;34m()\u001b[0m\n\u001b[0;32m----> 1\u001b[0;31m \u001b[0mfakultas\u001b[0m\u001b[0;34m.\u001b[0m\u001b[0mremove\u001b[0m\u001b[0;34m(\u001b[0m\u001b[0;34m'teknik'\u001b[0m\u001b[0;34m)\u001b[0m        \u001b[0;31m#remove artinya kita akan menghapus elemen teknik\u001b[0m\u001b[0;34m\u001b[0m\u001b[0;34m\u001b[0m\u001b[0m\n\u001b[0m\u001b[1;32m      2\u001b[0m \u001b[0;31m#ini error karena tuple tidak dapat dirubah isinya/elemennya\u001b[0m\u001b[0;34m\u001b[0m\u001b[0;34m\u001b[0m\u001b[0m\n",
            "\u001b[0;31mAttributeError\u001b[0m: 'tuple' object has no attribute 'remove'"
          ]
        }
      ],
      "source": [
        "fakultas.remove('teknik')        #remove artinya kita akan menghapus elemen teknik\n",
        "#ini error karena tuple tidak dapat dirubah isinya/elemennya\n"
      ]
    },
    {
      "cell_type": "code",
      "execution_count": 149,
      "metadata": {
        "colab": {
          "base_uri": "https://localhost:8080/",
          "height": 217
        },
        "id": "521BjEiKSYQa",
        "outputId": "7f9a5295-bada-4317-fa34-32d4e747b20b"
      },
      "outputs": [
        {
          "output_type": "error",
          "ename": "AttributeError",
          "evalue": "ignored",
          "traceback": [
            "\u001b[0;31m---------------------------------------------------------------------------\u001b[0m",
            "\u001b[0;31mAttributeError\u001b[0m                            Traceback (most recent call last)",
            "\u001b[0;32m<ipython-input-149-daee0fafd4e8>\u001b[0m in \u001b[0;36m<cell line: 1>\u001b[0;34m()\u001b[0m\n\u001b[0;32m----> 1\u001b[0;31m \u001b[0mfakultas\u001b[0m\u001b[0;34m.\u001b[0m\u001b[0mappend\u001b[0m\u001b[0;34m(\u001b[0m\u001b[0;34m'kedokteran_gigi'\u001b[0m\u001b[0;34m)\u001b[0m   \u001b[0;31m#append berguna untuk menambahkan objek ke list\u001b[0m\u001b[0;34m\u001b[0m\u001b[0;34m\u001b[0m\u001b[0m\n\u001b[0m\u001b[1;32m      2\u001b[0m \u001b[0;31m#error karena elemen tuple tidak dapat diubah, diganti, maupun ditambahkan\u001b[0m\u001b[0;34m\u001b[0m\u001b[0;34m\u001b[0m\u001b[0m\n",
            "\u001b[0;31mAttributeError\u001b[0m: 'tuple' object has no attribute 'append'"
          ]
        }
      ],
      "source": [
        "fakultas.append('kedokteran_gigi')   #append berguna untuk menambahkan objek ke list\n",
        "#error karena elemen tuple tidak dapat diubah, diganti, maupun ditambahkan"
      ]
    },
    {
      "cell_type": "code",
      "execution_count": 150,
      "metadata": {
        "colab": {
          "base_uri": "https://localhost:8080/",
          "height": 200
        },
        "id": "tFqsHnQHSpNR",
        "outputId": "7aad7310-28f9-4316-800c-86e284c4af9e"
      },
      "outputs": [
        {
          "output_type": "error",
          "ename": "AttributeError",
          "evalue": "ignored",
          "traceback": [
            "\u001b[0;31m---------------------------------------------------------------------------\u001b[0m",
            "\u001b[0;31mAttributeError\u001b[0m                            Traceback (most recent call last)",
            "\u001b[0;32m<ipython-input-150-1ae81a704481>\u001b[0m in \u001b[0;36m<cell line: 1>\u001b[0;34m()\u001b[0m\n\u001b[0;32m----> 1\u001b[0;31m \u001b[0mfakultas\u001b[0m\u001b[0;34m.\u001b[0m\u001b[0mupper\u001b[0m\u001b[0;34m(\u001b[0m\u001b[0;34m'peternakan'\u001b[0m\u001b[0;34m)\u001b[0m     \u001b[0;31m#upper maksudnya memperbesar huruf pada elemen peternakan\u001b[0m\u001b[0;34m\u001b[0m\u001b[0;34m\u001b[0m\u001b[0m\n\u001b[0m\u001b[1;32m      2\u001b[0m \u001b[0;31m#error karena isi/elemen tuple tidak dapat diubah\u001b[0m\u001b[0;34m\u001b[0m\u001b[0;34m\u001b[0m\u001b[0m\n",
            "\u001b[0;31mAttributeError\u001b[0m: 'tuple' object has no attribute 'upper'"
          ]
        }
      ],
      "source": [
        "fakultas.upper('peternakan')     #upper maksudnya memperbesar huruf pada elemen peternakan\n",
        "#error karena isi/elemen tuple tidak dapat diubah"
      ]
    },
    {
      "cell_type": "code",
      "execution_count": 151,
      "metadata": {
        "colab": {
          "base_uri": "https://localhost:8080/"
        },
        "id": "_CC9daAFS516",
        "outputId": "1c856ae6-5a42-409f-cc54-1cf5d987bf7e"
      },
      "outputs": [
        {
          "output_type": "execute_result",
          "data": {
            "text/plain": [
              "0"
            ]
          },
          "metadata": {},
          "execution_count": 151
        }
      ],
      "source": [
        "fakultas.count('ilmu_budaya')     #ini maksudnya menghitung ada berapa elemen ilmu budaya di fakultas\n",
        "#oleh karena itu, ilmu budaya di fakultas adalah 0, karena ilmu budaya bukan elemen"
      ]
    },
    {
      "cell_type": "code",
      "execution_count": 152,
      "metadata": {
        "colab": {
          "base_uri": "https://localhost:8080/"
        },
        "id": "tKK2uQ5ATG_i",
        "outputId": "5f9661ee-1bf7-41d7-98b6-9d83d8f74b02"
      },
      "outputs": [
        {
          "output_type": "execute_result",
          "data": {
            "text/plain": [
              "1"
            ]
          },
          "metadata": {},
          "execution_count": 152
        }
      ],
      "source": [
        "fakultas.count('mipa')       #ini maksudnya menghitung ada berapa elemen mipa di fakultas\n",
        "#oleh karena itu, elemen mipa di fakultas hanya ada satu"
      ]
    },
    {
      "cell_type": "code",
      "execution_count": 153,
      "metadata": {
        "colab": {
          "base_uri": "https://localhost:8080/"
        },
        "id": "eo2QJ4Zdfymw",
        "outputId": "93914bad-5fd8-42d3-84e5-3e5b6418afde"
      },
      "outputs": [
        {
          "output_type": "execute_result",
          "data": {
            "text/plain": [
              "6"
            ]
          },
          "metadata": {},
          "execution_count": 153
        }
      ],
      "source": [
        "#mencari panjang dari fakultas\n",
        "len(fakultas) \n",
        "#maka diperoleh panjang dari fakultas adalah 6"
      ]
    },
    {
      "cell_type": "code",
      "execution_count": 154,
      "metadata": {
        "colab": {
          "base_uri": "https://localhost:8080/"
        },
        "id": "91NxfFcOhP78",
        "outputId": "adf7b4d5-cfee-48e4-dce2-be5980d83c43"
      },
      "outputs": [
        {
          "output_type": "stream",
          "name": "stdout",
          "text": [
            "mipa\n",
            "kedokteran\n",
            "teknik\n",
            "hukum\n",
            "pariwisata\n",
            "peternakan\n"
          ]
        }
      ],
      "source": [
        "#coba memanggil semua elemen pada fakultas \n",
        "\n",
        "for i in fakultas:\n",
        "  print (i)"
      ]
    },
    {
      "cell_type": "code",
      "execution_count": 155,
      "metadata": {
        "colab": {
          "base_uri": "https://localhost:8080/"
        },
        "id": "Cq_1nJFryJq5",
        "outputId": "0f394bc1-d0b2-4893-f35c-9929a15be5b0"
      },
      "outputs": [
        {
          "output_type": "stream",
          "name": "stdout",
          "text": [
            "(1, 3, 5, 7, 9, 11, 13, 15, 17, 19)\n"
          ]
        }
      ],
      "source": [
        "#LATIHAN 2\n",
        "#saya akan membuat tuple dengan elemen bilangan ganjil\n",
        "\n",
        "#tulis elemen-elemen ganjil\n",
        "ganjil = (1, 3, 5, 7, 9, 11, 13, 15, 17, 19)\n",
        "print (ganjil)\n",
        "#gunakan perintah print agar ditampilkan"
      ]
    },
    {
      "cell_type": "code",
      "execution_count": 156,
      "metadata": {
        "colab": {
          "base_uri": "https://localhost:8080/"
        },
        "id": "COEsY5l4yaIq",
        "outputId": "d22db612-e10a-49aa-b9fe-71b3bc0119b7"
      },
      "outputs": [
        {
          "output_type": "execute_result",
          "data": {
            "text/plain": [
              "19"
            ]
          },
          "metadata": {},
          "execution_count": 156
        }
      ],
      "source": [
        "#menentukan nilai maksimum\n",
        "#nilai maksimum adalah nilai ganjil pada urutan paling belakang\n",
        "#maka diperoleh hasilnya 19\n",
        "max (ganjil)"
      ]
    },
    {
      "cell_type": "code",
      "execution_count": 157,
      "metadata": {
        "colab": {
          "base_uri": "https://localhost:8080/"
        },
        "id": "D4T5evaHygYO",
        "outputId": "1c96fd36-c0a9-4efd-8c3b-3d50a8821a53"
      },
      "outputs": [
        {
          "output_type": "execute_result",
          "data": {
            "text/plain": [
              "1"
            ]
          },
          "metadata": {},
          "execution_count": 157
        }
      ],
      "source": [
        "#menentukan nilai minimum\n",
        "#nilai minimum adalah nilai ganjil pada urutan paling depan\n",
        "#maka diperoleh hasilnya 1\n",
        "min (ganjil)"
      ]
    },
    {
      "cell_type": "code",
      "execution_count": 158,
      "metadata": {
        "colab": {
          "base_uri": "https://localhost:8080/"
        },
        "id": "WLCOAaD4ymiR",
        "outputId": "b72b5f3f-96c4-4c77-aaa7-9facf44661cc"
      },
      "outputs": [
        {
          "output_type": "execute_result",
          "data": {
            "text/plain": [
              "100"
            ]
          },
          "metadata": {},
          "execution_count": 158
        }
      ],
      "source": [
        "#menentukan jumlah\n",
        "#jumlah yang ditentukan adalah jumlah dari elemen ganjil\n",
        "sum (ganjil)"
      ]
    },
    {
      "cell_type": "code",
      "execution_count": 159,
      "metadata": {
        "colab": {
          "base_uri": "https://localhost:8080/"
        },
        "id": "CjfmlFkfyzXd",
        "outputId": "706f194f-5f6a-4149-dd5e-1a416bb1814e"
      },
      "outputs": [
        {
          "output_type": "execute_result",
          "data": {
            "text/plain": [
              "(3, 5, 7, 9)"
            ]
          },
          "metadata": {},
          "execution_count": 159
        }
      ],
      "source": [
        "#menampilkan elemen ganjil urutan ke print 1 sampai 5\n",
        "#dengan 1 kurang dari 5\n",
        "#artinya, 1 dan 5 tidak tergolong / tiak ikut\n",
        "(ganjil[1:5])"
      ]
    },
    {
      "cell_type": "code",
      "execution_count": 160,
      "metadata": {
        "colab": {
          "base_uri": "https://localhost:8080/",
          "height": 200
        },
        "id": "gN77FvXL0TY5",
        "outputId": "282b8dcd-f58a-45cb-f716-a6a0604b0025"
      },
      "outputs": [
        {
          "output_type": "error",
          "ename": "IndexError",
          "evalue": "ignored",
          "traceback": [
            "\u001b[0;31m---------------------------------------------------------------------------\u001b[0m",
            "\u001b[0;31mIndexError\u001b[0m                                Traceback (most recent call last)",
            "\u001b[0;32m<ipython-input-160-eae4a66d7f6e>\u001b[0m in \u001b[0;36m<cell line: 3>\u001b[0;34m()\u001b[0m\n\u001b[1;32m      1\u001b[0m \u001b[0;31m#menampilkan elemen ganjil pada urutan ke 10\u001b[0m\u001b[0;34m\u001b[0m\u001b[0;34m\u001b[0m\u001b[0m\n\u001b[1;32m      2\u001b[0m \u001b[0;31m#sudah pasti tidak ada, karena itu hasilnya error\u001b[0m\u001b[0;34m\u001b[0m\u001b[0;34m\u001b[0m\u001b[0m\n\u001b[0;32m----> 3\u001b[0;31m \u001b[0mprint\u001b[0m \u001b[0;34m(\u001b[0m\u001b[0mganjil\u001b[0m\u001b[0;34m[\u001b[0m\u001b[0;36m10\u001b[0m\u001b[0;34m]\u001b[0m\u001b[0;34m)\u001b[0m\u001b[0;34m\u001b[0m\u001b[0;34m\u001b[0m\u001b[0m\n\u001b[0m",
            "\u001b[0;31mIndexError\u001b[0m: tuple index out of range"
          ]
        }
      ],
      "source": [
        "#menampilkan elemen ganjil pada urutan ke 10\n",
        "#sudah pasti tidak ada, karena itu hasilnya error\n",
        "print (ganjil[10])"
      ]
    },
    {
      "cell_type": "code",
      "execution_count": null,
      "metadata": {
        "id": "JGmGDsLc1bqj"
      },
      "outputs": [],
      "source": [
        "#coba tampikan tuple sekarang\n",
        "\n",
        "for bilangan in ganjil:\n",
        "  print (bilangan)\n",
        "  #menggunakan perintah print agar dapat ditampilkan\n",
        "#elemen tetap dan tidak ada yang berubah maupun bertambah\n",
        "#elemen ditampilkan dalam bentuk vertikal"
      ]
    },
    {
      "cell_type": "markdown",
      "metadata": {
        "id": "8TuLXsFR3Mst"
      },
      "source": [
        "## **5.18 Dictionaries**\n",
        "\n",
        "Merupakan data yang satu sama lainnya berkaitan.\n",
        "\n",
        "memahami dictionaries, kita akan melihat kembali phyton list"
      ]
    },
    {
      "cell_type": "code",
      "execution_count": 161,
      "metadata": {
        "id": "RJMEjZBV2Q5c"
      },
      "outputs": [],
      "source": [
        "#LATIHAN 1\n",
        "#akan menampilkan data saya \n",
        "\n",
        "#mengisi data saya yang terdiri dari nama, nim, instansi, fakultas, prodi, alamat tinggal dan alamat asal\n",
        "data_saya = {\n",
        "    'nama': 'Diska Audian Maharani',\n",
        "    'nim' : 2208541036,\n",
        "    'instansi': 'Universitas Udayana',\n",
        "    'fakultas': 'MIPA',\n",
        "    'prodi': 'Matematika',\n",
        "    'alamat_tinggal':'gang Melati Jimbaran',\n",
        "    'alamat_asal':'Situbondo Jawa Timur',\n",
        "}\n"
      ]
    },
    {
      "cell_type": "code",
      "execution_count": 162,
      "metadata": {
        "colab": {
          "base_uri": "https://localhost:8080/"
        },
        "id": "-frdeF3279h2",
        "outputId": "c5999011-10a0-4153-9e5b-e4d29e7fff23"
      },
      "outputs": [
        {
          "output_type": "stream",
          "name": "stdout",
          "text": [
            "Diska Audian Maharani\n"
          ]
        }
      ],
      "source": [
        "#menampilkan 'nama' pada data saya\n",
        "#menggunakan perintah print untuk menampilkan\n",
        "print (data_saya['nama'])"
      ]
    },
    {
      "cell_type": "code",
      "execution_count": 163,
      "metadata": {
        "colab": {
          "base_uri": "https://localhost:8080/",
          "height": 200
        },
        "id": "9hE_k2_lm6ii",
        "outputId": "75285baf-9c3b-49d3-9674-ce5cf773c625"
      },
      "outputs": [
        {
          "output_type": "error",
          "ename": "KeyError",
          "evalue": "ignored",
          "traceback": [
            "\u001b[0;31m---------------------------------------------------------------------------\u001b[0m",
            "\u001b[0;31mKeyError\u001b[0m                                  Traceback (most recent call last)",
            "\u001b[0;32m<ipython-input-163-7ec45cf49193>\u001b[0m in \u001b[0;36m<cell line: 1>\u001b[0;34m()\u001b[0m\n\u001b[0;32m----> 1\u001b[0;31m \u001b[0mprint\u001b[0m \u001b[0;34m(\u001b[0m\u001b[0mdata_saya\u001b[0m\u001b[0;34m[\u001b[0m\u001b[0;34m'Nama'\u001b[0m\u001b[0;34m]\u001b[0m\u001b[0;34m)\u001b[0m\u001b[0;34m\u001b[0m\u001b[0;34m\u001b[0m\u001b[0m\n\u001b[0m\u001b[1;32m      2\u001b[0m \u001b[0;31m#ini error karena kata 'Nama' tidak sesuai dengan yang ada pada data_saya\u001b[0m\u001b[0;34m\u001b[0m\u001b[0;34m\u001b[0m\u001b[0m\n\u001b[1;32m      3\u001b[0m \u001b[0;31m#yang benar adalah 'nama' seperti yang telah ditunjukkan di atas\u001b[0m\u001b[0;34m\u001b[0m\u001b[0;34m\u001b[0m\u001b[0m\n",
            "\u001b[0;31mKeyError\u001b[0m: 'Nama'"
          ]
        }
      ],
      "source": [
        "print (data_saya['Nama'])\n",
        "#ini error karena kata 'Nama' tidak sesuai dengan yang ada pada data_saya\n",
        "#yang benar adalah 'nama' seperti yang telah ditunjukkan di atas"
      ]
    },
    {
      "cell_type": "code",
      "execution_count": 164,
      "metadata": {
        "colab": {
          "base_uri": "https://localhost:8080/"
        },
        "id": "GdEsJGVN80_-",
        "outputId": "181144aa-34f6-4c23-bf9b-f850a5d010f3"
      },
      "outputs": [
        {
          "output_type": "stream",
          "name": "stdout",
          "text": [
            "Diska Audian Maharani\n"
          ]
        }
      ],
      "source": [
        "#akan menampilkan data nama yang ada di data saya\n",
        "print (data_saya.get('nama'))"
      ]
    },
    {
      "cell_type": "code",
      "execution_count": 165,
      "metadata": {
        "colab": {
          "base_uri": "https://localhost:8080/"
        },
        "id": "peLEwAo3px2H",
        "outputId": "dbce4e7f-611e-420a-fca8-4d75585acc9a"
      },
      "outputs": [
        {
          "output_type": "stream",
          "name": "stdout",
          "text": [
            "None\n"
          ]
        }
      ],
      "source": [
        "#akan menampilkan data nama yang ada di data saya\n",
        "print (data_saya.get('Nama'))\n",
        "#data nama yang ditampilkan tidak ada karena kata 'Nama' tidak sesuai dengan yang ada di data saya\n",
        "#oleh karena itu dia menghasilkan none"
      ]
    },
    {
      "cell_type": "code",
      "execution_count": 166,
      "metadata": {
        "colab": {
          "base_uri": "https://localhost:8080/"
        },
        "id": "4yT6ptInrFek",
        "outputId": "c88c944a-ff4c-4d21-ee5b-786b760868b3"
      },
      "outputs": [
        {
          "output_type": "stream",
          "name": "stdout",
          "text": [
            "None\n"
          ]
        }
      ],
      "source": [
        "#akan menampilkan tanggal lahir\n",
        "print(data_saya.get('tanggal_lahir'))\n",
        "#data tanggal lahir yang ditampilkan tidak ada karena tanggal lahir bukan merupakan elemen dari data saya\n",
        "#sehingga dia menghasilkan none"
      ]
    },
    {
      "cell_type": "code",
      "execution_count": 167,
      "metadata": {
        "colab": {
          "base_uri": "https://localhost:8080/"
        },
        "id": "EYftoPU9sDgw",
        "outputId": "b38171cb-66c2-4aae-8008-81f4b3d9f821"
      },
      "outputs": [
        {
          "output_type": "stream",
          "name": "stdout",
          "text": [
            "23-08-2003\n"
          ]
        }
      ],
      "source": [
        "#akan menampilkan tanggal lahir\n",
        "print(data_saya.get('tanggal_lahir', '23-08-2003'))\n",
        "#data tanggal lahir dapat ditampilkan karena telah ditambahkan tanggal lahir pada print di atas\n",
        "#sehingga dia dapat ditampilkan"
      ]
    },
    {
      "cell_type": "code",
      "execution_count": 168,
      "metadata": {
        "colab": {
          "base_uri": "https://localhost:8080/"
        },
        "id": "cBF9gIJJsub8",
        "outputId": "ea961e68-d8b4-4feb-a3c8-2f0b37e99744"
      },
      "outputs": [
        {
          "output_type": "stream",
          "name": "stdout",
          "text": [
            "{'nama': 'Diska Audian Maharani', 'nim': 2208541036, 'instansi': 'Universitas Udayana', 'fakultas': 'MIPA', 'prodi': 'Matematika', 'alamat_tinggal': 'gang Melati Jimbaran', 'alamat_asal': 'Situbondo Jawa Timur'}\n"
          ]
        }
      ],
      "source": [
        "#setelah menampilkan tanggal lahir, kita mencoba melihat data saya, apakah tetap atau berisi tanggal lahir\n",
        "\n",
        "print (data_saya)\n",
        "#ternyata, data saya tetap seperti di awal tanpa ada penambahan tanggal lahir\n",
        "#karena pada tanggal lahir di atas hanya berfungsi menampilkan saja"
      ]
    },
    {
      "cell_type": "code",
      "execution_count": 169,
      "metadata": {
        "colab": {
          "base_uri": "https://localhost:8080/"
        },
        "id": "Dlvr3CXfA7Mj",
        "outputId": "3d473fcd-9f3a-4e93-8195-d71348e84e7b"
      },
      "outputs": [
        {
          "output_type": "stream",
          "name": "stdout",
          "text": [
            "085432789654\n"
          ]
        }
      ],
      "source": [
        "#coba menambahkan nomor hp pada data_saya\n",
        "data_saya['nomor_hp'] = '085432789654' \n",
        "print (data_saya['nomor_hp'])\n",
        "#gunakan perintah print agar dapat menampilkan nomor hp"
      ]
    },
    {
      "cell_type": "code",
      "execution_count": 170,
      "metadata": {
        "colab": {
          "base_uri": "https://localhost:8080/"
        },
        "id": "5UI-E9x0xdd6",
        "outputId": "c07edadd-53cc-467c-f098-e8d350a2b8fe"
      },
      "outputs": [
        {
          "output_type": "stream",
          "name": "stdout",
          "text": [
            "23-08-2003\n"
          ]
        }
      ],
      "source": [
        "#coba menambahkan nomor hp pada data_saya\n",
        "data_saya['tanggal_lahir'] = '23-08-2003'\n",
        "print (data_saya['tanggal_lahir'])\n",
        "#gunakan perintah print agar dapat menampilkan tanggal lahir"
      ]
    },
    {
      "cell_type": "code",
      "execution_count": 171,
      "metadata": {
        "colab": {
          "base_uri": "https://localhost:8080/"
        },
        "id": "4uzAwRM9xFl8",
        "outputId": "117de0b9-b1e5-445c-cf95-a7c5b85b8184"
      },
      "outputs": [
        {
          "output_type": "stream",
          "name": "stdout",
          "text": [
            "{'nama': 'Diska Audian Maharani', 'nim': 2208541036, 'instansi': 'Universitas Udayana', 'fakultas': 'MIPA', 'prodi': 'Matematika', 'alamat_tinggal': 'gang Melati Jimbaran', 'alamat_asal': 'Situbondo Jawa Timur', 'nomor_hp': '085432789654', 'tanggal_lahir': '23-08-2003'}\n"
          ]
        }
      ],
      "source": [
        "#saya mencoba menambahkan nomor hp dan tanggal lahir pada data_saya\n",
        "\n",
        "print (data_saya)\n",
        "#nomor hp dan tanggal lahir bisa ditambahkan di dalam list data_saya\n",
        "#karena pada nomor hp dan tanggal lahir di atas berfungsi untuk menambah list dalam data_saya"
      ]
    },
    {
      "cell_type": "code",
      "execution_count": 174,
      "metadata": {
        "id": "OGd-fO6NDxuy"
      },
      "outputs": [],
      "source": [
        "#membuat program untuk merubah nim yang tadinya berupa angka menjadi sebutan bilangan tersebut.\n",
        "#angka menjadi sebutan bilangannya sendiri\n",
        "angka = {\n",
        "    '0': 'nol',\n",
        "    '1': 'satu',\n",
        "    '2': 'dua',\n",
        "    '3': 'tiga',\n",
        "    '4': 'empat',\n",
        "    '5': 'lima',\n",
        "    '6': 'enam',\n",
        "    '7': 'tujuh',\n",
        "    '8': 'delapan',\n",
        "    '9': 'sembilan'\n",
        "}\n",
        "\n",
        "#jangan lupa untuk menambahkan koma di akhir, karena kalau lupa maka akan eror"
      ]
    },
    {
      "cell_type": "code",
      "execution_count": 175,
      "metadata": {
        "colab": {
          "base_uri": "https://localhost:8080/"
        },
        "id": "yqM-CpExE4d5",
        "outputId": "9e033f2d-e1a4-4ad0-c957-36372024d866"
      },
      "outputs": [
        {
          "output_type": "stream",
          "name": "stdout",
          "text": [
            "Masukkan nim anda 2208541036\n",
            "2208541036dua dua nol delapan lima empat satu nol tiga enam \n"
          ]
        }
      ],
      "source": [
        "nim = input ('Masukkan nim anda ')      #berfungsi untuk menampilkan nilai nim anda\n",
        "nim_angka = ' '                         #menampilkan nim dalam bentuk angka\n",
        "for isi in nim:                         \n",
        "  nim += angka.get(isi) + ' '           #menampilkan nim berupa angka dan sebutan billangannya\n",
        "print(nim )                             #gunakan perintah print untuk menampilkan semuanya"
      ]
    },
    {
      "cell_type": "markdown",
      "metadata": {
        "id": "u3ZiNGwJ7XYN"
      },
      "source": [
        "# **5.19 Fungsi Dalam Python**\n",
        "\n",
        "Pada dasarnya, fungsi dibentuk untuk menghindari pengulangan pembuatan program secara manual.\n",
        "\n",
        "Gunakan fungsi untuk mempermudah dan meringkas program yang kita buat."
      ]
    },
    {
      "cell_type": "code",
      "execution_count": 176,
      "metadata": {
        "id": "Bdyw08S0_wmA"
      },
      "outputs": [],
      "source": [
        "#LATIHAN 1\n",
        "\n",
        "#membuat perintah untuk penginputan nama depan,tengah dan belakang\n",
        "def full_nama(nama_depan, nama_tengah, nama_belakang):\n",
        "  print(f'Nama lengkap saya adalah {nama_depan} {nama_tengah} {nama_belakang}')\n",
        "#menggunakan perintah print untuk menampilkan apa yang telah dibuat tadi"
      ]
    },
    {
      "cell_type": "code",
      "execution_count": 177,
      "metadata": {
        "colab": {
          "base_uri": "https://localhost:8080/"
        },
        "id": "KCVc5SzpLxks",
        "outputId": "aab02f2d-a606-4ea3-8abe-1e098795cfa6"
      },
      "outputs": [
        {
          "output_type": "stream",
          "name": "stdout",
          "text": [
            "Nama depan saya adalah Diska\n",
            "Nama tengah saya adalah Audian\n",
            "Nama belakang saya adalah Maharani\n",
            "Nama lengkap saya adalah Diska Audian Maharani\n"
          ]
        }
      ],
      "source": [
        "nama_depan = input ('Nama depan saya adalah ')         #menamampilkan pengisian untuk nama bagian depan\n",
        "nama_tengah = input ('Nama tengah saya adalah ')       #menampilkan pengisian untuk nama bagian tengah\n",
        "nama_belakang = input ('Nama belakang saya adalah ')   #menampilkan pengisian untuk nama bagian akhir\n",
        "full_nama(nama_depan, nama_tengah, nama_belakang)      #menampilkan full nama secara otomatis tapa perlu kita masukin nama depan, tengah, akhir nya lagi"
      ]
    },
    {
      "cell_type": "code",
      "execution_count": 178,
      "metadata": {
        "id": "9mHebTJuMH1P"
      },
      "outputs": [],
      "source": [
        "#LATIHAN 2\n",
        "#tugas fungsi dalam phyton"
      ]
    },
    {
      "cell_type": "markdown",
      "metadata": {
        "id": "nIRuCB0tOgxW"
      },
      "source": [
        "Ada dua jenis fungsi pada python yaitu:\n",
        "\n",
        "-Menjalankan perintah\n",
        "\n",
        "-Menampilkan hasil perhitungan"
      ]
    },
    {
      "cell_type": "code",
      "execution_count": 179,
      "metadata": {
        "id": "rj0kAFT8OuTD"
      },
      "outputs": [],
      "source": [
        "def waktu_sampai(jarak, kecepatan):  #data yang dibutuhkan adalah data jarak dan kecepatannya\n",
        "  waktu = jarak/kecepatan            #rumus waktu sampai yakni jarak dibagi kecepatan\n",
        "  print(waktu)                       #menggunakan perintah print untuk menampilkan apa yang telah dibuat"
      ]
    },
    {
      "cell_type": "code",
      "execution_count": 180,
      "metadata": {
        "id": "WXBMwzVnPAYL"
      },
      "outputs": [],
      "source": [
        "def waktu_tempuh(jarak,kecepatan):   #untuk mencari waktu tempuh, data yang digunakan adalah data jarak dan kecepatan\n",
        "  waktu = jarak/kecepatan            #rumus waktu tempuh yakni sama seperti waktu sampai\n",
        "  return waktu                       #menggunakan perintah print untuk menampilkan apa yang telah dibuat"
      ]
    },
    {
      "cell_type": "code",
      "execution_count": 181,
      "metadata": {
        "colab": {
          "base_uri": "https://localhost:8080/"
        },
        "id": "TIWNI9ZGPNRH",
        "outputId": "be46e72c-e134-4428-cdc6-b23a75cca7eb"
      },
      "outputs": [
        {
          "output_type": "stream",
          "name": "stdout",
          "text": [
            "1.5\n"
          ]
        }
      ],
      "source": [
        "waktu_sampai (120,80)        #ini artinya, dapat diketahui bahwa jarak nya 120 dengan kecepatan 80\n",
        "                             #dengan ini diperoleh 1.5 karena 120 dibagi 80"
      ]
    },
    {
      "cell_type": "code",
      "execution_count": 182,
      "metadata": {
        "colab": {
          "base_uri": "https://localhost:8080/"
        },
        "id": "BEOWIRuuPT7K",
        "outputId": "7c505f3e-b49d-4367-e651-770ddf2fa7b4"
      },
      "outputs": [
        {
          "output_type": "execute_result",
          "data": {
            "text/plain": [
              "1.5"
            ]
          },
          "metadata": {},
          "execution_count": 182
        }
      ],
      "source": [
        "waktu_tempuh (120, 80)       #ini artinya, dapat diketahui bahwa jaraknya adalah 120 dengan kecepatan 80\n",
        "                             #dengan ini diperoleh 1.5 karena 120 dibagi 80"
      ]
    },
    {
      "cell_type": "code",
      "execution_count": 183,
      "metadata": {
        "colab": {
          "base_uri": "https://localhost:8080/"
        },
        "id": "LN3RJCf-PfRC",
        "outputId": "b66ba536-a739-4b93-f418-637ce5d88449"
      },
      "outputs": [
        {
          "output_type": "stream",
          "name": "stdout",
          "text": [
            "1.5\n",
            "None\n"
          ]
        }
      ],
      "source": [
        "a = waktu_sampai (120, 80)     #kita simbolkan bahwa a itu adalah waktu sampai\n",
        "print (a)                      #gunakan print untuk menampilkan"
      ]
    },
    {
      "cell_type": "code",
      "execution_count": 184,
      "metadata": {
        "colab": {
          "base_uri": "https://localhost:8080/"
        },
        "id": "E2WWpbepPoKN",
        "outputId": "fb443b57-af8b-4d14-b524-ff773e4a6487"
      },
      "outputs": [
        {
          "output_type": "stream",
          "name": "stdout",
          "text": [
            "1.5\n"
          ]
        }
      ],
      "source": [
        "b = waktu_tempuh (120, 80)     #kita simbolkan bahwa b itu adalah waktu tempuh\n",
        "print (b)                      #gunakan print untuk menampilkan"
      ]
    },
    {
      "cell_type": "markdown",
      "metadata": {
        "id": "RpBT6GxFToHz"
      },
      "source": [
        "berdasarkan fungsi di atas, dapat diberi kesimpulan bahwa waktu sampai = waktu tempuh. Karena 1.5=1.5\n",
        "\n",
        "Jadi, fungsi pada python juga bisa menghitung waktu tempuh dan sampai seseorang."
      ]
    },
    {
      "cell_type": "code",
      "execution_count": 185,
      "metadata": {
        "id": "tRJofH5GPvge"
      },
      "outputs": [],
      "source": [
        "import numpy as np"
      ]
    },
    {
      "cell_type": "code",
      "execution_count": 186,
      "metadata": {
        "id": "JpATRo1dUcZs"
      },
      "outputs": [],
      "source": [
        "#mendeklarasikan fungsi\n",
        "\n",
        "def luas_segitiga (alas, tinggi):    #jadi untuk menemukan luas dari segitiga, kita hanya perlu tau alas dan tingginya\n",
        "    luas = (1/2)*alas*tinggi         #kita juga perlu memasukkan rumus pada python, karena secanggih apapun tetap tidak bisa membuat rumus dengan sendirinya tanpa arahan\n",
        "    return luas\n"
      ]
    },
    {
      "cell_type": "code",
      "execution_count": 187,
      "metadata": {
        "id": "V8RlXnbczdZ-"
      },
      "outputs": [],
      "source": [
        "#mendeklarasikan fungsi\n",
        "    \n",
        "def luas_persegi_panjang (panjang, lebar):     #untuk menemukan luas persegi panjang, kita hanya perlu tau panjang dan lebarnya\n",
        "  luas = panjang*lebar                         #masukkan rumus luas persegi panjang      \n",
        "  return luas                        "
      ]
    },
    {
      "cell_type": "code",
      "execution_count": 188,
      "metadata": {
        "id": "nSYj8kBD0LOd"
      },
      "outputs": [],
      "source": [
        "#mendeklarasikan fungsi\n",
        "\n",
        "def luas_persegi (sisi):        #untuk menemukan luas persegi, kita hanya perlu tau sisinya\n",
        "  luas = sisi*sisi              #rumus luas persegi\n",
        "  return luas"
      ]
    },
    {
      "cell_type": "markdown",
      "source": [
        "program di bawah ini dibuat dengan 3 bidang dan luas. Untuk menentukan bidang apa yang akan diinput, maka digunakan if, dan apabila bidang yang diinput tidak sesuai dengan bidang dan luas yang ada, maka akan langsung ke else"
      ],
      "metadata": {
        "id": "E-7cPBA3VLGR"
      }
    },
    {
      "cell_type": "code",
      "execution_count": 190,
      "metadata": {
        "colab": {
          "base_uri": "https://localhost:8080/"
        },
        "id": "qEEkg3qK1X7D",
        "outputId": "e755e34a-8fe3-4127-f51c-bf477d5fcde4"
      },
      "outputs": [
        {
          "output_type": "stream",
          "name": "stdout",
          "text": [
            "jenis bidangnya: SEGITIGA\n",
            "berapakah panjang alasnya? 6\n",
            "barapakah tingginya? 12\n",
            "luas SEGITIGA adalah 36.0\n"
          ]
        }
      ],
      "source": [
        "jenis_bidang = input ('jenis bidangnya: ')\n",
        "if jenis_bidang.upper () == 'SEGITIGA':\n",
        "  alas = float(input('berapakah panjang alasnya? '))\n",
        "  tinggi = float(input('barapakah tingginya? '))\n",
        "  luas = luas_segitiga(alas, tinggi)\n",
        "  print(f'luas {jenis_bidang} adalah {luas}')\n",
        "elif jenis_bidang.upper () == 'PERSEGI PANJANG':\n",
        "  panjang = float(input('berapakah panjangnya? '))\n",
        "  lebar = float(input('berapakah lebarnya? '))\n",
        "  luas = luas_persegi_panjang(panjang, lebar)\n",
        "  print(f'luas {jenis_bidang} adalah {luas}')\n",
        "elif jenis_bidang.upper () == 'PERSEGI':\n",
        "  sisi = float(input('berapakah panjang sisinya? '))\n",
        "  luas = luas_persegi(sisi)\n",
        "  print(f'luas {jenis_bidang} adalah {luas}')\n",
        "else:\n",
        "  print(f'bidang {jenis_bidang} yang anda masukkan tidak ada')\n",
        "  print('pilihannya hanya SEGITIGA, PERSEGI PANJANG, PERSEGI')\n",
        "  print('terima kasih')"
      ]
    },
    {
      "cell_type": "markdown",
      "metadata": {
        "id": "sSvzeytfXzu6"
      },
      "source": [
        "# **5.20 Numpy**\n",
        "\n",
        "Merupakan salah satu Library dalam python yang memiliki keunggulan dalam perhitungan menggunakan vektor dan matrik dalam berbagai dimensi."
      ]
    },
    {
      "cell_type": "markdown",
      "metadata": {
        "id": "or1O-oseYQcW"
      },
      "source": [
        "# 5.20.1 Perintah Dasar Pada Numpy\n",
        "\n",
        "Akan dipaparkan mengenai beberapa perintah dalam numpy diantaranya adalah memanggil numpy, mengetahui dimensi dan ukuran variabel "
      ]
    },
    {
      "cell_type": "code",
      "execution_count": 200,
      "metadata": {
        "colab": {
          "base_uri": "https://localhost:8080/"
        },
        "id": "QewIq6t2XALP",
        "outputId": "30ed4ab9-9595-4d15-947c-6ee9e740a168"
      },
      "outputs": [
        {
          "output_type": "stream",
          "name": "stdout",
          "text": [
            "[0 1 2 3 4]\n"
          ]
        }
      ],
      "source": [
        "#Latihan soal di ppt\n",
        "\n",
        "a = np.array ([0,1,2,3,4])   #ini merupakan vektor baris\n",
        "print(a)                     #gunakan print untuk menampilkan yang dipaggil"
      ]
    },
    {
      "cell_type": "code",
      "execution_count": 191,
      "metadata": {
        "colab": {
          "base_uri": "https://localhost:8080/"
        },
        "id": "POI-Tgy8ZUsQ",
        "outputId": "51fb524a-e62c-427a-ccdf-0ed730174530"
      },
      "outputs": [
        {
          "output_type": "stream",
          "name": "stdout",
          "text": [
            "[[5 6 7 8]\n",
            " [9 8 7 6]\n",
            " [2 3 4 7]]\n"
          ]
        }
      ],
      "source": [
        "b = np.array ([[5,6,7,8],[9,8,7,6],[2,3,4,7]])      #ini merupakan vektor baris\n",
        "print(b)                                  #gunakan print untuk menampilkan b"
      ]
    },
    {
      "cell_type": "code",
      "execution_count": 195,
      "metadata": {
        "colab": {
          "base_uri": "https://localhost:8080/"
        },
        "id": "amybfABDZf_D",
        "outputId": "3bbbb6c7-3335-481f-ab67-96a03229c668"
      },
      "outputs": [
        {
          "output_type": "stream",
          "name": "stdout",
          "text": [
            "[[[0 1 2 3]\n",
            "  [4 5 6 7]]\n",
            "\n",
            " [[8 9 8 7]\n",
            "  [6 5 4 3]]\n",
            "\n",
            " [[1 2 3 4]\n",
            "  [5 6 7 8]]\n",
            "\n",
            " [[2 3 4 5]\n",
            "  [8 2 4 1]]]\n"
          ]
        }
      ],
      "source": [
        "c = np.array ([[[0,1,2,3], [4,5,6,7]],    #ini merupakan matrik \n",
        "              [[8,9,8,7], [6,5,4,3]], \n",
        "              [[1,2,3,4], [5,6,7,8]],\n",
        "              [[2,3,4,5], [8,2,4,1]]])\n",
        "print (c)                                 #gunakan print untuk menampilkan c\n",
        "                                        "
      ]
    },
    {
      "cell_type": "code",
      "execution_count": null,
      "metadata": {
        "colab": {
          "base_uri": "https://localhost:8080/"
        },
        "id": "g2wlB0Czegs4",
        "outputId": "d9f81bff-7087-45b5-b382-87242853a67f"
      },
      "outputs": [
        {
          "data": {
            "text/plain": [
              "1"
            ]
          },
          "execution_count": 75,
          "metadata": {},
          "output_type": "execute_result"
        }
      ],
      "source": [
        "a.ndim\n",
        "#menentukan banyaknya dimensi pada a"
      ]
    },
    {
      "cell_type": "code",
      "execution_count": 196,
      "metadata": {
        "colab": {
          "base_uri": "https://localhost:8080/"
        },
        "id": "KcnoUru4emXW",
        "outputId": "f0600708-c79c-4ec1-fbc3-6e570c6fc1fb"
      },
      "outputs": [
        {
          "output_type": "execute_result",
          "data": {
            "text/plain": [
              "2"
            ]
          },
          "metadata": {},
          "execution_count": 196
        }
      ],
      "source": [
        "b.ndim\n",
        "#memntukan banyaknya dimensi pada b"
      ]
    },
    {
      "cell_type": "code",
      "execution_count": 197,
      "metadata": {
        "colab": {
          "base_uri": "https://localhost:8080/"
        },
        "id": "ntEHM-Qiel7w",
        "outputId": "699212a5-2cb6-417a-b902-84f6d1814c5c"
      },
      "outputs": [
        {
          "output_type": "execute_result",
          "data": {
            "text/plain": [
              "3"
            ]
          },
          "metadata": {},
          "execution_count": 197
        }
      ],
      "source": [
        "c.ndim\n",
        "#menentukan banyaknya dimensi pada c"
      ]
    },
    {
      "cell_type": "code",
      "execution_count": 201,
      "metadata": {
        "colab": {
          "base_uri": "https://localhost:8080/"
        },
        "id": "5e0Px3dkekOa",
        "outputId": "bc43489b-1c89-4f0d-bd0b-54208b4cd5b7"
      },
      "outputs": [
        {
          "output_type": "execute_result",
          "data": {
            "text/plain": [
              "(5,)"
            ]
          },
          "metadata": {},
          "execution_count": 201
        }
      ],
      "source": [
        "a.shape\n",
        "#menampilkan 1 dimensi dan berukuran 5 "
      ]
    },
    {
      "cell_type": "code",
      "execution_count": 199,
      "metadata": {
        "colab": {
          "base_uri": "https://localhost:8080/"
        },
        "id": "bALLuLokej8z",
        "outputId": "6428d333-d448-4b16-cff8-be86c664ce8b"
      },
      "outputs": [
        {
          "output_type": "execute_result",
          "data": {
            "text/plain": [
              "(3, 4)"
            ]
          },
          "metadata": {},
          "execution_count": 199
        }
      ],
      "source": [
        "b.shape\n",
        "#menampilkan 3 dimensi dan ukurannya 4 "
      ]
    },
    {
      "cell_type": "code",
      "execution_count": 202,
      "metadata": {
        "colab": {
          "base_uri": "https://localhost:8080/"
        },
        "id": "eKsdXL73ejjZ",
        "outputId": "2eb02054-662c-43a7-9919-37a7874c61a8"
      },
      "outputs": [
        {
          "output_type": "execute_result",
          "data": {
            "text/plain": [
              "(4, 2, 4)"
            ]
          },
          "metadata": {},
          "execution_count": 202
        }
      ],
      "source": [
        "c.shape\n",
        "#menampilkan 4 dimensi berukuran dengan baris 2 dan kolom 4 pada c"
      ]
    },
    {
      "cell_type": "markdown",
      "source": [
        "Kesimpulannya:\n",
        "ndim adalah untuk menampilkan dimensi pada matriks yang dituju.\n",
        "shape adalah menampilkan atau menentukan "
      ],
      "metadata": {
        "id": "2RU-yYxqWKa9"
      }
    },
    {
      "cell_type": "markdown",
      "metadata": {
        "id": "y7IFVtVvhXWA"
      },
      "source": [
        "# 5.20.2 Memanggil anggota, kolom dan baris dengan numpy"
      ]
    },
    {
      "cell_type": "code",
      "execution_count": 204,
      "metadata": {
        "colab": {
          "base_uri": "https://localhost:8080/"
        },
        "id": "lVh8Doz5hjjS",
        "outputId": "65fd3c22-3504-4e82-c4ea-4c769666836c"
      },
      "outputs": [
        {
          "output_type": "stream",
          "name": "stdout",
          "text": [
            "[[2 3 4 5 6 7]\n",
            " [4 1 2 3 5 6]\n",
            " [7 8 4 2 1 3]\n",
            " [2 4 7 3 1 9]]\n"
          ]
        }
      ],
      "source": [
        "#LATIHAN 1\n",
        "\n",
        "#menampilkan bilangan random\n",
        "d = np.array([[2,3,4,5,6,7], [4,1,2,3,5,6],[7,8,4,2,1,3], [2,4,7,3,1,9]])\n",
        "print(d)"
      ]
    },
    {
      "cell_type": "code",
      "source": [
        "d[3,:]\n",
        "#menampilkn semua baris ketiga tanpa kolom"
      ],
      "metadata": {
        "colab": {
          "base_uri": "https://localhost:8080/"
        },
        "id": "yJs7jo57ZgLp",
        "outputId": "c7dd9757-a8f7-4b11-e367-a9518d6ba7c0"
      },
      "execution_count": 205,
      "outputs": [
        {
          "output_type": "execute_result",
          "data": {
            "text/plain": [
              "array([2, 4, 7, 3, 1, 9])"
            ]
          },
          "metadata": {},
          "execution_count": 205
        }
      ]
    },
    {
      "cell_type": "code",
      "source": [
        "d[:,3]\n",
        "#menampilkan semua kolom ketiga tanpa kolom"
      ],
      "metadata": {
        "colab": {
          "base_uri": "https://localhost:8080/"
        },
        "id": "uGUYicroZ178",
        "outputId": "5d4ad27e-3f95-4e9e-b15e-c2a8cef9dc63"
      },
      "execution_count": 206,
      "outputs": [
        {
          "output_type": "execute_result",
          "data": {
            "text/plain": [
              "array([5, 3, 2, 3])"
            ]
          },
          "metadata": {},
          "execution_count": 206
        }
      ]
    },
    {
      "cell_type": "code",
      "execution_count": null,
      "metadata": {
        "colab": {
          "base_uri": "https://localhost:8080/"
        },
        "id": "Va-enxb3iQMP",
        "outputId": "6ae568b1-10d6-4340-f0ee-8ecfbfd7a5a9"
      },
      "outputs": [
        {
          "data": {
            "text/plain": [
              "8"
            ]
          },
          "execution_count": 82,
          "metadata": {},
          "output_type": "execute_result"
        }
      ],
      "source": [
        "d[2,1]\n",
        "#menampilkan baris ke 2 dengan kolom ke 1"
      ]
    },
    {
      "cell_type": "code",
      "execution_count": null,
      "metadata": {
        "colab": {
          "base_uri": "https://localhost:8080/"
        },
        "id": "x4y6dhP-iqoP",
        "outputId": "931c16ae-f3a6-46e0-dd54-da9bde0158d0"
      },
      "outputs": [
        {
          "data": {
            "text/plain": [
              "3"
            ]
          },
          "execution_count": 83,
          "metadata": {},
          "output_type": "execute_result"
        }
      ],
      "source": [
        "d[1,3]\n",
        "#menampilkan baris ke 1 dengan kolom ke 3"
      ]
    },
    {
      "cell_type": "code",
      "execution_count": null,
      "metadata": {
        "colab": {
          "base_uri": "https://localhost:8080/"
        },
        "id": "fHIaMchni6rF",
        "outputId": "87a80d05-de7a-45d3-87bf-32122fde514c"
      },
      "outputs": [
        {
          "data": {
            "text/plain": [
              "array([2])"
            ]
          },
          "execution_count": 84,
          "metadata": {},
          "output_type": "execute_result"
        }
      ],
      "source": [
        "d[1,2:3]\n",
        "#menampilkan data array dengan index ke 1, kolom 2 sampai 3 dan tidak termasuk kolom ke 3"
      ]
    },
    {
      "cell_type": "code",
      "execution_count": null,
      "metadata": {
        "colab": {
          "base_uri": "https://localhost:8080/"
        },
        "id": "2n02TdBtjASQ",
        "outputId": "6e21dc8f-dd58-44ee-f604-7f53a0ef9c3d"
      },
      "outputs": [
        {
          "data": {
            "text/plain": [
              "array([3])"
            ]
          },
          "execution_count": 85,
          "metadata": {},
          "output_type": "execute_result"
        }
      ],
      "source": [
        "d[0,1:2]\n",
        "#menampilkan data array dengan index ke 0, kolom 1 sampai 2 dan tidak termasuk kolom ke 2"
      ]
    },
    {
      "cell_type": "code",
      "execution_count": null,
      "metadata": {
        "colab": {
          "base_uri": "https://localhost:8080/"
        },
        "id": "0Yxcuk4Aj_gd",
        "outputId": "d1e0d2e1-4822-4bc8-e1a5-f49ffdf51e41"
      },
      "outputs": [
        {
          "name": "stdout",
          "output_type": "stream",
          "text": [
            "[[100   3   4   5   6   7]\n",
            " [  4   1   2   3   5   6]\n",
            " [  7   8   4   2   1   3]\n",
            " [  2   4   7   3   1   9]]\n"
          ]
        }
      ],
      "source": [
        "d[0,0] = 100\n",
        "print(d)\n",
        "#mengubah angka di kolom 0 dan baris 0 menjadi 100"
      ]
    },
    {
      "cell_type": "markdown",
      "metadata": {
        "id": "QLycwwickR0D"
      },
      "source": [
        "# 5.20.3 Matriks pada numpy\n",
        "\n",
        "Untuk membuat berbagai jenis matrik"
      ]
    },
    {
      "cell_type": "code",
      "execution_count": null,
      "metadata": {
        "colab": {
          "base_uri": "https://localhost:8080/"
        },
        "id": "MzpZEzBykdik",
        "outputId": "558ef037-1ca7-4e19-de89-480d6bf2bfaf"
      },
      "outputs": [
        {
          "data": {
            "text/plain": [
              "array([[1., 1., 1., 1., 1.],\n",
              "       [1., 1., 1., 1., 1.],\n",
              "       [1., 1., 1., 1., 1.],\n",
              "       [1., 1., 1., 1., 1.],\n",
              "       [1., 1., 1., 1., 1.],\n",
              "       [1., 1., 1., 1., 1.],\n",
              "       [1., 1., 1., 1., 1.],\n",
              "       [1., 1., 1., 1., 1.],\n",
              "       [1., 1., 1., 1., 1.],\n",
              "       [1., 1., 1., 1., 1.]])"
            ]
          },
          "execution_count": 87,
          "metadata": {},
          "output_type": "execute_result"
        }
      ],
      "source": [
        "np.ones((10,5))\n",
        "#menampilkan matrik 10*3 dengan elemen keseluruhan 1"
      ]
    },
    {
      "cell_type": "code",
      "execution_count": null,
      "metadata": {
        "colab": {
          "base_uri": "https://localhost:8080/"
        },
        "id": "LW-ks_f9koqI",
        "outputId": "affb976b-07ee-46d0-bfbb-1319f377ae2e"
      },
      "outputs": [
        {
          "data": {
            "text/plain": [
              "array([[0., 0., 0., 0., 0.],\n",
              "       [0., 0., 0., 0., 0.],\n",
              "       [0., 0., 0., 0., 0.]])"
            ]
          },
          "execution_count": 88,
          "metadata": {},
          "output_type": "execute_result"
        }
      ],
      "source": [
        "np.zeros((3,5))\n",
        "#menampilkan matriks 3*5 dengan elemen keseluruhan 0"
      ]
    },
    {
      "cell_type": "code",
      "execution_count": null,
      "metadata": {
        "colab": {
          "base_uri": "https://localhost:8080/"
        },
        "id": "BxRgrtMbksRx",
        "outputId": "8bcbc8bf-1db0-4f98-d51f-229d40f1ea6c"
      },
      "outputs": [
        {
          "data": {
            "text/plain": [
              "array([[1., 0., 0., 0., 0., 0., 0., 0.],\n",
              "       [0., 1., 0., 0., 0., 0., 0., 0.],\n",
              "       [0., 0., 1., 0., 0., 0., 0., 0.],\n",
              "       [0., 0., 0., 1., 0., 0., 0., 0.],\n",
              "       [0., 0., 0., 0., 1., 0., 0., 0.],\n",
              "       [0., 0., 0., 0., 0., 1., 0., 0.],\n",
              "       [0., 0., 0., 0., 0., 0., 1., 0.],\n",
              "       [0., 0., 0., 0., 0., 0., 0., 1.]])"
            ]
          },
          "execution_count": 89,
          "metadata": {},
          "output_type": "execute_result"
        }
      ],
      "source": [
        "np.identity(8)\n",
        "#menampilkan matriksidentitas dengan 8*8"
      ]
    },
    {
      "cell_type": "code",
      "execution_count": null,
      "metadata": {
        "colab": {
          "base_uri": "https://localhost:8080/"
        },
        "id": "PB2wUG87lDMx",
        "outputId": "f618fa84-a723-4308-f4c3-652f73c52ad9"
      },
      "outputs": [
        {
          "data": {
            "text/plain": [
              "array([[[1., 1., 1., 1., 1., 1., 1.],\n",
              "        [1., 1., 1., 1., 1., 1., 1.],\n",
              "        [1., 1., 1., 1., 1., 1., 1.],\n",
              "        [1., 1., 1., 1., 1., 1., 1.],\n",
              "        [1., 1., 1., 1., 1., 1., 1.],\n",
              "        [1., 1., 1., 1., 1., 1., 1.]],\n",
              "\n",
              "       [[1., 1., 1., 1., 1., 1., 1.],\n",
              "        [1., 1., 1., 1., 1., 1., 1.],\n",
              "        [1., 1., 1., 1., 1., 1., 1.],\n",
              "        [1., 1., 1., 1., 1., 1., 1.],\n",
              "        [1., 1., 1., 1., 1., 1., 1.],\n",
              "        [1., 1., 1., 1., 1., 1., 1.]],\n",
              "\n",
              "       [[1., 1., 1., 1., 1., 1., 1.],\n",
              "        [1., 1., 1., 1., 1., 1., 1.],\n",
              "        [1., 1., 1., 1., 1., 1., 1.],\n",
              "        [1., 1., 1., 1., 1., 1., 1.],\n",
              "        [1., 1., 1., 1., 1., 1., 1.],\n",
              "        [1., 1., 1., 1., 1., 1., 1.]],\n",
              "\n",
              "       [[1., 1., 1., 1., 1., 1., 1.],\n",
              "        [1., 1., 1., 1., 1., 1., 1.],\n",
              "        [1., 1., 1., 1., 1., 1., 1.],\n",
              "        [1., 1., 1., 1., 1., 1., 1.],\n",
              "        [1., 1., 1., 1., 1., 1., 1.],\n",
              "        [1., 1., 1., 1., 1., 1., 1.]],\n",
              "\n",
              "       [[1., 1., 1., 1., 1., 1., 1.],\n",
              "        [1., 1., 1., 1., 1., 1., 1.],\n",
              "        [1., 1., 1., 1., 1., 1., 1.],\n",
              "        [1., 1., 1., 1., 1., 1., 1.],\n",
              "        [1., 1., 1., 1., 1., 1., 1.],\n",
              "        [1., 1., 1., 1., 1., 1., 1.]]])"
            ]
          },
          "execution_count": 90,
          "metadata": {},
          "output_type": "execute_result"
        }
      ],
      "source": [
        "np.ones ((5,6,7))\n",
        "#menampilkan matriks 2 dimensi dengan 6*5 yang elemennya 1"
      ]
    },
    {
      "cell_type": "code",
      "execution_count": null,
      "metadata": {
        "colab": {
          "base_uri": "https://localhost:8080/"
        },
        "id": "BGGs3I7xlaWo",
        "outputId": "67d4df11-8326-4677-924b-5467a8459e78"
      },
      "outputs": [
        {
          "data": {
            "text/plain": [
              "array([[3],\n",
              "       [3]])"
            ]
          },
          "execution_count": 91,
          "metadata": {},
          "output_type": "execute_result"
        }
      ],
      "source": [
        "np.full ((2,1),3)\n",
        "#menampilkan matriks 2*1 yang elemennya 3"
      ]
    },
    {
      "cell_type": "code",
      "execution_count": null,
      "metadata": {
        "colab": {
          "base_uri": "https://localhost:8080/"
        },
        "id": "Qm5_Wdu1lh9w",
        "outputId": "b76e8038-59c0-4ad2-a5d5-3b5f96b058d5"
      },
      "outputs": [
        {
          "data": {
            "text/plain": [
              "array([[0.89723327, 0.96441189, 0.50593098, 0.19662899, 0.86520955],\n",
              "       [0.56965178, 0.95086619, 0.82981386, 0.70759287, 0.1470205 ]])"
            ]
          },
          "execution_count": 92,
          "metadata": {},
          "output_type": "execute_result"
        }
      ],
      "source": [
        "np.random.rand (2,5)\n",
        "#menampilkan matriks 2*5"
      ]
    },
    {
      "cell_type": "code",
      "execution_count": null,
      "metadata": {
        "colab": {
          "base_uri": "https://localhost:8080/"
        },
        "id": "rDl_yN9Bl0xb",
        "outputId": "ebb1dfa4-1437-420f-d02e-232ae492a9f9"
      },
      "outputs": [
        {
          "data": {
            "text/plain": [
              "array([[4],\n",
              "       [2],\n",
              "       [2]])"
            ]
          },
          "execution_count": 93,
          "metadata": {},
          "output_type": "execute_result"
        }
      ],
      "source": [
        "np.random.randint(2, 5, size=(3,1)) #int\n",
        "#menampilkan matriks 3*1 dengan int dari 2-5"
      ]
    },
    {
      "cell_type": "markdown",
      "metadata": {
        "id": "3RvNbXoymNpG"
      },
      "source": [
        "# 5.20.4 Copy Pada Numpy\n",
        "\n",
        "Untuk menghindari perubahan variabel awal yang tidak dikehendaki, maka diperlukan perintah copy"
      ]
    },
    {
      "cell_type": "code",
      "execution_count": 220,
      "metadata": {
        "colab": {
          "base_uri": "https://localhost:8080/"
        },
        "id": "oMqBCnORmJH3",
        "outputId": "15b8015e-c505-4a3b-af84-84adc87595c2"
      },
      "outputs": [
        {
          "output_type": "stream",
          "name": "stdout",
          "text": [
            "[ 2  5  7  9 10]\n"
          ]
        }
      ],
      "source": [
        "#LATIHAN 1\n",
        "\n",
        "a = np.array ([2,5,7,9,10])    #diambil bilangan random\n",
        "print (a)                      #gunakan perintah print untuk menampilkan a"
      ]
    },
    {
      "cell_type": "code",
      "execution_count": 211,
      "metadata": {
        "colab": {
          "base_uri": "https://localhost:8080/"
        },
        "id": "6jR2dZmzmm6Z",
        "outputId": "3e40e3fe-f814-43d5-ed31-df1666e4969b"
      },
      "outputs": [
        {
          "output_type": "stream",
          "name": "stdout",
          "text": [
            "[ 3  6  8 10 11]\n"
          ]
        }
      ],
      "source": [
        "b = a+1       #semua elemen yang ada di a ditambah dengan 1\n",
        "print(b)      #gunakan perintah print untuk menampilkan b"
      ]
    },
    {
      "cell_type": "code",
      "execution_count": 212,
      "metadata": {
        "colab": {
          "base_uri": "https://localhost:8080/"
        },
        "id": "H95sv8N-nDVq",
        "outputId": "3a760d1b-7c29-4fc4-b1cc-7b6eaa7caf39"
      },
      "outputs": [
        {
          "output_type": "stream",
          "name": "stdout",
          "text": [
            "[2 4 7 5 1]\n"
          ]
        }
      ],
      "source": [
        "c=np.array([2,4,7,5,1])     #diambil bilangan random\n",
        "print(c)                    #gunakan perintah print untuk menampilkan c"
      ]
    },
    {
      "cell_type": "code",
      "execution_count": 213,
      "metadata": {
        "colab": {
          "base_uri": "https://localhost:8080/"
        },
        "id": "ieCByLKvnWf1",
        "outputId": "062a8191-ee2b-4639-a90a-4cae17f4c369"
      },
      "outputs": [
        {
          "output_type": "stream",
          "name": "stdout",
          "text": [
            "[3 5 8 6 2]\n"
          ]
        }
      ],
      "source": [
        "d =c.copy ()+1       #semua elemen yang ada di c ditambah dengan 1\n",
        "print(d)             #gunakan perintah print untuk menampilkan d"
      ]
    },
    {
      "cell_type": "code",
      "execution_count": 214,
      "metadata": {
        "colab": {
          "base_uri": "https://localhost:8080/"
        },
        "id": "_PNusRYRnr00",
        "outputId": "68ceb6d0-c48b-46d1-9959-f4c9d9891fe0"
      },
      "outputs": [
        {
          "output_type": "stream",
          "name": "stdout",
          "text": [
            "[2 4 7 5 1]\n"
          ]
        }
      ],
      "source": [
        "print(c)           #dengan c tidak berubah nilai"
      ]
    },
    {
      "cell_type": "code",
      "source": [
        "c [0] = 50          #ini berarti mengubah indeks 1 dengan angka 50\n",
        "print(c)"
      ],
      "metadata": {
        "colab": {
          "base_uri": "https://localhost:8080/"
        },
        "id": "vfCNbt4Ua93Y",
        "outputId": "114f4e87-722c-4397-8303-c4acb483479c"
      },
      "execution_count": 221,
      "outputs": [
        {
          "output_type": "stream",
          "name": "stdout",
          "text": [
            "[50  4  7  5  1]\n"
          ]
        }
      ]
    },
    {
      "cell_type": "code",
      "source": [
        "d [0] = 100       #mengubah nilai d di indeks 0 dengan angka 100\n",
        "print(d)"
      ],
      "metadata": {
        "colab": {
          "base_uri": "https://localhost:8080/"
        },
        "id": "HklzwzzQba3I",
        "outputId": "b5e82790-916d-465d-a93b-8d378a995a48"
      },
      "execution_count": 222,
      "outputs": [
        {
          "output_type": "stream",
          "name": "stdout",
          "text": [
            "[100   5   8   6   2]\n"
          ]
        }
      ]
    },
    {
      "cell_type": "code",
      "source": [
        "print (a)"
      ],
      "metadata": {
        "colab": {
          "base_uri": "https://localhost:8080/"
        },
        "id": "iY2PZQo5b_Oy",
        "outputId": "3e38b08b-e658-4cb3-cd5c-25ea9e03eedd"
      },
      "execution_count": 223,
      "outputs": [
        {
          "output_type": "stream",
          "name": "stdout",
          "text": [
            "[ 2  5  7  9 10]\n"
          ]
        }
      ]
    },
    {
      "cell_type": "markdown",
      "source": [
        "Kesimpulan: apabila data a tidak diubah ubah lagi, maka apabila dipanggil data a akan tetap sama seperti sebelumnya, berbeda apabila kita mengubah data a lagi, maka apabila dipanggil datanya akan muncul data a yang terakhir kali diubah"
      ],
      "metadata": {
        "id": "eCYW3oOicmtj"
      }
    },
    {
      "cell_type": "markdown",
      "metadata": {
        "id": "jL0s14sooAN0"
      },
      "source": [
        "# 5.20.5 Operasi Matematika pada Numpy"
      ]
    },
    {
      "cell_type": "code",
      "execution_count": null,
      "metadata": {
        "id": "IpvkHzsAn3ol"
      },
      "outputs": [],
      "source": [
        "import numpy as np"
      ]
    },
    {
      "cell_type": "code",
      "execution_count": 232,
      "metadata": {
        "colab": {
          "base_uri": "https://localhost:8080/"
        },
        "id": "hwGDAsvGoiPX",
        "outputId": "ac30a523-1a61-411c-ac8f-d0c98d6eb580"
      },
      "outputs": [
        {
          "output_type": "stream",
          "name": "stdout",
          "text": [
            "[ 1  3  6  4  8  9 10 12]\n",
            "[ 2  3  4  5  7  8  9 13]\n"
          ]
        }
      ],
      "source": [
        "#mendeskripsikan nilai array dari variabel pada numpy\n",
        "a = np.array([1,3,6,4,8,9,10,12])\n",
        "b = np.array([2,3,4,5,7,8,9,13,])\n",
        "print(a)\n",
        "print(b)\n",
        "#menggunakan perintah print agar a dan b dapat ditampilkan"
      ]
    },
    {
      "cell_type": "markdown",
      "source": [
        "PENJUMLAHAN PADA ARRAY"
      ],
      "metadata": {
        "id": "DO0ttiVleqT1"
      }
    },
    {
      "cell_type": "code",
      "execution_count": 233,
      "metadata": {
        "id": "OFuZdTwGonF8",
        "colab": {
          "base_uri": "https://localhost:8080/"
        },
        "outputId": "161ee8c8-cd93-4fc9-d4bf-12204e5dafd5"
      },
      "outputs": [
        {
          "output_type": "stream",
          "name": "stdout",
          "text": [
            "[ 3  5  8  6 10 11 12 14]\n"
          ]
        }
      ],
      "source": [
        "#menggunakan operasi penjumlahan pada array\n",
        "\n",
        "x1 = a+2     #nilai a saja yang ditambahkan 2\n",
        "print(x1)\n"
      ]
    },
    {
      "cell_type": "code",
      "source": [
        "#menggunakan operasi penjumlahan pada array\n",
        "\n",
        "x2 = b+2     #nilai b saja yang ditambahkan 2\n",
        "print (x2)"
      ],
      "metadata": {
        "colab": {
          "base_uri": "https://localhost:8080/"
        },
        "id": "e35D-oKZdrN_",
        "outputId": "fd787f8c-ee24-4707-d38a-25c028eac267"
      },
      "execution_count": 234,
      "outputs": [
        {
          "output_type": "stream",
          "name": "stdout",
          "text": [
            "[ 4  5  6  7  9 10 11 15]\n"
          ]
        }
      ]
    },
    {
      "cell_type": "code",
      "source": [
        "#menggunakan operasi penjumlahan pada array\n",
        "\n",
        "#nilai a dan b sama sama ditambahkan bilangan yang berbeda\n",
        "x1 = a+5\n",
        "x2 = b+3\n",
        "print(x1)\n",
        "print(x2)"
      ],
      "metadata": {
        "colab": {
          "base_uri": "https://localhost:8080/"
        },
        "id": "u802ebgveFtZ",
        "outputId": "ed017244-329d-4cdb-adb5-203ce9d50b3e"
      },
      "execution_count": 236,
      "outputs": [
        {
          "output_type": "stream",
          "name": "stdout",
          "text": [
            "[ 6  8 11  9 13 14 15 17]\n",
            "[ 5  6  7  8 10 11 12 16]\n"
          ]
        }
      ]
    },
    {
      "cell_type": "markdown",
      "source": [
        "PENGURANGAN PADA ARRAY"
      ],
      "metadata": {
        "id": "SQeQgaqmemtF"
      }
    },
    {
      "cell_type": "code",
      "execution_count": 237,
      "metadata": {
        "colab": {
          "base_uri": "https://localhost:8080/"
        },
        "id": "csv4XlTCuYeA",
        "outputId": "48eafcc3-bf9c-4e36-e6eb-f9278f970e76"
      },
      "outputs": [
        {
          "output_type": "stream",
          "name": "stdout",
          "text": [
            "[-1  1  4  2  6  7  8 10]\n"
          ]
        }
      ],
      "source": [
        "#menggunakan operasi pengurangan pada array\n",
        "\n",
        "x3 = a-2     #nilai a saja yang dikurangi 2\n",
        "print(x3)"
      ]
    },
    {
      "cell_type": "code",
      "source": [
        "#menggunakan operasi pengurangan pada array\n",
        "\n",
        "x4 = b-2      #nilai b saja yang dikurangi 2\n",
        "print(x4)"
      ],
      "metadata": {
        "colab": {
          "base_uri": "https://localhost:8080/"
        },
        "id": "Jtp_VjHTe3C7",
        "outputId": "7854ad1e-4983-4934-ecff-632c9e1ff2ee"
      },
      "execution_count": 239,
      "outputs": [
        {
          "output_type": "stream",
          "name": "stdout",
          "text": [
            "[ 0  1  2  3  5  6  7 11]\n"
          ]
        }
      ]
    },
    {
      "cell_type": "code",
      "source": [
        "#menggunakan pengurangan pada array\n",
        "\n",
        "#menampilkan pengurangan yang dihasilkan dari a dan b apabila dikurangi oleh bilngan yang berbeda\n",
        "x3 = a-3\n",
        "x4 = b-4\n",
        "print(x3)\n",
        "print(x4)"
      ],
      "metadata": {
        "colab": {
          "base_uri": "https://localhost:8080/"
        },
        "id": "hIx5k5TOfEzz",
        "outputId": "0d897eeb-e72e-420f-fb30-84087cabac82"
      },
      "execution_count": 241,
      "outputs": [
        {
          "output_type": "stream",
          "name": "stdout",
          "text": [
            "[-2  0  3  1  5  6  7  9]\n",
            "[-2 -1  0  1  3  4  5  9]\n"
          ]
        }
      ]
    },
    {
      "cell_type": "markdown",
      "source": [
        "PERKALIAN PADA ARRAY"
      ],
      "metadata": {
        "id": "eQbofp08fubr"
      }
    },
    {
      "cell_type": "code",
      "execution_count": 242,
      "metadata": {
        "id": "c_JyvTZMukSC",
        "colab": {
          "base_uri": "https://localhost:8080/"
        },
        "outputId": "47d5808d-7c52-4e73-a8be-4a07da8c7633"
      },
      "outputs": [
        {
          "output_type": "stream",
          "name": "stdout",
          "text": [
            "[ 2  6 12  8 16 18 20 24]\n"
          ]
        }
      ],
      "source": [
        "#menggunakan perkalian pada array\n",
        "\n",
        "x5 = a*2     #nilai a saja yang dikalikan 2\n",
        "print(x5)"
      ]
    },
    {
      "cell_type": "code",
      "source": [
        "#menggunakan perkalian pada array\n",
        "\n",
        "x6 = b*3     #nilai b saja yang dikalikan 3\n",
        "print(x6)"
      ],
      "metadata": {
        "colab": {
          "base_uri": "https://localhost:8080/"
        },
        "id": "dZskm1CEf5An",
        "outputId": "2b4c8546-68e4-4325-fce5-4177c9862e96"
      },
      "execution_count": 243,
      "outputs": [
        {
          "output_type": "stream",
          "name": "stdout",
          "text": [
            "[ 6  9 12 15 21 24 27 39]\n"
          ]
        }
      ]
    },
    {
      "cell_type": "markdown",
      "source": [
        "PEMBAGIAN PADA ARRAY"
      ],
      "metadata": {
        "id": "gJMVAcQSgNGV"
      }
    },
    {
      "cell_type": "code",
      "source": [
        "#menggunakan pembagian pada array\n",
        "\n",
        "x7 = a/2\n",
        "x8 = b/2\n",
        "print (x7)\n",
        "print (x8)"
      ],
      "metadata": {
        "colab": {
          "base_uri": "https://localhost:8080/"
        },
        "id": "6UCwCnxQgRYU",
        "outputId": "aedcb417-335f-42be-9820-e1bfceb3b3ef"
      },
      "execution_count": 245,
      "outputs": [
        {
          "output_type": "stream",
          "name": "stdout",
          "text": [
            "[0.5 1.5 3.  2.  4.  4.5 5.  6. ]\n",
            "[1.  1.5 2.  2.5 3.5 4.  4.5 6.5]\n"
          ]
        }
      ]
    },
    {
      "cell_type": "markdown",
      "source": [
        "PEMANGKATAN PADA ARRAY"
      ],
      "metadata": {
        "id": "lT4KVvpDgjsh"
      }
    },
    {
      "cell_type": "code",
      "source": [
        "#menggunakan pemangkatan pada array\n",
        "\n",
        "x9 = a**2\n",
        "x10 = b**3\n",
        "print (x9)\n",
        "print (x10)\n",
        "#kedua a dan b dipangkatkan masing-masing dengan angka yang berbeda"
      ],
      "metadata": {
        "colab": {
          "base_uri": "https://localhost:8080/"
        },
        "id": "4b0v12vvgoQ8",
        "outputId": "de51d4c7-5cd4-4b62-f45e-7c0fd25a59dd"
      },
      "execution_count": 246,
      "outputs": [
        {
          "output_type": "stream",
          "name": "stdout",
          "text": [
            "[  1   9  36  16  64  81 100 144]\n",
            "[   8   27   64  125  343  512  729 2197]\n"
          ]
        }
      ]
    },
    {
      "cell_type": "markdown",
      "source": [
        "TRIGONOMETRI PADA NUMPY"
      ],
      "metadata": {
        "id": "J978GBLehGEt"
      }
    },
    {
      "cell_type": "code",
      "execution_count": 247,
      "metadata": {
        "id": "83t_758VuuFi",
        "colab": {
          "base_uri": "https://localhost:8080/"
        },
        "outputId": "7d57d992-1e5f-4903-fe2d-cf30761e2abc"
      },
      "outputs": [
        {
          "output_type": "stream",
          "name": "stdout",
          "text": [
            "[ 0.54030231 -0.9899925   0.96017029 -0.65364362 -0.14550003 -0.91113026\n",
            " -0.83907153  0.84385396]\n"
          ]
        }
      ],
      "source": [
        "#menggunakan cosinus pada array\n",
        "x4 = np.cos(a)      #nilai a saja \n",
        "print(x4)"
      ]
    },
    {
      "cell_type": "code",
      "execution_count": 248,
      "metadata": {
        "id": "gurK3ifDu6ZI",
        "colab": {
          "base_uri": "https://localhost:8080/"
        },
        "outputId": "8f5e9411-8e0f-4c84-835b-38a83c02f41e"
      },
      "outputs": [
        {
          "output_type": "stream",
          "name": "stdout",
          "text": [
            "[ 0.84147098  0.14112001 -0.2794155  -0.7568025   0.98935825  0.41211849\n",
            " -0.54402111 -0.53657292]\n"
          ]
        }
      ],
      "source": [
        "#menggunakan sinus pada array\n",
        "x5 = np.sin(a)\n",
        "print(x5)"
      ]
    },
    {
      "cell_type": "markdown",
      "source": [
        "KUADRAT PADA NUMPY"
      ],
      "metadata": {
        "id": "qPorfCSBhgtg"
      }
    },
    {
      "cell_type": "code",
      "execution_count": 250,
      "metadata": {
        "id": "BuK2zc-dvC1u",
        "colab": {
          "base_uri": "https://localhost:8080/"
        },
        "outputId": "49277e28-3bb2-4e32-b60f-facac1dbabbd"
      },
      "outputs": [
        {
          "output_type": "stream",
          "name": "stdout",
          "text": [
            "[1.         1.73205081 2.44948974 2.         2.82842712 3.\n",
            " 3.16227766 3.46410162]\n"
          ]
        }
      ],
      "source": [
        "#meghitung nilai dari akar kuadrat\n",
        "x6 = np.sqrt(a)\n",
        "print(x6)"
      ]
    },
    {
      "cell_type": "markdown",
      "metadata": {
        "id": "jvqc9EL_qvRv"
      },
      "source": [
        "# 5.20.6 Perkalian pada matrik pada numpy"
      ]
    },
    {
      "cell_type": "code",
      "execution_count": 251,
      "metadata": {
        "id": "1CLWfbReqhIr",
        "colab": {
          "base_uri": "https://localhost:8080/"
        },
        "outputId": "3aad9111-bc21-4f05-843f-24fb0bde52f8"
      },
      "outputs": [
        {
          "output_type": "stream",
          "name": "stdout",
          "text": [
            "[[[ 2  4  6]\n",
            "  [ 7  8  9]\n",
            "  [10 13 15]]]\n"
          ]
        }
      ],
      "source": [
        "#LATIHAN\n",
        "\n",
        "#menampilan perkalian pada matrik pada numpy  \n",
        "a = np.array([[[2,4,6,], [7,8,9], [10,13,15]]])  #memggunakan angka random\n",
        "print(a)\n",
        "#gunakan print untuk menampilkan a"
      ]
    },
    {
      "cell_type": "code",
      "execution_count": 252,
      "metadata": {
        "id": "OmE9AYOxrKZE",
        "colab": {
          "base_uri": "https://localhost:8080/"
        },
        "outputId": "23b5fa03-a477-4e34-dd71-172c2b1ac9ad"
      },
      "outputs": [
        {
          "output_type": "stream",
          "name": "stdout",
          "text": [
            "[[[ 6  7  8]\n",
            "  [ 7  8 10]\n",
            "  [13 15 12]]]\n"
          ]
        }
      ],
      "source": [
        "b= np.array([[[6,7,8], [7,8,10], [13,15,12]]]) #menggunakan angka random\n",
        "print(b)\n",
        "#gunakan print untuk menampilkan b"
      ]
    },
    {
      "cell_type": "code",
      "execution_count": 253,
      "metadata": {
        "id": "PebKW9mMrkdE",
        "colab": {
          "base_uri": "https://localhost:8080/"
        },
        "outputId": "fee8f2bc-f71a-497e-9f1c-629cec83b938"
      },
      "outputs": [
        {
          "output_type": "stream",
          "name": "stdout",
          "text": [
            "[[[ 12  28  48]\n",
            "  [ 49  64  90]\n",
            "  [130 195 180]]]\n"
          ]
        }
      ],
      "source": [
        "c=a*b      #matriks a dikali matriks b hasilnya sama dengan c\n",
        "print(c)   #gunakan print untuk menampilkan c"
      ]
    },
    {
      "cell_type": "code",
      "execution_count": 254,
      "metadata": {
        "id": "FPNAa7Jyr_ke",
        "colab": {
          "base_uri": "https://localhost:8080/"
        },
        "outputId": "76f1ae03-2b95-4ff5-b401-cd449f45348e"
      },
      "outputs": [
        {
          "output_type": "stream",
          "name": "stdout",
          "text": [
            "[[12 13]\n",
            " [14 16]\n",
            " [ 6  7]\n",
            " [ 8  9]]\n"
          ]
        }
      ],
      "source": [
        "e=np.array([[12,13],[14,16], [6,7], [8,9]]) #mendeksripsikan data array\n",
        "print(e)"
      ]
    },
    {
      "cell_type": "code",
      "execution_count": 255,
      "metadata": {
        "id": "nwIs0L8NsZaz",
        "colab": {
          "base_uri": "https://localhost:8080/",
          "height": 200
        },
        "outputId": "866b85b1-3a00-4306-873b-7d589593d173"
      },
      "outputs": [
        {
          "output_type": "error",
          "ename": "ValueError",
          "evalue": "ignored",
          "traceback": [
            "\u001b[0;31m---------------------------------------------------------------------------\u001b[0m",
            "\u001b[0;31mValueError\u001b[0m                                Traceback (most recent call last)",
            "\u001b[0;32m<ipython-input-255-5e8f75180204>\u001b[0m in \u001b[0;36m<cell line: 1>\u001b[0;34m()\u001b[0m\n\u001b[0;32m----> 1\u001b[0;31m \u001b[0mf\u001b[0m\u001b[0;34m=\u001b[0m\u001b[0mnp\u001b[0m\u001b[0;34m.\u001b[0m\u001b[0mmatmul\u001b[0m\u001b[0;34m(\u001b[0m\u001b[0ma\u001b[0m\u001b[0;34m,\u001b[0m\u001b[0me\u001b[0m\u001b[0;34m)\u001b[0m       \u001b[0;31m#error tidak tahu kenapa pak\u001b[0m\u001b[0;34m\u001b[0m\u001b[0;34m\u001b[0m\u001b[0m\n\u001b[0m\u001b[1;32m      2\u001b[0m \u001b[0mprint\u001b[0m\u001b[0;34m(\u001b[0m\u001b[0mf\u001b[0m\u001b[0;34m)\u001b[0m\u001b[0;34m\u001b[0m\u001b[0;34m\u001b[0m\u001b[0m\n",
            "\u001b[0;31mValueError\u001b[0m: matmul: Input operand 1 has a mismatch in its core dimension 0, with gufunc signature (n?,k),(k,m?)->(n?,m?) (size 4 is different from 3)"
          ]
        }
      ],
      "source": [
        "f=np.matmul(a,e)       #error tidak tahu kenapa pak\n",
        "print(f)"
      ]
    },
    {
      "cell_type": "markdown",
      "metadata": {
        "id": "WziWus2EszF-"
      },
      "source": [
        "# 5.20.7 min,max dan sum pada numpy\n",
        "\n",
        "Ini berfungsi untuk mengetahui nilai terkecil dan terbesar dari suatu data"
      ]
    },
    {
      "cell_type": "code",
      "execution_count": 256,
      "metadata": {
        "id": "p0TBNTI7snAZ",
        "colab": {
          "base_uri": "https://localhost:8080/"
        },
        "outputId": "555d236c-807f-41c4-f827-e1758cf7ade9"
      },
      "outputs": [
        {
          "output_type": "stream",
          "name": "stdout",
          "text": [
            "[[4 5 6 7 8]\n",
            " [1 2 3 4 5]\n",
            " [4 5 6 7 8]]\n"
          ]
        }
      ],
      "source": [
        "a = np.array([[4,5,6,7,8],  #mendeskripsikan elemen pada variabel a yang berupa data array\n",
        "             [1,2,3,4,5],\n",
        "             [4,5,6,7,8]])\n",
        "print(a)"
      ]
    },
    {
      "cell_type": "markdown",
      "source": [
        "MENAMPILKAN NILAI MINIMUM"
      ],
      "metadata": {
        "id": "T0YXwOsUjf4Q"
      }
    },
    {
      "cell_type": "code",
      "execution_count": 257,
      "metadata": {
        "colab": {
          "base_uri": "https://localhost:8080/"
        },
        "id": "QsGHGjt1tMbk",
        "outputId": "be1af481-55d8-4b2d-bacf-9c0b3689be71"
      },
      "outputs": [
        {
          "output_type": "stream",
          "name": "stdout",
          "text": [
            "1\n"
          ]
        }
      ],
      "source": [
        "b= np.min(a) #nilai minimal dari data array a\n",
        "print(b)     #gunakan print agar b dapat terbaca"
      ]
    },
    {
      "cell_type": "code",
      "source": [
        "c= np.min (a, axis = 0)  #nilai minimal dari kolom a\n",
        "print (c)                #gunakan print agar c terbaca"
      ],
      "metadata": {
        "colab": {
          "base_uri": "https://localhost:8080/"
        },
        "id": "r0CqKrg_iR45",
        "outputId": "aad3ed96-a69c-4dc3-ae5f-4d4c7fa126b2"
      },
      "execution_count": 262,
      "outputs": [
        {
          "output_type": "stream",
          "name": "stdout",
          "text": [
            "[1 2 3 4 5]\n"
          ]
        }
      ]
    },
    {
      "cell_type": "code",
      "source": [
        "d=np.min (a, axis = 1) #menampilkan nilai minimum dari baris a\n",
        "print (d)              #gunakan print agar d terbaca"
      ],
      "metadata": {
        "colab": {
          "base_uri": "https://localhost:8080/"
        },
        "id": "2xEyfGwKjMXp",
        "outputId": "12c06801-e0cd-4b7a-81fb-17fe6141da8f"
      },
      "execution_count": 263,
      "outputs": [
        {
          "output_type": "stream",
          "name": "stdout",
          "text": [
            "[4 1 4]\n"
          ]
        }
      ]
    },
    {
      "cell_type": "markdown",
      "source": [
        "MENAMPILKAN NILAI MAKSIMUM"
      ],
      "metadata": {
        "id": "rCwSPyQvjkI4"
      }
    },
    {
      "cell_type": "code",
      "execution_count": 265,
      "metadata": {
        "colab": {
          "base_uri": "https://localhost:8080/"
        },
        "id": "UWwMSS5ftTR5",
        "outputId": "c9c9fa32-01cc-4748-84e1-bb0b35b3cfd0"
      },
      "outputs": [
        {
          "output_type": "stream",
          "name": "stdout",
          "text": [
            "8\n"
          ]
        }
      ],
      "source": [
        "e= np.max(a)   #nilai maksimal dari data nilai a\n",
        "print(e)       #gunakan print agar c terbaca"
      ]
    },
    {
      "cell_type": "code",
      "source": [
        "f= np.max (a, axis = 0)  #menampilkan nilai maksimum pada kolom\n",
        "print (f)"
      ],
      "metadata": {
        "colab": {
          "base_uri": "https://localhost:8080/"
        },
        "id": "uC2l0H6Rjrz9",
        "outputId": "51ab1cb4-5b44-4137-8abb-bf1c08b0d0a3"
      },
      "execution_count": 266,
      "outputs": [
        {
          "output_type": "stream",
          "name": "stdout",
          "text": [
            "[4 5 6 7 8]\n"
          ]
        }
      ]
    },
    {
      "cell_type": "code",
      "source": [
        "g= np.max (a, axis = 1)  #menampilkan nilai maksimum pada baris\n",
        "print (g)"
      ],
      "metadata": {
        "colab": {
          "base_uri": "https://localhost:8080/"
        },
        "id": "XlwtLJNZkAaZ",
        "outputId": "3ef370e7-f515-4f9b-ec7a-48eb3b0a818a"
      },
      "execution_count": 268,
      "outputs": [
        {
          "output_type": "stream",
          "name": "stdout",
          "text": [
            "[8 5 8]\n"
          ]
        }
      ]
    },
    {
      "cell_type": "markdown",
      "source": [
        "MENAMPILKAN SUM\n"
      ],
      "metadata": {
        "id": "BMwsDIzDka9V"
      }
    },
    {
      "cell_type": "code",
      "execution_count": 269,
      "metadata": {
        "colab": {
          "base_uri": "https://localhost:8080/"
        },
        "id": "xtKdiLo5tcIy",
        "outputId": "41908a81-8caa-4f83-ebbc-b4de98cfb64b"
      },
      "outputs": [
        {
          "output_type": "stream",
          "name": "stdout",
          "text": [
            "75\n"
          ]
        }
      ],
      "source": [
        "p= np.sum(a)   #nilai penjumlahan dari matriks a\n",
        "print(p)"
      ]
    },
    {
      "cell_type": "code",
      "execution_count": 270,
      "metadata": {
        "id": "FDTHd9BRJN92",
        "colab": {
          "base_uri": "https://localhost:8080/"
        },
        "outputId": "77a8987f-4e75-44b6-b883-28c71e574ac3"
      },
      "outputs": [
        {
          "output_type": "stream",
          "name": "stdout",
          "text": [
            "[ 9 12 15 18 21]\n"
          ]
        }
      ],
      "source": [
        "q= np.sum(a, axis = 0)  #nilai penjumlahan pada kolom a\n",
        "print(q)"
      ]
    },
    {
      "cell_type": "code",
      "source": [
        "r= np.sum(a, axis = 1)   #nilai penjumlahan pada baris a\n",
        "print (r)"
      ],
      "metadata": {
        "colab": {
          "base_uri": "https://localhost:8080/"
        },
        "id": "qWMTI8sAksTC",
        "outputId": "050919a5-3064-444e-e999-fb0c22d3e10d"
      },
      "execution_count": 271,
      "outputs": [
        {
          "output_type": "stream",
          "name": "stdout",
          "text": [
            "[30 15 30]\n"
          ]
        }
      ]
    },
    {
      "cell_type": "markdown",
      "source": [
        "# **TERIMA KASIH**"
      ],
      "metadata": {
        "id": "MkbMFZWIlNJM"
      }
    }
  ],
  "metadata": {
    "colab": {
      "collapsed_sections": [
        "7RAmquegMGhz"
      ],
      "provenance": []
    },
    "kernelspec": {
      "display_name": "Python 3",
      "name": "python3"
    },
    "language_info": {
      "name": "python"
    }
  },
  "nbformat": 4,
  "nbformat_minor": 0
}