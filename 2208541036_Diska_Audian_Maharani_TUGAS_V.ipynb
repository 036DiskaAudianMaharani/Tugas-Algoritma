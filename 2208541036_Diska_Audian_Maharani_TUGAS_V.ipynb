{
  "nbformat": 4,
  "nbformat_minor": 0,
  "metadata": {
    "colab": {
      "provenance": [],
      "collapsed_sections": [
        "7RAmquegMGhz"
      ]
    },
    "kernelspec": {
      "name": "python3",
      "display_name": "Python 3"
    },
    "language_info": {
      "name": "python"
    }
  },
  "cells": [
    {
      "cell_type": "markdown",
      "source": [
        "## **TUGAS KELIMA**\n",
        "(03 April 2023)\n",
        "\n"
      ],
      "metadata": {
        "id": "7RAmquegMGhz"
      }
    },
    {
      "cell_type": "markdown",
      "source": [
        "# 5.16 List 2 Dimensi\n",
        "\n",
        "List 2 dimensi umumnya menempatkan sebuah list di dalam list.\n",
        "\n",
        "Penggambarannya seperti matrik"
      ],
      "metadata": {
        "id": "KOivBRyEJ54_"
      }
    },
    {
      "cell_type": "code",
      "source": [
        "#LATIHAN 1\n",
        "#akan mencoba  membuat list dalam bentuk angka random\n",
        "\n",
        "#kita bebas membuat list dengan bilangan apa saja\n",
        "matrik = [\n",
        "    [25, 37, 46, 59, 62, 71],\n",
        "    [22, 15, 29, 55, 90, 31],\n",
        "    [11, 67, 23, 87, 47, 25],\n",
        "    [77, 89, 25, 38, 48, 90],\n",
        "    ]\n",
        "#harus menggunakan kurung siku di awal dan di akhir, karena jika tidak memakai maka akan error\n",
        "#pada akhir setiap baris juga harus menggunakan koma, karena meskipun satu koma saja tidak ditulis maka sudah pasti akan error \n",
        "#perlu diingat bahwa,list ditulis sebagai daftar nilai yang dipisahkan koma antara tanda kurung siku\n",
        "\n",
        "print(matrik)\n",
        "#print matrik agar dapat terbaca keseluruhan matrik saat di run\n"
      ],
      "metadata": {
        "colab": {
          "base_uri": "https://localhost:8080/"
        },
        "id": "j6s10h1wKFDo",
        "outputId": "54ea83bb-a992-456a-80f7-41015be1f14c"
      },
      "execution_count": null,
      "outputs": [
        {
          "output_type": "stream",
          "name": "stdout",
          "text": [
            "[[25, 37, 46, 59, 62, 71], [22, 15, 29, 55, 90, 31], [11, 67, 23, 87, 47, 25], [77, 89, 25, 38, 48, 90]]\n"
          ]
        }
      ]
    },
    {
      "cell_type": "code",
      "source": [
        "matrik [0]\n",
        "#masih menggunakan list yang sama seperti di atas, jadi tidak perlu ditulis ulang\n",
        "#perlu diingat bahwa python bermula dari 0, jadi matrik baris paling atas adalah matrik 0\n"
      ],
      "metadata": {
        "colab": {
          "base_uri": "https://localhost:8080/"
        },
        "id": "7SeHGhnyWYvD",
        "outputId": "f4baa9d4-cf3a-4bc1-fe56-c4e466f5cd8e"
      },
      "execution_count": null,
      "outputs": [
        {
          "output_type": "execute_result",
          "data": {
            "text/plain": [
              "[25, 37, 46, 59, 62, 71]"
            ]
          },
          "metadata": {},
          "execution_count": 2
        }
      ]
    },
    {
      "cell_type": "code",
      "source": [
        "matrik [-2]\n",
        "#urutan baris matrik nomor 2 dari belakang (ini berarti sama dengan baris ke 3"
      ],
      "metadata": {
        "colab": {
          "base_uri": "https://localhost:8080/"
        },
        "id": "MLD_owbO59Tk",
        "outputId": "8c7bb458-ea92-4765-ebec-afaa3d2c0156"
      },
      "execution_count": null,
      "outputs": [
        {
          "output_type": "execute_result",
          "data": {
            "text/plain": [
              "[11, 67, 23, 87, 47, 25]"
            ]
          },
          "metadata": {},
          "execution_count": 3
        }
      ]
    },
    {
      "cell_type": "code",
      "source": [
        "matrik [1][2] = 150 \n",
        "#ini berarti, angka pada baris ke 1 dengan kolom ke 2 akan diganti oleh angka 150\n",
        "print (matrik[1][2])\n",
        "#harus diberi print karena kalau tidak diberi, tidak menampilkan apapun"
      ],
      "metadata": {
        "colab": {
          "base_uri": "https://localhost:8080/"
        },
        "id": "qJKW96tp7uHk",
        "outputId": "75e672af-8d42-4c7d-f068-4c7c33c784ba"
      },
      "execution_count": null,
      "outputs": [
        {
          "output_type": "stream",
          "name": "stdout",
          "text": [
            "150\n"
          ]
        }
      ]
    },
    {
      "cell_type": "code",
      "source": [
        "#setelah angkanya diganti, coba kita akan menampilkan ulang matrik yang telah dibuat di atas\n",
        "matrik\n",
        "#terbukti bahwa angka pada baris ke 1 dengan kolom 2 angkanya berubah menjadi 150"
      ],
      "metadata": {
        "colab": {
          "base_uri": "https://localhost:8080/"
        },
        "id": "eV1tDvEu8w-I",
        "outputId": "f6c12d23-8e9b-4c46-944d-e1b2d716f6ad"
      },
      "execution_count": null,
      "outputs": [
        {
          "output_type": "execute_result",
          "data": {
            "text/plain": [
              "[[25, 37, 46, 59, 62, 71],\n",
              " [22, 15, 150, 55, 90, 31],\n",
              " [11, 67, 23, 87, 47, 25],\n",
              " [77, 89, 25, 38, 48, 90]]"
            ]
          },
          "metadata": {},
          "execution_count": 5
        }
      ]
    },
    {
      "cell_type": "code",
      "source": [
        "#coba memanggil anggota atau elemen baris dan kolom dari matrik di atas\n",
        "\n",
        "for baris in matrik:      #akan menampilkan baris pada matrik di atas\n",
        "  print (baris)           #gunakan perintah print untuk menampilkan baris\n",
        "  for kolom in baris:     #akan menampilkan kolom pada baris di atas\n",
        "    print (kolom)         #gunakan perintah print untuk menampilkan kolom\n",
        "\n",
        "#karena ini merupakan list maka yang ditampilkan adalah perubahan pada matrik yang dilakukan terakhir kali"
      ],
      "metadata": {
        "colab": {
          "base_uri": "https://localhost:8080/"
        },
        "id": "eomOcc7bJmRa",
        "outputId": "013294ca-b47c-4dc2-cea9-6ba6773325fa"
      },
      "execution_count": null,
      "outputs": [
        {
          "output_type": "stream",
          "name": "stdout",
          "text": [
            "[25, 37, 46, 59, 62, 71]\n",
            "25\n",
            "37\n",
            "46\n",
            "59\n",
            "62\n",
            "71\n",
            "[22, 15, 150, 55, 90, 31]\n",
            "22\n",
            "15\n",
            "150\n",
            "55\n",
            "90\n",
            "31\n",
            "[11, 67, 23, 87, 47, 25]\n",
            "11\n",
            "67\n",
            "23\n",
            "87\n",
            "47\n",
            "25\n",
            "[77, 89, 25, 38, 48, 90]\n",
            "77\n",
            "89\n",
            "25\n",
            "38\n",
            "48\n",
            "90\n"
          ]
        }
      ]
    },
    {
      "cell_type": "code",
      "source": [
        "#LATIHAN 2\n",
        "#saya akan mencoba membuat list dua dimensi dengan jumlah elemen yang berbeda\n",
        "\n",
        "#langkah yang pertama, saya akan membuat dengan angka random\n",
        "matrik = [\n",
        "    [2, 6, 8, 10, 15, 12],      #baris pertama terdapat 6 elemen\n",
        "    [3, 6, 9, 4],               #baris kedua terdapat 4 elemen\n",
        "    [2, 7, 16],                 #baris ketiga terdapat 3 elemen\n",
        "    [5, 11, 14, 17, 20],        #baris keempat terdapat 5 elemen\n",
        "]\n",
        "#pada contoh di atas terlihat bahwa list dua dimensi memiliki jumlah yang berbeda tiap barisnya\n",
        "print (matrik)"
      ],
      "metadata": {
        "colab": {
          "base_uri": "https://localhost:8080/"
        },
        "id": "aO14uW6A3KoL",
        "outputId": "c346ab1e-a334-43db-bed0-9b76773fe3ac"
      },
      "execution_count": null,
      "outputs": [
        {
          "output_type": "stream",
          "name": "stdout",
          "text": [
            "[[2, 6, 8, 10, 15, 12], [3, 6, 9, 4], [2, 7, 16], [5, 11, 14, 17, 20]]\n"
          ]
        }
      ]
    },
    {
      "cell_type": "code",
      "source": [
        "#kita akan lihat apakah list dua dimensi bisa mengoprasikan apabila jumlah elemen berbeda tiap barisnya\n",
        "\n",
        "matrik [2]\n",
        "#menampilkan baris ke 2"
      ],
      "metadata": {
        "colab": {
          "base_uri": "https://localhost:8080/"
        },
        "id": "THcsAn5S6bQh",
        "outputId": "0f968385-0881-4349-fba0-3f3e06efa344"
      },
      "execution_count": null,
      "outputs": [
        {
          "output_type": "execute_result",
          "data": {
            "text/plain": [
              "[2, 7, 16]"
            ]
          },
          "metadata": {},
          "execution_count": 8
        }
      ]
    },
    {
      "cell_type": "code",
      "source": [
        "matrik [0][2]\n",
        "#menampilkan baris ke 0 kolom ke 2"
      ],
      "metadata": {
        "colab": {
          "base_uri": "https://localhost:8080/"
        },
        "id": "H9fyVsLC71W8",
        "outputId": "e26ae0e3-d66d-4316-d226-95b9225e19da"
      },
      "execution_count": null,
      "outputs": [
        {
          "output_type": "execute_result",
          "data": {
            "text/plain": [
              "8"
            ]
          },
          "metadata": {},
          "execution_count": 9
        }
      ]
    },
    {
      "cell_type": "code",
      "source": [
        "matrik [1][0] = 50\n",
        "print (matrik [1][0])\n",
        "#ini artinya, mengubah elemen yang ada di baris 1 kolom 0 dengan angka 50\n",
        "#akan dibuktikan apakah elemen baris 1 kolom 0dapat mengubah angka menjadi 50"
      ],
      "metadata": {
        "colab": {
          "base_uri": "https://localhost:8080/"
        },
        "id": "V5OFCjOM8EZR",
        "outputId": "3e640015-a773-420b-a200-c320db7da849"
      },
      "execution_count": null,
      "outputs": [
        {
          "output_type": "stream",
          "name": "stdout",
          "text": [
            "50\n"
          ]
        }
      ]
    },
    {
      "cell_type": "code",
      "source": [
        "matrik\n",
        "#terbukti bahwa elemen baris 1 kolom 0 berubah menjadi 50"
      ],
      "metadata": {
        "colab": {
          "base_uri": "https://localhost:8080/"
        },
        "id": "lOVjjAg89blq",
        "outputId": "77e2ded9-76f4-4f61-f2d2-2d10f1a82fcb"
      },
      "execution_count": null,
      "outputs": [
        {
          "output_type": "execute_result",
          "data": {
            "text/plain": [
              "[[2, 6, 8, 10, 15, 12], [50, 6, 9, 4], [2, 7, 16], [5, 11, 14, 17, 20]]"
            ]
          },
          "metadata": {},
          "execution_count": 11
        }
      ]
    },
    {
      "cell_type": "code",
      "source": [
        "#cara memanggil elemen atau anggota dari matrik di atas\n",
        "\n",
        "for baris in matrik:      #akan menampilkan baris pada matrik di atas\n",
        "  print (baris)           #gunakan perintah print untuk menampilkan baris\n",
        "  for kolom in baris:     #akan menampilkan kolom pada baris di atas\n",
        "    print (kolom)         #gunakan perintah print untuk menampilkan kolom\n",
        "\n",
        "#karena ini merupakan list maka yang ditampilkan adalah perubahan pada matrik yang dilakukan terakhir "
      ],
      "metadata": {
        "colab": {
          "base_uri": "https://localhost:8080/"
        },
        "id": "gGPI34IYLP2i",
        "outputId": "aaec5f44-5134-47f1-9007-b0662b98d2be"
      },
      "execution_count": null,
      "outputs": [
        {
          "output_type": "stream",
          "name": "stdout",
          "text": [
            "[2, 6, 8, 10, 15, 12]\n",
            "2\n",
            "6\n",
            "8\n",
            "10\n",
            "15\n",
            "12\n",
            "[50, 6, 9, 4]\n",
            "50\n",
            "6\n",
            "9\n",
            "4\n",
            "[2, 7, 16]\n",
            "2\n",
            "7\n",
            "16\n",
            "[5, 11, 14, 17, 20]\n",
            "5\n",
            "11\n",
            "14\n",
            "17\n",
            "20\n"
          ]
        }
      ]
    },
    {
      "cell_type": "markdown",
      "source": [
        "Kesimpulan:\n",
        "\n",
        "List memiliki keistimewaan dimana kita bebas mendefinisikan atau membuat berapa elemen dari setiap baris.\n",
        "Hal ini tentunya akan memudahkan kita saat membuat program yang lebih kompleks."
      ],
      "metadata": {
        "id": "NeGAhQ9A-oac"
      }
    },
    {
      "cell_type": "code",
      "source": [
        "#kita akan membuat list barang apa saja yang ada di toko diska\n",
        "\n",
        "barang = [\n",
        "    ['baju', 'tas', 'boneka'],\n",
        "    ['sepatu', 'topi', 'sarung'],\n",
        "    ['celana', 'rok', 'peci'],\n",
        "    ['sandal', 'kacamata', 'kerudung'],\n",
        "    ['jaket', 'masker', 'sajadah'],\n",
        "    ['daster', 'gamis', 'tasbih'],\n",
        "]\n",
        "#jangan lupa untuk menambahkan '' pada sebelum dan setelah menulis list, karena akan eror apabila tidak ditambah ''\n",
        "#akan menampilkan elemen dari keseluruhan barang\n",
        "print (barang)"
      ],
      "metadata": {
        "colab": {
          "base_uri": "https://localhost:8080/"
        },
        "id": "GOLkFmqI-Aoy",
        "outputId": "25827f2c-8dbc-4e35-ca04-2a2ef443904c"
      },
      "execution_count": null,
      "outputs": [
        {
          "output_type": "stream",
          "name": "stdout",
          "text": [
            "[['baju', 'tas', 'boneka'], ['sepatu', 'topi', 'sarung'], ['celana', 'rok', 'peci'], ['sandal', 'kacamata', 'kerudung'], ['jaket', 'masker', 'sajadah'], ['daster', 'gamis', 'tasbih']]\n"
          ]
        }
      ]
    },
    {
      "cell_type": "code",
      "source": [
        "#mencoba memanggil/menampilkan beberapa elemen dari barang\n",
        "#gunakan perintah print untuk menampilkan hasil\n",
        "#barang tidak perlu ditulis lagi karena ini merupakan lanjutan\n",
        "print (barang[0])\n",
        "#maksudnya adalah menampilkan elemen pada baris ke 0 yang ada di barang"
      ],
      "metadata": {
        "colab": {
          "base_uri": "https://localhost:8080/"
        },
        "id": "4WEZd_ADCtQX",
        "outputId": "9f4c0959-0af8-4baf-be2e-8d1ebf00d97a"
      },
      "execution_count": null,
      "outputs": [
        {
          "output_type": "stream",
          "name": "stdout",
          "text": [
            "['baju', 'tas', 'boneka']\n"
          ]
        }
      ]
    },
    {
      "cell_type": "code",
      "source": [
        "print (barang[-1])\n",
        "#menampilkan elemen pada baris ke 1 dari belakang"
      ],
      "metadata": {
        "colab": {
          "base_uri": "https://localhost:8080/"
        },
        "id": "TWW5JeFkE-Jp",
        "outputId": "71838ef8-acea-49c9-978b-d4ea6d49271d"
      },
      "execution_count": null,
      "outputs": [
        {
          "output_type": "stream",
          "name": "stdout",
          "text": [
            "['daster', 'gamis', 'tasbih']\n"
          ]
        }
      ]
    },
    {
      "cell_type": "code",
      "source": [
        "print (barang[2][0])\n",
        "#menampilkan elemen pada baris ke 2 kolom ke 0"
      ],
      "metadata": {
        "colab": {
          "base_uri": "https://localhost:8080/"
        },
        "id": "KYV2o_e1FQvf",
        "outputId": "ad5f7891-b0fd-4b27-e967-e620955748e1"
      },
      "execution_count": null,
      "outputs": [
        {
          "output_type": "stream",
          "name": "stdout",
          "text": [
            "celana\n"
          ]
        }
      ]
    },
    {
      "cell_type": "code",
      "source": [
        "print (barang)\n",
        "#tetap tidak merubah list yang telah dibuat di awal tadi"
      ],
      "metadata": {
        "colab": {
          "base_uri": "https://localhost:8080/"
        },
        "id": "tc5jaSJSGCpg",
        "outputId": "41ca493c-caee-4ca6-9cbe-3984efda8f2e"
      },
      "execution_count": null,
      "outputs": [
        {
          "output_type": "stream",
          "name": "stdout",
          "text": [
            "[['baju', 'tas', 'boneka'], ['sepatu', 'topi', 'sarung'], ['celana', 'rok', 'peci'], ['sandal', 'kacamata', 'kerudung'], ['jaket', 'masker', 'sajadah'], ['daster', 'gamis', 'tasbih']]\n"
          ]
        }
      ]
    },
    {
      "cell_type": "code",
      "source": [
        "#saya akan memanggil elemen barang\n",
        "\n",
        "for baris in barang:      #akan menampilkan baris pada barang di atas\n",
        "  print (baris)           #gunakan perintah print untuk menampilkan baris\n",
        "  for kolom in baris:     #akan menampilkan kolom pada baris di atas\n",
        "    print (kolom)         #gunakan perintah print untuk menampilkan kolom\n",
        "\n",
        "#karena ini merupakan list maka yang ditampilkan adalah perubahan pada barang yang dilakukan terakhir "
      ],
      "metadata": {
        "colab": {
          "base_uri": "https://localhost:8080/"
        },
        "id": "Nb3QgY6mL7Q1",
        "outputId": "e51b3983-f2e1-478d-bacb-974b37e2dbe9"
      },
      "execution_count": null,
      "outputs": [
        {
          "output_type": "stream",
          "name": "stdout",
          "text": [
            "['baju', 'tas', 'boneka']\n",
            "baju\n",
            "tas\n",
            "boneka\n",
            "['sepatu', 'topi', 'sarung']\n",
            "sepatu\n",
            "topi\n",
            "sarung\n",
            "['celana', 'rok', 'peci']\n",
            "celana\n",
            "rok\n",
            "peci\n",
            "['sandal', 'kacamata', 'kerudung']\n",
            "sandal\n",
            "kacamata\n",
            "kerudung\n",
            "['jaket', 'masker', 'sajadah']\n",
            "jaket\n",
            "masker\n",
            "sajadah\n",
            "['daster', 'gamis', 'tasbih']\n",
            "daster\n",
            "gamis\n",
            "tasbih\n"
          ]
        }
      ]
    },
    {
      "cell_type": "markdown",
      "source": [
        "# 5.17 Tuples\n",
        "\n",
        "Tuples sebenarnya mirip dengan list, akan tetapi yang membedakannya adalah tuples tidak dapat dirubah isinya."
      ],
      "metadata": {
        "id": "NQDTeBG3Gvvb"
      }
    },
    {
      "cell_type": "code",
      "source": [
        "#LATIHAN 1\n",
        "#saya akan menampilkan beberapa fakultas yang ada di universitas udayana\n",
        "\n",
        "fakultas = ('mipa', 'kedokteran', 'teknik', 'hukum', 'pariwisata', 'peternakan')\n",
        "#tuples diawali dan ditutup dengan tanda kurung buka dan memisahkan setiap elemen di dalamnya dengan menggunakan koma\n",
        "#apabila tidak menggunakan tanda kurung buka dan koma, maka akan error\n",
        "print (fakultas)\n",
        "#menggunakan perintah print agar fakultas dapat ditampilkan"
      ],
      "metadata": {
        "colab": {
          "base_uri": "https://localhost:8080/"
        },
        "id": "W5L98G8TGZ3W",
        "outputId": "ab3ab27a-4e3c-43c8-e7e8-8d4076ef86c3"
      },
      "execution_count": null,
      "outputs": [
        {
          "output_type": "stream",
          "name": "stdout",
          "text": [
            "('mipa', 'kedokteran', 'teknik', 'hukum', 'pariwisata', 'peternakan')\n"
          ]
        }
      ]
    },
    {
      "cell_type": "code",
      "source": [
        "print (fakultas[5])\n",
        "#menampilkan elemen di urutan ke 5"
      ],
      "metadata": {
        "colab": {
          "base_uri": "https://localhost:8080/"
        },
        "id": "L5xJFMA2O2Qw",
        "outputId": "48a122dc-0939-4e4a-e189-a518c984dd0b"
      },
      "execution_count": null,
      "outputs": [
        {
          "output_type": "stream",
          "name": "stdout",
          "text": [
            "peternakan\n"
          ]
        }
      ]
    },
    {
      "cell_type": "code",
      "source": [
        "print (fakultas[1:3])\n",
        "#ini maksudnya menampilkan elemen dari urutan ke 1 hingga ke urutan ke 2, urutan ke 3 tidak ikut\n"
      ],
      "metadata": {
        "colab": {
          "base_uri": "https://localhost:8080/"
        },
        "id": "vfuzBjxqP9bW",
        "outputId": "60508141-c8d0-41bd-e0f4-6eacbf4867e9"
      },
      "execution_count": null,
      "outputs": [
        {
          "output_type": "stream",
          "name": "stdout",
          "text": [
            "('kedokteran', 'teknik')\n"
          ]
        }
      ]
    },
    {
      "cell_type": "code",
      "source": [
        "#saya akan mencoba membuat perubahan pada elemen fakultas\n",
        "\n",
        "fakultas[5] = ('pertanian')     #ini artinya, urutan ke 5 akan diubah menjadi pertanian\n",
        "#error karena tuple tidak dapat dirubah isinya/elemennya"
      ],
      "metadata": {
        "colab": {
          "base_uri": "https://localhost:8080/",
          "height": 235
        },
        "id": "Fo8EtjPsQsiK",
        "outputId": "a3e5b4a6-0151-4550-bc83-921cde2a8786"
      },
      "execution_count": null,
      "outputs": [
        {
          "output_type": "error",
          "ename": "TypeError",
          "evalue": "ignored",
          "traceback": [
            "\u001b[0;31m---------------------------------------------------------------------------\u001b[0m",
            "\u001b[0;31mTypeError\u001b[0m                                 Traceback (most recent call last)",
            "\u001b[0;32m<ipython-input-23-1ca3a28e82bf>\u001b[0m in \u001b[0;36m<cell line: 3>\u001b[0;34m()\u001b[0m\n\u001b[1;32m      1\u001b[0m \u001b[0;31m#saya akan mencoba membuat perubahan pada elemen fakultas\u001b[0m\u001b[0;34m\u001b[0m\u001b[0;34m\u001b[0m\u001b[0m\n\u001b[1;32m      2\u001b[0m \u001b[0;34m\u001b[0m\u001b[0m\n\u001b[0;32m----> 3\u001b[0;31m \u001b[0mfakultas\u001b[0m\u001b[0;34m[\u001b[0m\u001b[0;36m5\u001b[0m\u001b[0;34m]\u001b[0m \u001b[0;34m=\u001b[0m \u001b[0;34m(\u001b[0m\u001b[0;34m'pertanian'\u001b[0m\u001b[0;34m)\u001b[0m     \u001b[0;31m#ini artinya, urutan ke 5 akan diubah menjadi pertanian\u001b[0m\u001b[0;34m\u001b[0m\u001b[0;34m\u001b[0m\u001b[0m\n\u001b[0m\u001b[1;32m      4\u001b[0m \u001b[0;31m#error karena tuple tidak dapat dirubah isinya/elemennya\u001b[0m\u001b[0;34m\u001b[0m\u001b[0;34m\u001b[0m\u001b[0m\n",
            "\u001b[0;31mTypeError\u001b[0m: 'tuple' object does not support item assignment"
          ]
        }
      ]
    },
    {
      "cell_type": "code",
      "source": [
        "fakultas.remove('teknik')        #remove artinya kita akan menghapus elemen teknik\n",
        "#ini error karena tuple tidak dapat dirubah isinya/elemennya"
      ],
      "metadata": {
        "colab": {
          "base_uri": "https://localhost:8080/",
          "height": 183
        },
        "id": "URblyu_lRlEF",
        "outputId": "c720fccc-dcda-40c0-c1f6-c0fc9b5d7d91"
      },
      "execution_count": null,
      "outputs": [
        {
          "output_type": "error",
          "ename": "AttributeError",
          "evalue": "ignored",
          "traceback": [
            "\u001b[0;31m---------------------------------------------------------------------------\u001b[0m",
            "\u001b[0;31mAttributeError\u001b[0m                            Traceback (most recent call last)",
            "\u001b[0;32m<ipython-input-25-2c221d29ad15>\u001b[0m in \u001b[0;36m<cell line: 1>\u001b[0;34m()\u001b[0m\n\u001b[0;32m----> 1\u001b[0;31m \u001b[0mfakultas\u001b[0m\u001b[0;34m.\u001b[0m\u001b[0mremove\u001b[0m\u001b[0;34m(\u001b[0m\u001b[0;34m'teknik'\u001b[0m\u001b[0;34m)\u001b[0m        \u001b[0;31m#remove artinya kita akan menghapus elemen teknik\u001b[0m\u001b[0;34m\u001b[0m\u001b[0;34m\u001b[0m\u001b[0m\n\u001b[0m\u001b[1;32m      2\u001b[0m \u001b[0;31m#ini error karena tuple tidak dapat dirubah isinya/elemennya\u001b[0m\u001b[0;34m\u001b[0m\u001b[0;34m\u001b[0m\u001b[0m\n",
            "\u001b[0;31mAttributeError\u001b[0m: 'tuple' object has no attribute 'remove'"
          ]
        }
      ]
    },
    {
      "cell_type": "code",
      "source": [
        "fakultas.append('kedokteran_gigi')   #append berguna untuk menambahkan objek ke list\n",
        "#error karena elemen tuple tidak dapat diubah, diganti, maupun ditambahkan"
      ],
      "metadata": {
        "colab": {
          "base_uri": "https://localhost:8080/",
          "height": 183
        },
        "id": "521BjEiKSYQa",
        "outputId": "3a5248a5-6810-49e0-be4b-8b79f0367018"
      },
      "execution_count": null,
      "outputs": [
        {
          "output_type": "error",
          "ename": "AttributeError",
          "evalue": "ignored",
          "traceback": [
            "\u001b[0;31m---------------------------------------------------------------------------\u001b[0m",
            "\u001b[0;31mAttributeError\u001b[0m                            Traceback (most recent call last)",
            "\u001b[0;32m<ipython-input-26-daee0fafd4e8>\u001b[0m in \u001b[0;36m<cell line: 1>\u001b[0;34m()\u001b[0m\n\u001b[0;32m----> 1\u001b[0;31m \u001b[0mfakultas\u001b[0m\u001b[0;34m.\u001b[0m\u001b[0mappend\u001b[0m\u001b[0;34m(\u001b[0m\u001b[0;34m'kedokteran_gigi'\u001b[0m\u001b[0;34m)\u001b[0m   \u001b[0;31m#append berguna untuk menambahkan objek ke list\u001b[0m\u001b[0;34m\u001b[0m\u001b[0;34m\u001b[0m\u001b[0m\n\u001b[0m\u001b[1;32m      2\u001b[0m \u001b[0;31m#error karena elemen tuple tidak dapat diubah, diganti, maupun ditambahkan\u001b[0m\u001b[0;34m\u001b[0m\u001b[0;34m\u001b[0m\u001b[0m\n",
            "\u001b[0;31mAttributeError\u001b[0m: 'tuple' object has no attribute 'append'"
          ]
        }
      ]
    },
    {
      "cell_type": "code",
      "source": [
        "fakultas.upper('peternakan')     #upper maksudnya memperbesar huruf pada elemen peternakan\n",
        "#error karena isi/elemen tuple tidak dapat diubah"
      ],
      "metadata": {
        "colab": {
          "base_uri": "https://localhost:8080/",
          "height": 200
        },
        "id": "tFqsHnQHSpNR",
        "outputId": "3ef6d08e-abb4-495a-ebdf-e22dde0a4d57"
      },
      "execution_count": null,
      "outputs": [
        {
          "output_type": "error",
          "ename": "AttributeError",
          "evalue": "ignored",
          "traceback": [
            "\u001b[0;31m---------------------------------------------------------------------------\u001b[0m",
            "\u001b[0;31mAttributeError\u001b[0m                            Traceback (most recent call last)",
            "\u001b[0;32m<ipython-input-28-1ae81a704481>\u001b[0m in \u001b[0;36m<cell line: 1>\u001b[0;34m()\u001b[0m\n\u001b[0;32m----> 1\u001b[0;31m \u001b[0mfakultas\u001b[0m\u001b[0;34m.\u001b[0m\u001b[0mupper\u001b[0m\u001b[0;34m(\u001b[0m\u001b[0;34m'peternakan'\u001b[0m\u001b[0;34m)\u001b[0m     \u001b[0;31m#upper maksudnya memperbesar huruf pada elemen peternakan\u001b[0m\u001b[0;34m\u001b[0m\u001b[0;34m\u001b[0m\u001b[0m\n\u001b[0m\u001b[1;32m      2\u001b[0m \u001b[0;31m#error karena isi/elemen tuple tidak dapat diubah\u001b[0m\u001b[0;34m\u001b[0m\u001b[0;34m\u001b[0m\u001b[0m\n",
            "\u001b[0;31mAttributeError\u001b[0m: 'tuple' object has no attribute 'upper'"
          ]
        }
      ]
    },
    {
      "cell_type": "code",
      "source": [
        "fakultas.count('ilmu_budaya')     #ini maksudnya menghitung ada berapa elemen ilmu budaya di fakultas\n",
        "#oleh karena itu, ilmu budaya di fakultas adalah 0, karena ilmu budaya bukan elemen"
      ],
      "metadata": {
        "colab": {
          "base_uri": "https://localhost:8080/"
        },
        "id": "_CC9daAFS516",
        "outputId": "533efa46-ea35-4303-a3ac-f64ed3f0e0ea"
      },
      "execution_count": null,
      "outputs": [
        {
          "output_type": "execute_result",
          "data": {
            "text/plain": [
              "0"
            ]
          },
          "metadata": {},
          "execution_count": 29
        }
      ]
    },
    {
      "cell_type": "code",
      "source": [
        "fakultas.count('mipa')       #ini maksudnya menghitung ada berapa elemen mipa di fakultas\n",
        "#oleh karena itu, elemen mipa di fakultas hanya ada satu"
      ],
      "metadata": {
        "colab": {
          "base_uri": "https://localhost:8080/"
        },
        "id": "tKK2uQ5ATG_i",
        "outputId": "24dde3c9-813a-43c8-932e-e797e6de0842"
      },
      "execution_count": null,
      "outputs": [
        {
          "output_type": "execute_result",
          "data": {
            "text/plain": [
              "1"
            ]
          },
          "metadata": {},
          "execution_count": 27
        }
      ]
    },
    {
      "cell_type": "code",
      "source": [
        "#mencari panjang dari fakultas\n",
        "len(fakultas) \n",
        "#maka diperoleh panjang dari fakultas adalah 6"
      ],
      "metadata": {
        "colab": {
          "base_uri": "https://localhost:8080/"
        },
        "id": "eo2QJ4Zdfymw",
        "outputId": "dd7095c0-414b-45c0-8412-6ca3becb3cc4"
      },
      "execution_count": null,
      "outputs": [
        {
          "output_type": "execute_result",
          "data": {
            "text/plain": [
              "6"
            ]
          },
          "metadata": {},
          "execution_count": 30
        }
      ]
    },
    {
      "cell_type": "code",
      "source": [
        "#coba memanggil semua elemen pada fakultas \n",
        "\n",
        "for i in fakultas:\n",
        "  print (i)"
      ],
      "metadata": {
        "colab": {
          "base_uri": "https://localhost:8080/"
        },
        "id": "91NxfFcOhP78",
        "outputId": "a31c7aa4-07b5-40a6-de18-f0ef087232ef"
      },
      "execution_count": null,
      "outputs": [
        {
          "output_type": "stream",
          "name": "stdout",
          "text": [
            "mipa\n",
            "kedokteran\n",
            "teknik\n",
            "hukum\n",
            "pariwisata\n",
            "peternakan\n"
          ]
        }
      ]
    },
    {
      "cell_type": "code",
      "source": [
        "#LATIHAN 2\n",
        "#saya akan membuat tuple dengan elemen bilangan ganjil\n",
        "\n",
        "#tulis elemen-elemen ganjil\n",
        "ganjil = (1, 3, 5, 7, 9, 11, 13, 15, 17, 19)\n",
        "print (ganjil)\n",
        "#gunakan perintah print agar ditampilkan"
      ],
      "metadata": {
        "colab": {
          "base_uri": "https://localhost:8080/"
        },
        "id": "Cq_1nJFryJq5",
        "outputId": "694aa944-942c-4388-8629-7b7dfeb531bd"
      },
      "execution_count": null,
      "outputs": [
        {
          "output_type": "stream",
          "name": "stdout",
          "text": [
            "(1, 3, 5, 7, 9, 11, 13, 15, 17, 19)\n"
          ]
        }
      ]
    },
    {
      "cell_type": "code",
      "source": [
        "#menentukan nilai maksimum\n",
        "#nilai maksimum adalah nilai ganjil pada urutan paling belakang\n",
        "#maka diperoleh hasilnya 19\n",
        "max (ganjil)"
      ],
      "metadata": {
        "colab": {
          "base_uri": "https://localhost:8080/"
        },
        "id": "COEsY5l4yaIq",
        "outputId": "f524f41b-8ba7-46fc-d328-f6a3dd115828"
      },
      "execution_count": null,
      "outputs": [
        {
          "output_type": "execute_result",
          "data": {
            "text/plain": [
              "19"
            ]
          },
          "metadata": {},
          "execution_count": 33
        }
      ]
    },
    {
      "cell_type": "code",
      "source": [
        "#menentukan nilai minimum\n",
        "#nilai minimum adalah nilai ganjil pada urutan paling depan\n",
        "#maka diperoleh hasilnya 1\n",
        "min (ganjil)"
      ],
      "metadata": {
        "id": "D4T5evaHygYO"
      },
      "execution_count": null,
      "outputs": []
    },
    {
      "cell_type": "code",
      "source": [
        "#menentukan jumlah\n",
        "#jumlah yang ditentukan adalah jumlah dari elemen ganjil\n",
        "sum (ganjil)"
      ],
      "metadata": {
        "colab": {
          "base_uri": "https://localhost:8080/"
        },
        "id": "WLCOAaD4ymiR",
        "outputId": "9af693fb-c79f-439e-b4c8-f8061e87094c"
      },
      "execution_count": null,
      "outputs": [
        {
          "output_type": "execute_result",
          "data": {
            "text/plain": [
              "100"
            ]
          },
          "metadata": {},
          "execution_count": 35
        }
      ]
    },
    {
      "cell_type": "code",
      "source": [
        "#menampilkan elemen ganjil urutan ke print 1 sampai 5\n",
        "#dengan 1 kurang dari 5\n",
        "#artinya, 1 dan 5 tidak tergolong / tiak ikut\n",
        "(ganjil[1:5])"
      ],
      "metadata": {
        "colab": {
          "base_uri": "https://localhost:8080/"
        },
        "id": "CjfmlFkfyzXd",
        "outputId": "65577b3a-734a-4976-8001-a245959dfef0"
      },
      "execution_count": null,
      "outputs": [
        {
          "output_type": "execute_result",
          "data": {
            "text/plain": [
              "(3, 5, 7, 9)"
            ]
          },
          "metadata": {},
          "execution_count": 34
        }
      ]
    },
    {
      "cell_type": "code",
      "source": [
        "#menampilkan elemen ganjil pada urutan ke 10\n",
        "#sudah pasti tidak ada, karena itu hasilnya error\n",
        "print (ganjil[10])"
      ],
      "metadata": {
        "colab": {
          "base_uri": "https://localhost:8080/",
          "height": 200
        },
        "id": "gN77FvXL0TY5",
        "outputId": "9cb732f5-c810-4013-96ac-908a7a6f8d8d"
      },
      "execution_count": null,
      "outputs": [
        {
          "output_type": "error",
          "ename": "IndexError",
          "evalue": "ignored",
          "traceback": [
            "\u001b[0;31m---------------------------------------------------------------------------\u001b[0m",
            "\u001b[0;31mIndexError\u001b[0m                                Traceback (most recent call last)",
            "\u001b[0;32m<ipython-input-36-eae4a66d7f6e>\u001b[0m in \u001b[0;36m<cell line: 3>\u001b[0;34m()\u001b[0m\n\u001b[1;32m      1\u001b[0m \u001b[0;31m#menampilkan elemen ganjil pada urutan ke 10\u001b[0m\u001b[0;34m\u001b[0m\u001b[0;34m\u001b[0m\u001b[0m\n\u001b[1;32m      2\u001b[0m \u001b[0;31m#sudah pasti tidak ada, karena itu hasilnya error\u001b[0m\u001b[0;34m\u001b[0m\u001b[0;34m\u001b[0m\u001b[0m\n\u001b[0;32m----> 3\u001b[0;31m \u001b[0mprint\u001b[0m \u001b[0;34m(\u001b[0m\u001b[0mganjil\u001b[0m\u001b[0;34m[\u001b[0m\u001b[0;36m10\u001b[0m\u001b[0;34m]\u001b[0m\u001b[0;34m)\u001b[0m\u001b[0;34m\u001b[0m\u001b[0;34m\u001b[0m\u001b[0m\n\u001b[0m",
            "\u001b[0;31mIndexError\u001b[0m: tuple index out of range"
          ]
        }
      ]
    },
    {
      "cell_type": "code",
      "source": [
        "#coba tampikan tuple sekarang\n",
        "\n",
        "for bilangan in ganjil:\n",
        "  print (bilangan)\n",
        "  #menggunakan perintah print agar dapat ditampilkan\n",
        "#elemen tetap dan tidak ada yang berubah maupun bertambah\n",
        "#elemen ditampilkan dalam bentuk vertikal"
      ],
      "metadata": {
        "colab": {
          "base_uri": "https://localhost:8080/"
        },
        "id": "JGmGDsLc1bqj",
        "outputId": "a2a1fdb6-964e-4e3f-b810-185bb11bad51"
      },
      "execution_count": null,
      "outputs": [
        {
          "output_type": "stream",
          "name": "stdout",
          "text": [
            "1\n",
            "3\n",
            "5\n",
            "7\n",
            "9\n",
            "11\n",
            "13\n",
            "15\n",
            "17\n",
            "19\n"
          ]
        }
      ]
    },
    {
      "cell_type": "markdown",
      "source": [
        "## 5.18 Dictionaries\n",
        "\n",
        "Merupakan data yang satu sama lainnya berkaitan.\n",
        "\n",
        "memahami dictionaries, kita akan melihat kembali phyton list"
      ],
      "metadata": {
        "id": "8TuLXsFR3Mst"
      }
    },
    {
      "cell_type": "code",
      "source": [
        "#LATIHAN 1\n",
        "#akan menampilkan data saya \n",
        "\n",
        "#mengisi data saya yang terdiri dari nama, nim, instansi, fakultas, prodi, alamat tinggal dan alamat asal\n",
        "data_saya = {\n",
        "    'nama': 'Diska Audian Maharani',\n",
        "    'nim' : 2208541036,\n",
        "    'instansi': 'Universitas Udayana',\n",
        "    'fakultas': 'MIPA',\n",
        "    'prodi': 'Matematika',\n",
        "    'alamat_tinggal':'gang Melati Jimbaran',\n",
        "    'alamat_asal':'Situbondo Jawa Timur',\n",
        "}\n"
      ],
      "metadata": {
        "id": "RJMEjZBV2Q5c"
      },
      "execution_count": null,
      "outputs": []
    },
    {
      "cell_type": "code",
      "source": [
        "#menampilkan 'nama' pada data saya\n",
        "#menggunakan perintah print untuk menampilkan\n",
        "print (data_saya['nama'])"
      ],
      "metadata": {
        "colab": {
          "base_uri": "https://localhost:8080/"
        },
        "id": "-frdeF3279h2",
        "outputId": "b40427bc-6867-4524-8796-94fdd1ac2726"
      },
      "execution_count": null,
      "outputs": [
        {
          "output_type": "stream",
          "name": "stdout",
          "text": [
            "Diska Audian Maharani\n"
          ]
        }
      ]
    },
    {
      "cell_type": "code",
      "source": [
        "print (data_saya['Nama'])\n",
        "#ini error karena kata 'Nama' tidak sesuai dengan yang ada pada data_saya\n",
        "#yang benar adalah 'nama' seperti yang telah ditunjukkan di atas"
      ],
      "metadata": {
        "colab": {
          "base_uri": "https://localhost:8080/",
          "height": 200
        },
        "id": "9hE_k2_lm6ii",
        "outputId": "cc0a6dd0-e54e-4acf-bce6-7358ecfdfe45"
      },
      "execution_count": null,
      "outputs": [
        {
          "output_type": "error",
          "ename": "KeyError",
          "evalue": "ignored",
          "traceback": [
            "\u001b[0;31m---------------------------------------------------------------------------\u001b[0m",
            "\u001b[0;31mKeyError\u001b[0m                                  Traceback (most recent call last)",
            "\u001b[0;32m<ipython-input-40-7ec45cf49193>\u001b[0m in \u001b[0;36m<cell line: 1>\u001b[0;34m()\u001b[0m\n\u001b[0;32m----> 1\u001b[0;31m \u001b[0mprint\u001b[0m \u001b[0;34m(\u001b[0m\u001b[0mdata_saya\u001b[0m\u001b[0;34m[\u001b[0m\u001b[0;34m'Nama'\u001b[0m\u001b[0;34m]\u001b[0m\u001b[0;34m)\u001b[0m\u001b[0;34m\u001b[0m\u001b[0;34m\u001b[0m\u001b[0m\n\u001b[0m\u001b[1;32m      2\u001b[0m \u001b[0;31m#ini error karena kata 'Nama' tidak sesuai dengan yang ada pada data_saya\u001b[0m\u001b[0;34m\u001b[0m\u001b[0;34m\u001b[0m\u001b[0m\n\u001b[1;32m      3\u001b[0m \u001b[0;31m#yang benar adalah 'nama' seperti yang telah ditunjukkan di atas\u001b[0m\u001b[0;34m\u001b[0m\u001b[0;34m\u001b[0m\u001b[0m\n",
            "\u001b[0;31mKeyError\u001b[0m: 'Nama'"
          ]
        }
      ]
    },
    {
      "cell_type": "code",
      "source": [
        "#akan menampilkan data nama yang ada di data saya\n",
        "print (data_saya.get('nama'))"
      ],
      "metadata": {
        "colab": {
          "base_uri": "https://localhost:8080/"
        },
        "id": "GdEsJGVN80_-",
        "outputId": "df2f4914-add1-4157-cecc-f3e3e83caa66"
      },
      "execution_count": null,
      "outputs": [
        {
          "output_type": "stream",
          "name": "stdout",
          "text": [
            "Diska Audian Maharani\n"
          ]
        }
      ]
    },
    {
      "cell_type": "code",
      "source": [
        "#akan menampilkan data nama yang ada di data saya\n",
        "print (data_saya.get('Nama'))\n",
        "#data nama yang ditampilkan tidak ada karena kata 'Nama' tidak sesuai dengan yang ada di data saya\n",
        "#oleh karena itu dia menghasilkan none"
      ],
      "metadata": {
        "colab": {
          "base_uri": "https://localhost:8080/"
        },
        "id": "peLEwAo3px2H",
        "outputId": "79d43bec-9635-4a5d-a501-d2cf30c40a47"
      },
      "execution_count": null,
      "outputs": [
        {
          "output_type": "stream",
          "name": "stdout",
          "text": [
            "None\n"
          ]
        }
      ]
    },
    {
      "cell_type": "code",
      "source": [
        "#akan menampilkan tanggal lahir\n",
        "print(data_saya.get('tanggal_lahir'))\n",
        "#data tanggal lahir yang ditampilkan tidak ada karena tanggal lahir bukan merupakan elemen dari data saya\n",
        "#sehingga dia menghasilkan none"
      ],
      "metadata": {
        "colab": {
          "base_uri": "https://localhost:8080/"
        },
        "id": "4yT6ptInrFek",
        "outputId": "6b1a9afb-cfb5-4db8-8f20-35cbbadbc13f"
      },
      "execution_count": null,
      "outputs": [
        {
          "output_type": "stream",
          "name": "stdout",
          "text": [
            "None\n"
          ]
        }
      ]
    },
    {
      "cell_type": "code",
      "source": [
        "#akan menampilkan tanggal lahir\n",
        "print(data_saya.get('tanggal_lahir', '23-08-2003'))\n",
        "#data tanggal lahir dapat ditampilkan karena telah ditambahkan tanggal lahir pada print di atas\n",
        "#sehingga dia dapat ditampilkan"
      ],
      "metadata": {
        "colab": {
          "base_uri": "https://localhost:8080/"
        },
        "id": "EYftoPU9sDgw",
        "outputId": "f1b48dbc-ddd7-421c-beb7-7d8a4a9b3fdd"
      },
      "execution_count": null,
      "outputs": [
        {
          "output_type": "stream",
          "name": "stdout",
          "text": [
            "23-08-2003\n"
          ]
        }
      ]
    },
    {
      "cell_type": "code",
      "source": [
        "#setelah menampilkan tanggal lahir, kita mencoba melihat data saya, apakah tetap atau berisi tanggal lahir\n",
        "\n",
        "print (data_saya)\n",
        "#ternyata, data saya tetap seperti di awal tanpa ada penambahan tanggal lahir\n",
        "#karena pada tanggal lahir di atas hanya berfungsi menampilkan saja"
      ],
      "metadata": {
        "colab": {
          "base_uri": "https://localhost:8080/"
        },
        "id": "cBF9gIJJsub8",
        "outputId": "fa969e86-f3f2-449c-87c2-b2d0d95d346a"
      },
      "execution_count": null,
      "outputs": [
        {
          "output_type": "stream",
          "name": "stdout",
          "text": [
            "{'nama': 'Diska Audian Maharani', 'nim': 2208541036, 'instansi': 'Universitas Udayana', 'fakultas': 'MIPA', 'prodi': 'Matematika', 'alamat_tinggal': 'gang Melati Jimbaran', 'alamat_asal': 'Situbondo Jawa Timur'}\n"
          ]
        }
      ]
    },
    {
      "cell_type": "code",
      "source": [
        "#coba menambahkan nomor hp pada data_saya\n",
        "data_saya['nomor_hp'] = '085432789654' \n",
        "print (data_saya['nomor_hp'])\n",
        "#gunakan perintah print agar dapat menampilkan nomor hp"
      ],
      "metadata": {
        "colab": {
          "base_uri": "https://localhost:8080/"
        },
        "id": "Dlvr3CXfA7Mj",
        "outputId": "3d2cd7fc-6598-40a4-c5e2-62443a369f79"
      },
      "execution_count": null,
      "outputs": [
        {
          "output_type": "stream",
          "name": "stdout",
          "text": [
            "085432789654\n"
          ]
        }
      ]
    },
    {
      "cell_type": "code",
      "source": [
        "#coba menambahkan nomor hp pada data_saya\n",
        "data_saya['tanggal_lahir'] = '23-08-2003'\n",
        "print (data_saya['tanggal_lahir'])\n",
        "#gunakan perintah print agar dapat menampilkan tanggal lahir"
      ],
      "metadata": {
        "id": "5UI-E9x0xdd6",
        "colab": {
          "base_uri": "https://localhost:8080/"
        },
        "outputId": "ec595137-2b2c-471a-967b-0b7b8e6e357f"
      },
      "execution_count": null,
      "outputs": [
        {
          "output_type": "stream",
          "name": "stdout",
          "text": [
            "23-08-2003\n"
          ]
        }
      ]
    },
    {
      "cell_type": "code",
      "source": [
        "#saya mencoba menambahkan nomor hp dan tanggal lahir pada data_saya\n",
        "\n",
        "print (data_saya)\n",
        "#nomor hp dan tanggal lahir bisa ditambahkan di dalam list data_saya\n",
        "#karena pada nomor hp dan tanggal lahir di atas berfungsi untuk menambah list dalam data_saya"
      ],
      "metadata": {
        "colab": {
          "base_uri": "https://localhost:8080/"
        },
        "id": "4uzAwRM9xFl8",
        "outputId": "fff3e7fb-53cf-4b10-89fe-3fa2f5dadb50"
      },
      "execution_count": null,
      "outputs": [
        {
          "output_type": "stream",
          "name": "stdout",
          "text": [
            "{'nama': 'Diska Audian Maharani', 'nim': 2208541036, 'instansi': 'Universitas Udayana', 'fakultas': 'MIPA', 'prodi': 'Matematika', 'alamat_tinggal': 'gang Melati Jimbaran', 'alamat_asal': 'Situbondo Jawa Timur', 'nomor_hp': '085432789654', 'tanggal_lahir': '23-08-2003'}\n"
          ]
        }
      ]
    },
    {
      "cell_type": "code",
      "source": [
        "#membuat program untuk merubah nim yang tadinya berupa angka menjadi sebutan bilangan tersebut.\n",
        "#angka menjadi sebutan bilangannya sendiri\n",
        "angka = {\n",
        "    '0': 'nol',\n",
        "    '1': 'satu',\n",
        "    '2': 'dua',\n",
        "    '3': 'tiga',\n",
        "    '4': 'empat',\n",
        "    '5': 'lima',\n",
        "    '6': 'enam',\n",
        "    '7': 'tujuh',\n",
        "    '8': 'delapan',\n",
        "    '9': 'sembilan'\n",
        "}\n",
        "\n",
        "#jangan lupa untuk menambahkan koma di akhir, karena kalau lupa maka akan eror"
      ],
      "metadata": {
        "id": "OGd-fO6NDxuy"
      },
      "execution_count": null,
      "outputs": []
    },
    {
      "cell_type": "code",
      "source": [
        "nim = input ('Masukkan nim anda ')      #berfungsi untuk menampilkan nilai nim anda\n",
        "nim_angka = ' '                         #menampilkan nim dalam bentuk angka\n",
        "for isi in nim:                         \n",
        "  nim += angka.get(isi) + ' '           #menampilkan nim berupa angka dan sebutan billangannya\n",
        "print(nim )                             #gunakan perintah print untuk menampilkan semuanya"
      ],
      "metadata": {
        "colab": {
          "base_uri": "https://localhost:8080/"
        },
        "id": "yqM-CpExE4d5",
        "outputId": "83b6e695-21f5-4112-8a4b-357af35b8a83"
      },
      "execution_count": 73,
      "outputs": [
        {
          "output_type": "stream",
          "name": "stdout",
          "text": [
            "Masukkan nim anda 2208541036\n",
            "2208541036dua dua nol delapan lima empat satu nol tiga enam \n"
          ]
        }
      ]
    },
    {
      "cell_type": "markdown",
      "source": [
        "5.19 Fungsi Dalam Python\n",
        "\n",
        "Pada dasarnya, fungsi dibentuk untuk menghindari pengulangan pembuatan program secara manual.\n",
        "\n",
        "Gunakan fungsi untuk mempermudah dan meringkas program yang kita buat."
      ],
      "metadata": {
        "id": "u3ZiNGwJ7XYN"
      }
    },
    {
      "cell_type": "code",
      "source": [
        "#LATIHAN 1\n",
        "\n",
        "#membuat perintah untuk penginputan nama depan,tengah dan belakang\n",
        "def full_nama(nama_depan, nama_tengah, nama_belakang):\n",
        "  print(f'Nama lengkap saya adalah {nama_depan} {nama_tengah} {nama_belakang}')\n",
        "#menggunakan perintah print untuk menampilkan apa yang telah dibuat tadi"
      ],
      "metadata": {
        "id": "Bdyw08S0_wmA"
      },
      "execution_count": 76,
      "outputs": []
    },
    {
      "cell_type": "code",
      "source": [
        "nama_depan = input ('Nama depan saya adalah ')         #menamampilkan pengisian untuk nama bagian depan\n",
        "nama_tengah = input ('Nama tengah saya adalah ')       #menampilkan pengisian untuk nama bagian tengah\n",
        "nama_belakang = input ('Nama belakang saya adalah ')   #menampilkan pengisian untuk nama bagian akhir\n",
        "full_nama(nama_depan, nama_tengah, nama_belakang)      #menampilkan full nama secara otomatis tapa perlu kita masukin nama depan, tengah, akhir nya lagi"
      ],
      "metadata": {
        "colab": {
          "base_uri": "https://localhost:8080/"
        },
        "id": "KCVc5SzpLxks",
        "outputId": "be54abc0-f803-49e8-e320-89b515260476"
      },
      "execution_count": 77,
      "outputs": [
        {
          "output_type": "stream",
          "name": "stdout",
          "text": [
            "Nama depan saya adalah Diska\n",
            "Nama tengah saya adalah Audian\n",
            "Nama belakang saya adalah Maharani\n",
            "Nama lengkap saya adalah Diska Audian Maharani\n"
          ]
        }
      ]
    },
    {
      "cell_type": "code",
      "source": [
        "#LATIHAN 2\n",
        "#tugas fungsi dalam phyton"
      ],
      "metadata": {
        "id": "9mHebTJuMH1P"
      },
      "execution_count": null,
      "outputs": []
    },
    {
      "cell_type": "markdown",
      "source": [
        "Ada dua jenis fungsi pada python yaitu:\n",
        "\n",
        "-Menjalankan perintah\n",
        "\n",
        "-Menampilkan hasil perhitungan"
      ],
      "metadata": {
        "id": "nIRuCB0tOgxW"
      }
    },
    {
      "cell_type": "code",
      "source": [
        "def waktu_sampai(jarak, kecepatan):  #data yang dibutuhkan adalah data jarak dan kecepatannya\n",
        "  waktu = jarak/kecepatan            #rumus waktu sampai yakni jarak dibagi kecepatan\n",
        "  print(waktu)                       #menggunakan perintah print untuk menampilkan apa yang telah dibuat"
      ],
      "metadata": {
        "id": "rj0kAFT8OuTD"
      },
      "execution_count": 78,
      "outputs": []
    },
    {
      "cell_type": "code",
      "source": [
        "def waktu_tempuh(jarak,kecepatan):   #untuk mencari waktu tempuh, data yang digunakan adalah data jarak dan kecepatan\n",
        "  waktu = jarak/kecepatan            #rumus waktu tempuh yakni sama seperti waktu sampai\n",
        "  return waktu                       #menggunakan perintah print untuk menampilkan apa yang telah dibuat"
      ],
      "metadata": {
        "id": "WXBMwzVnPAYL"
      },
      "execution_count": 79,
      "outputs": []
    },
    {
      "cell_type": "code",
      "source": [
        "waktu_sampai (120,80)        #ini artinya, dapat diketahui bahwa jarak nya 120 dengan kecepatan 80\n",
        "                             #dengan ini diperoleh 1.5 karena 120 dibagi 80"
      ],
      "metadata": {
        "colab": {
          "base_uri": "https://localhost:8080/"
        },
        "id": "TIWNI9ZGPNRH",
        "outputId": "369f8603-43e5-4e38-bc72-e2c2c3db8019"
      },
      "execution_count": 82,
      "outputs": [
        {
          "output_type": "stream",
          "name": "stdout",
          "text": [
            "1.5\n"
          ]
        }
      ]
    },
    {
      "cell_type": "code",
      "source": [
        "waktu_tempuh (120, 80)       #ini artinya, dapat diketahui bahwa jaraknya adalah 120 dengan kecepatan 80\n",
        "                             #dengan ini diperoleh 1.5 karena 120 dibagi 80"
      ],
      "metadata": {
        "colab": {
          "base_uri": "https://localhost:8080/"
        },
        "id": "BEOWIRuuPT7K",
        "outputId": "57710dc2-d589-41e9-fc8d-c850ece09165"
      },
      "execution_count": 83,
      "outputs": [
        {
          "output_type": "execute_result",
          "data": {
            "text/plain": [
              "1.5"
            ]
          },
          "metadata": {},
          "execution_count": 83
        }
      ]
    },
    {
      "cell_type": "code",
      "source": [
        "a = waktu_sampai (120, 80)     #kita simbolkan bahwa a itu adalah waktu sampai\n",
        "print (a)                      #gunakan print untuk menampilkan"
      ],
      "metadata": {
        "colab": {
          "base_uri": "https://localhost:8080/"
        },
        "id": "LN3RJCf-PfRC",
        "outputId": "e424ee66-5876-4bd1-b6e3-a79864e0a0ad"
      },
      "execution_count": 86,
      "outputs": [
        {
          "output_type": "stream",
          "name": "stdout",
          "text": [
            "1.5\n",
            "None\n"
          ]
        }
      ]
    },
    {
      "cell_type": "code",
      "source": [
        "b = waktu_tempuh (120, 80)     #kita simbolkan bahwa b itu adalah waktu tempuh\n",
        "print (b)                      #gunakan print untuk menampilkan"
      ],
      "metadata": {
        "colab": {
          "base_uri": "https://localhost:8080/"
        },
        "id": "E2WWpbepPoKN",
        "outputId": "9ab812ec-31ae-4ec6-f11a-fea238105cdc"
      },
      "execution_count": 85,
      "outputs": [
        {
          "output_type": "stream",
          "name": "stdout",
          "text": [
            "1.5\n"
          ]
        }
      ]
    },
    {
      "cell_type": "markdown",
      "source": [
        "berdasarkan fungsi di atas, dapat diberi kesimpulan bahwa waktu sampai = waktu tempuh. Karena 1.5=1.5\n",
        "\n",
        "Jadi, fungsi pada python juga bisa menghitung waktu tempuh dan sampai seseorang."
      ],
      "metadata": {
        "id": "RpBT6GxFToHz"
      }
    },
    {
      "cell_type": "code",
      "source": [
        "import numpy as np"
      ],
      "metadata": {
        "id": "tRJofH5GPvge"
      },
      "execution_count": 87,
      "outputs": []
    },
    {
      "cell_type": "code",
      "source": [
        "def luas_segitiga (alas, tinggi):    #jadi untuk menemukan luas dari segitiga, kita hanya perlu tau alas dan tingginya\n",
        "    luas = (1/2)*alas*tinggi         #kita juga perlu memasukkan rumus pada python, karena secanggih apapun tetap tidak bisa membuat rumus dengan sendirinya tanpa arahan\n",
        "    return luas\n"
      ],
      "metadata": {
        "id": "JpATRo1dUcZs"
      },
      "execution_count": 92,
      "outputs": []
    },
    {
      "cell_type": "markdown",
      "source": [
        "## *# 5.20 Numpy*\n",
        "\n",
        "Merupakan salah satu Library dalam python yang memiliki keunggulan dalam perhitungan menggunakan vektor dan matrik dalam berbagai dimensi."
      ],
      "metadata": {
        "id": "sSvzeytfXzu6"
      }
    },
    {
      "cell_type": "markdown",
      "source": [
        "5.20.1 Perintah Dasar Pada Numpy\n",
        "\n",
        "Akan dipaparkan mengenai beberapa perintah dalam numpy diantaranya adalah memanggil numpy, mengetahui dimensi dan ukuran variabel "
      ],
      "metadata": {
        "id": "or1O-oseYQcW"
      }
    },
    {
      "cell_type": "code",
      "source": [
        "#Latihan soal di ppt\n",
        "\n",
        "a = np.array ([0,1,2,3,4])   #ini merupakan vektor baris\n",
        "print(a)                     #gunakan print untuk menampilkan yang dipaggil"
      ],
      "metadata": {
        "colab": {
          "base_uri": "https://localhost:8080/"
        },
        "id": "QewIq6t2XALP",
        "outputId": "45177816-7210-4a3a-bcd3-895667341315"
      },
      "execution_count": 96,
      "outputs": [
        {
          "output_type": "stream",
          "name": "stdout",
          "text": [
            "[0 1 2 3 4]\n"
          ]
        }
      ]
    },
    {
      "cell_type": "code",
      "source": [
        "b = np.array ([[5,6,7,8],[9,8,7,6]])      #ini merupakan vektor baris\n",
        "print(b)                                  #gunakan print untuk menampilkan b"
      ],
      "metadata": {
        "colab": {
          "base_uri": "https://localhost:8080/"
        },
        "id": "POI-Tgy8ZUsQ",
        "outputId": "10eb5db5-0bee-49ed-a865-cacd168ed610"
      },
      "execution_count": 97,
      "outputs": [
        {
          "output_type": "stream",
          "name": "stdout",
          "text": [
            "[[5 6 7 8]\n",
            " [9 8 7 6]]\n"
          ]
        }
      ]
    },
    {
      "cell_type": "code",
      "source": [
        "c = np.array ([[[0,1,2,3], [4,5,6,7]],    #ini merupakan matrik \n",
        "               [[8,9,8,7], [6,5,4,3]], \n",
        "               [[1,2,3,4], [5,6,7,8]]])\n",
        "print (c)                                 #gunakan print untuk menampilkan c\n",
        "                                        "
      ],
      "metadata": {
        "colab": {
          "base_uri": "https://localhost:8080/"
        },
        "id": "amybfABDZf_D",
        "outputId": "dd6fd960-797a-48ce-ba4a-cd4a52016780"
      },
      "execution_count": 100,
      "outputs": [
        {
          "output_type": "stream",
          "name": "stdout",
          "text": [
            "[[[0 1 2 3]\n",
            "  [4 5 6 7]]\n",
            "\n",
            " [[8 9 8 7]\n",
            "  [6 5 4 3]]\n",
            "\n",
            " [[1 2 3 4]\n",
            "  [5 6 7 8]]]\n"
          ]
        }
      ]
    },
    {
      "cell_type": "code",
      "source": [
        "a.ndim\n",
        "#menentukan banyaknya dimensi pada a"
      ],
      "metadata": {
        "colab": {
          "base_uri": "https://localhost:8080/"
        },
        "id": "g2wlB0Czegs4",
        "outputId": "96f18d4e-5f46-4540-b7bb-01d9c3cedc09"
      },
      "execution_count": 108,
      "outputs": [
        {
          "output_type": "execute_result",
          "data": {
            "text/plain": [
              "1"
            ]
          },
          "metadata": {},
          "execution_count": 108
        }
      ]
    },
    {
      "cell_type": "code",
      "source": [
        "b.ndim\n",
        "#memntukan banyaknya dimensi pada b"
      ],
      "metadata": {
        "colab": {
          "base_uri": "https://localhost:8080/"
        },
        "id": "KcnoUru4emXW",
        "outputId": "9f1b7721-ce18-46cb-95df-7a7c02231a3a"
      },
      "execution_count": 109,
      "outputs": [
        {
          "output_type": "execute_result",
          "data": {
            "text/plain": [
              "2"
            ]
          },
          "metadata": {},
          "execution_count": 109
        }
      ]
    },
    {
      "cell_type": "code",
      "source": [
        "c.ndim\n",
        "#menentukan banyaknya dimensi pada c"
      ],
      "metadata": {
        "colab": {
          "base_uri": "https://localhost:8080/"
        },
        "id": "ntEHM-Qiel7w",
        "outputId": "9cfd863f-328e-4c9b-9acf-9f348a26bf24"
      },
      "execution_count": 110,
      "outputs": [
        {
          "output_type": "execute_result",
          "data": {
            "text/plain": [
              "3"
            ]
          },
          "metadata": {},
          "execution_count": 110
        }
      ]
    },
    {
      "cell_type": "code",
      "source": [
        "a.shape\n",
        "#menampilkan jumlah baris dan kolom pada a"
      ],
      "metadata": {
        "colab": {
          "base_uri": "https://localhost:8080/"
        },
        "id": "5e0Px3dkekOa",
        "outputId": "5c3e835f-62a2-4265-9d74-d98bdbcdf5b4"
      },
      "execution_count": 111,
      "outputs": [
        {
          "output_type": "execute_result",
          "data": {
            "text/plain": [
              "(5,)"
            ]
          },
          "metadata": {},
          "execution_count": 111
        }
      ]
    },
    {
      "cell_type": "code",
      "source": [
        "b.shape\n",
        "#menampilkan jumlah baris dan kolom pada b"
      ],
      "metadata": {
        "colab": {
          "base_uri": "https://localhost:8080/"
        },
        "id": "bALLuLokej8z",
        "outputId": "dc1b1802-8fde-44c1-d32a-2fc353530649"
      },
      "execution_count": 112,
      "outputs": [
        {
          "output_type": "execute_result",
          "data": {
            "text/plain": [
              "(2, 4)"
            ]
          },
          "metadata": {},
          "execution_count": 112
        }
      ]
    },
    {
      "cell_type": "code",
      "source": [
        "c.shape\n",
        "#menampilkan jumlah baris dan kolom pada c"
      ],
      "metadata": {
        "colab": {
          "base_uri": "https://localhost:8080/"
        },
        "id": "eKsdXL73ejjZ",
        "outputId": "02f9b4ba-e07f-46fd-d49b-9783139918c1"
      },
      "execution_count": 113,
      "outputs": [
        {
          "output_type": "execute_result",
          "data": {
            "text/plain": [
              "(3, 2, 4)"
            ]
          },
          "metadata": {},
          "execution_count": 113
        }
      ]
    },
    {
      "cell_type": "markdown",
      "source": [
        "5.20.2\n",
        "\n",
        "Memanggil anggota, kolom dan baris dengan numpy"
      ],
      "metadata": {
        "id": "y7IFVtVvhXWA"
      }
    },
    {
      "cell_type": "code",
      "source": [
        "#LATIHAN 1\n",
        "\n",
        "#menampilkan bilangan random\n",
        "d = np.array([[2,3,4,5,6,7], [4,1,2,3,5,6],[7,8,4,2,1,3], [2,4,7,3,1,9]])\n",
        "print(d)"
      ],
      "metadata": {
        "colab": {
          "base_uri": "https://localhost:8080/"
        },
        "id": "lVh8Doz5hjjS",
        "outputId": "5b622b53-1d4c-4783-f7d2-186c00afa08a"
      },
      "execution_count": 117,
      "outputs": [
        {
          "output_type": "stream",
          "name": "stdout",
          "text": [
            "[[2 3 4 5 6 7]\n",
            " [4 1 2 3 5 6]\n",
            " [7 8 4 2 1 3]\n",
            " [2 4 7 3 1 9]]\n"
          ]
        }
      ]
    },
    {
      "cell_type": "code",
      "source": [
        "d[2,1]\n",
        "#menampilkan baris ke 2 dengan kolom ke 1"
      ],
      "metadata": {
        "colab": {
          "base_uri": "https://localhost:8080/"
        },
        "id": "Va-enxb3iQMP",
        "outputId": "6ff6751a-d441-4f0b-e8c6-9a6c25ef7604"
      },
      "execution_count": 118,
      "outputs": [
        {
          "output_type": "execute_result",
          "data": {
            "text/plain": [
              "8"
            ]
          },
          "metadata": {},
          "execution_count": 118
        }
      ]
    },
    {
      "cell_type": "code",
      "source": [
        "d[1,3]\n",
        "#menampilkan baris ke 1 dengan kolom ke 3"
      ],
      "metadata": {
        "colab": {
          "base_uri": "https://localhost:8080/"
        },
        "id": "x4y6dhP-iqoP",
        "outputId": "c0c0d8be-7c2c-4aba-e735-e0b6c61c88a7"
      },
      "execution_count": 119,
      "outputs": [
        {
          "output_type": "execute_result",
          "data": {
            "text/plain": [
              "3"
            ]
          },
          "metadata": {},
          "execution_count": 119
        }
      ]
    },
    {
      "cell_type": "code",
      "source": [
        "d[1,2:3]\n",
        "#menampilkan data array dengan index ke 1, kolom 2 sampai 3 dan tidak termasuk kolom ke 3"
      ],
      "metadata": {
        "colab": {
          "base_uri": "https://localhost:8080/"
        },
        "id": "fHIaMchni6rF",
        "outputId": "0b14cd74-0ccc-4ad6-fb9f-79413dd8a0ec"
      },
      "execution_count": 121,
      "outputs": [
        {
          "output_type": "execute_result",
          "data": {
            "text/plain": [
              "array([2])"
            ]
          },
          "metadata": {},
          "execution_count": 121
        }
      ]
    },
    {
      "cell_type": "code",
      "source": [
        "d[0,1:2]\n",
        "#menampilkan data array dengan index ke 0, kolom 1 sampai 2 dan tidak termasuk kolom ke 2"
      ],
      "metadata": {
        "colab": {
          "base_uri": "https://localhost:8080/"
        },
        "id": "2n02TdBtjASQ",
        "outputId": "ddf97750-fa5f-4882-d6ca-95d17d62f5dc"
      },
      "execution_count": 122,
      "outputs": [
        {
          "output_type": "execute_result",
          "data": {
            "text/plain": [
              "array([3])"
            ]
          },
          "metadata": {},
          "execution_count": 122
        }
      ]
    },
    {
      "cell_type": "code",
      "source": [
        "d[0,0] = 100\n",
        "print(d)\n",
        "#mengubah angka di kolom 0 dan baris 0 menjadi 100"
      ],
      "metadata": {
        "colab": {
          "base_uri": "https://localhost:8080/"
        },
        "id": "0Yxcuk4Aj_gd",
        "outputId": "5f466539-aed7-469c-dd0c-0f99653b49a2"
      },
      "execution_count": 123,
      "outputs": [
        {
          "output_type": "stream",
          "name": "stdout",
          "text": [
            "[[100   3   4   5   6   7]\n",
            " [  4   1   2   3   5   6]\n",
            " [  7   8   4   2   1   3]\n",
            " [  2   4   7   3   1   9]]\n"
          ]
        }
      ]
    },
    {
      "cell_type": "markdown",
      "source": [
        "5.20.3\n",
        "\n",
        "Untuk membuat berbagai jenis matrik"
      ],
      "metadata": {
        "id": "QLycwwickR0D"
      }
    },
    {
      "cell_type": "code",
      "source": [
        "np.ones((10,5))\n",
        "#menampilkan matrik 10*3 dengan elemen keseluruhan 1"
      ],
      "metadata": {
        "colab": {
          "base_uri": "https://localhost:8080/"
        },
        "id": "MzpZEzBykdik",
        "outputId": "7f4fe0a6-c8a3-4787-e8be-a45133329a62"
      },
      "execution_count": 124,
      "outputs": [
        {
          "output_type": "execute_result",
          "data": {
            "text/plain": [
              "array([[1., 1., 1., 1., 1.],\n",
              "       [1., 1., 1., 1., 1.],\n",
              "       [1., 1., 1., 1., 1.],\n",
              "       [1., 1., 1., 1., 1.],\n",
              "       [1., 1., 1., 1., 1.],\n",
              "       [1., 1., 1., 1., 1.],\n",
              "       [1., 1., 1., 1., 1.],\n",
              "       [1., 1., 1., 1., 1.],\n",
              "       [1., 1., 1., 1., 1.],\n",
              "       [1., 1., 1., 1., 1.]])"
            ]
          },
          "metadata": {},
          "execution_count": 124
        }
      ]
    },
    {
      "cell_type": "code",
      "source": [
        "np.zeros((3,5))\n",
        "#menampilkan matriks 3*5 dengan elemen keseluruhan 0"
      ],
      "metadata": {
        "colab": {
          "base_uri": "https://localhost:8080/"
        },
        "id": "LW-ks_f9koqI",
        "outputId": "95ddb9e1-9ef4-4b7e-c4eb-54cd127480f0"
      },
      "execution_count": 125,
      "outputs": [
        {
          "output_type": "execute_result",
          "data": {
            "text/plain": [
              "array([[0., 0., 0., 0., 0.],\n",
              "       [0., 0., 0., 0., 0.],\n",
              "       [0., 0., 0., 0., 0.]])"
            ]
          },
          "metadata": {},
          "execution_count": 125
        }
      ]
    },
    {
      "cell_type": "code",
      "source": [
        "np.identity(8)\n",
        "#menampilkan matriksidentitas dengan 8*8"
      ],
      "metadata": {
        "colab": {
          "base_uri": "https://localhost:8080/"
        },
        "id": "BxRgrtMbksRx",
        "outputId": "15c06f64-0885-42c1-bbfd-dd1e1a5f33f3"
      },
      "execution_count": 126,
      "outputs": [
        {
          "output_type": "execute_result",
          "data": {
            "text/plain": [
              "array([[1., 0., 0., 0., 0., 0., 0., 0.],\n",
              "       [0., 1., 0., 0., 0., 0., 0., 0.],\n",
              "       [0., 0., 1., 0., 0., 0., 0., 0.],\n",
              "       [0., 0., 0., 1., 0., 0., 0., 0.],\n",
              "       [0., 0., 0., 0., 1., 0., 0., 0.],\n",
              "       [0., 0., 0., 0., 0., 1., 0., 0.],\n",
              "       [0., 0., 0., 0., 0., 0., 1., 0.],\n",
              "       [0., 0., 0., 0., 0., 0., 0., 1.]])"
            ]
          },
          "metadata": {},
          "execution_count": 126
        }
      ]
    },
    {
      "cell_type": "code",
      "source": [
        "np.ones ((5,6,7))\n",
        "#menampilkan matriks 2 dimensi dengan 6*5 yang elemennya 1"
      ],
      "metadata": {
        "colab": {
          "base_uri": "https://localhost:8080/"
        },
        "id": "PB2wUG87lDMx",
        "outputId": "9feafb79-65d7-4be4-bcd8-939f6c235294"
      },
      "execution_count": 127,
      "outputs": [
        {
          "output_type": "execute_result",
          "data": {
            "text/plain": [
              "array([[[1., 1., 1., 1., 1., 1., 1.],\n",
              "        [1., 1., 1., 1., 1., 1., 1.],\n",
              "        [1., 1., 1., 1., 1., 1., 1.],\n",
              "        [1., 1., 1., 1., 1., 1., 1.],\n",
              "        [1., 1., 1., 1., 1., 1., 1.],\n",
              "        [1., 1., 1., 1., 1., 1., 1.]],\n",
              "\n",
              "       [[1., 1., 1., 1., 1., 1., 1.],\n",
              "        [1., 1., 1., 1., 1., 1., 1.],\n",
              "        [1., 1., 1., 1., 1., 1., 1.],\n",
              "        [1., 1., 1., 1., 1., 1., 1.],\n",
              "        [1., 1., 1., 1., 1., 1., 1.],\n",
              "        [1., 1., 1., 1., 1., 1., 1.]],\n",
              "\n",
              "       [[1., 1., 1., 1., 1., 1., 1.],\n",
              "        [1., 1., 1., 1., 1., 1., 1.],\n",
              "        [1., 1., 1., 1., 1., 1., 1.],\n",
              "        [1., 1., 1., 1., 1., 1., 1.],\n",
              "        [1., 1., 1., 1., 1., 1., 1.],\n",
              "        [1., 1., 1., 1., 1., 1., 1.]],\n",
              "\n",
              "       [[1., 1., 1., 1., 1., 1., 1.],\n",
              "        [1., 1., 1., 1., 1., 1., 1.],\n",
              "        [1., 1., 1., 1., 1., 1., 1.],\n",
              "        [1., 1., 1., 1., 1., 1., 1.],\n",
              "        [1., 1., 1., 1., 1., 1., 1.],\n",
              "        [1., 1., 1., 1., 1., 1., 1.]],\n",
              "\n",
              "       [[1., 1., 1., 1., 1., 1., 1.],\n",
              "        [1., 1., 1., 1., 1., 1., 1.],\n",
              "        [1., 1., 1., 1., 1., 1., 1.],\n",
              "        [1., 1., 1., 1., 1., 1., 1.],\n",
              "        [1., 1., 1., 1., 1., 1., 1.],\n",
              "        [1., 1., 1., 1., 1., 1., 1.]]])"
            ]
          },
          "metadata": {},
          "execution_count": 127
        }
      ]
    },
    {
      "cell_type": "code",
      "source": [
        "np.full ((2,1),3)\n",
        "#menampilkan matriks 2*1 yang elemennya 3"
      ],
      "metadata": {
        "colab": {
          "base_uri": "https://localhost:8080/"
        },
        "id": "BGGs3I7xlaWo",
        "outputId": "aaa91a60-ebed-465d-865f-41a06fd0bdcc"
      },
      "execution_count": 130,
      "outputs": [
        {
          "output_type": "execute_result",
          "data": {
            "text/plain": [
              "array([[3],\n",
              "       [3]])"
            ]
          },
          "metadata": {},
          "execution_count": 130
        }
      ]
    },
    {
      "cell_type": "code",
      "source": [
        "np.random.rand (2,5)\n",
        "#menampilkan matriks 2*5"
      ],
      "metadata": {
        "colab": {
          "base_uri": "https://localhost:8080/"
        },
        "id": "Qm5_Wdu1lh9w",
        "outputId": "0e111116-10cb-4e51-91ec-ef876343bfca"
      },
      "execution_count": 131,
      "outputs": [
        {
          "output_type": "execute_result",
          "data": {
            "text/plain": [
              "array([[0.57864757, 0.07576958, 0.3237373 , 0.48271901, 0.82088095],\n",
              "       [0.6439755 , 0.84930192, 0.07730219, 0.6054878 , 0.08126369]])"
            ]
          },
          "metadata": {},
          "execution_count": 131
        }
      ]
    },
    {
      "cell_type": "code",
      "source": [
        "np.random.randint(2, 5, size=(3,1)) #int\n",
        "#menampilkan matriks 3*1 dengan int dari 2-5"
      ],
      "metadata": {
        "colab": {
          "base_uri": "https://localhost:8080/"
        },
        "id": "rDl_yN9Bl0xb",
        "outputId": "05cd82d4-2ea2-4dc2-9f37-d329d4e052cb"
      },
      "execution_count": 132,
      "outputs": [
        {
          "output_type": "execute_result",
          "data": {
            "text/plain": [
              "array([[2],\n",
              "       [2],\n",
              "       [3]])"
            ]
          },
          "metadata": {},
          "execution_count": 132
        }
      ]
    },
    {
      "cell_type": "markdown",
      "source": [
        "5.20.4 Copy Pada Numpy\n",
        "\n",
        "Untuk menghindari perubahan variabel awal yang tidak dikehendaki, maka diperlukan perintah copy"
      ],
      "metadata": {
        "id": "3RvNbXoymNpG"
      }
    },
    {
      "cell_type": "code",
      "source": [],
      "metadata": {
        "id": "_dEkrCFznaKk"
      },
      "execution_count": null,
      "outputs": []
    },
    {
      "cell_type": "code",
      "source": [
        "#LATIHAN 1\n",
        "\n",
        "a = np.array ([2,5,7,9,10])    #diambil bilangan random\n",
        "print (a)                      #gunakan perintah print untuk menampilkan a"
      ],
      "metadata": {
        "colab": {
          "base_uri": "https://localhost:8080/"
        },
        "id": "oMqBCnORmJH3",
        "outputId": "400bd18a-e72a-4b6a-f3d2-a91dbdfd31b8"
      },
      "execution_count": 133,
      "outputs": [
        {
          "output_type": "stream",
          "name": "stdout",
          "text": [
            "[ 2  5  7  9 10]\n"
          ]
        }
      ]
    },
    {
      "cell_type": "code",
      "source": [
        "b = a+1       #semua elemen yang ada di a ditambah dengan 1\n",
        "print(b)      #gunakan perintah print untuk menampilkan b"
      ],
      "metadata": {
        "colab": {
          "base_uri": "https://localhost:8080/"
        },
        "id": "6jR2dZmzmm6Z",
        "outputId": "daf2dd00-fe4a-4833-bb9e-74e75cde1d0a"
      },
      "execution_count": 134,
      "outputs": [
        {
          "output_type": "stream",
          "name": "stdout",
          "text": [
            "[ 3  6  8 10 11]\n"
          ]
        }
      ]
    },
    {
      "cell_type": "code",
      "source": [
        "c=np.array([2,4,7,5,1])     #diambil bilangan random\n",
        "print(c)                    #gunakan perintah print untuk menampilkan c"
      ],
      "metadata": {
        "colab": {
          "base_uri": "https://localhost:8080/"
        },
        "id": "H95sv8N-nDVq",
        "outputId": "a1a96f74-0e94-4738-deaa-00f7b76ce915"
      },
      "execution_count": 136,
      "outputs": [
        {
          "output_type": "stream",
          "name": "stdout",
          "text": [
            "[2 4 7 5 1]\n"
          ]
        }
      ]
    },
    {
      "cell_type": "code",
      "source": [
        "d =c.copy ()+1       #semua elemen yang ada di c ditambah dengan 1\n",
        "print(d)             #gunakan perintah print untuk menampilkan d"
      ],
      "metadata": {
        "colab": {
          "base_uri": "https://localhost:8080/"
        },
        "id": "ieCByLKvnWf1",
        "outputId": "d2162d79-905b-41ea-9cad-5cf854fe193d"
      },
      "execution_count": 137,
      "outputs": [
        {
          "output_type": "stream",
          "name": "stdout",
          "text": [
            "[3 5 8 6 2]\n"
          ]
        }
      ]
    },
    {
      "cell_type": "code",
      "source": [
        "print(c)           #dengan c tidak berubah nilai"
      ],
      "metadata": {
        "colab": {
          "base_uri": "https://localhost:8080/"
        },
        "id": "_PNusRYRnr00",
        "outputId": "aace0b80-6c29-4a7a-83e2-eac91aa4f1ae"
      },
      "execution_count": 138,
      "outputs": [
        {
          "output_type": "stream",
          "name": "stdout",
          "text": [
            "[2 4 7 5 1]\n"
          ]
        }
      ]
    },
    {
      "cell_type": "markdown",
      "source": [
        "5.20.5 Operasi Matematika pada Numpy"
      ],
      "metadata": {
        "id": "jL0s14sooAN0"
      }
    },
    {
      "cell_type": "code",
      "source": [
        "import numpy as np"
      ],
      "metadata": {
        "id": "IpvkHzsAn3ol"
      },
      "execution_count": 139,
      "outputs": []
    },
    {
      "cell_type": "code",
      "source": [
        "#mendeskripsikan nilai array dari variabel pada numpy\n",
        "a = np.array([1,3,6,4,8,9,10,12])\n",
        "b = np.array([2,3,4,5,7,8,9,13,])\n",
        "print(a)\n",
        "print(b)\n",
        "#menggunakan perintah print agar a dan b dapat ditampilkan"
      ],
      "metadata": {
        "colab": {
          "base_uri": "https://localhost:8080/"
        },
        "id": "hwGDAsvGoiPX",
        "outputId": "09e60489-ab07-4cad-9fee-963082b24be6"
      },
      "execution_count": 147,
      "outputs": [
        {
          "output_type": "stream",
          "name": "stdout",
          "text": [
            "[ 1  3  6  4  8  9 10 12]\n",
            "[ 2  3  4  5  7  8  9 13]\n"
          ]
        }
      ]
    },
    {
      "cell_type": "code",
      "source": [
        "#menggunakan operasi penjumlahan pada array\n",
        "\n",
        "x1 = a+2     #nilai a saja yang ditambahkan 2\n",
        "print(x1)\n"
      ],
      "metadata": {
        "colab": {
          "base_uri": "https://localhost:8080/"
        },
        "id": "OFuZdTwGonF8",
        "outputId": "260365b5-31a7-4d04-e80a-d2b895c4fd13"
      },
      "execution_count": 159,
      "outputs": [
        {
          "output_type": "stream",
          "name": "stdout",
          "text": [
            "[[ 6  7  8  9 10]\n",
            " [ 3  4  5  6  7]\n",
            " [ 6  7  8  9 10]]\n"
          ]
        }
      ]
    },
    {
      "cell_type": "code",
      "source": [
        "#menggunakan operasi pengurangan pada array\n",
        "\n",
        "x2 = a-2     #nilai a saja yang dikurangi 2\n",
        "print(x2)"
      ],
      "metadata": {
        "colab": {
          "base_uri": "https://localhost:8080/"
        },
        "id": "csv4XlTCuYeA",
        "outputId": "d593abc3-f2c6-4282-9b13-17321f7f87cc"
      },
      "execution_count": 160,
      "outputs": [
        {
          "output_type": "stream",
          "name": "stdout",
          "text": [
            "[[ 2  3  4  5  6]\n",
            " [-1  0  1  2  3]\n",
            " [ 2  3  4  5  6]]\n"
          ]
        }
      ]
    },
    {
      "cell_type": "code",
      "source": [
        "#menggunakan perkalian pada arrau\n",
        "\n",
        "x3 = a*2     #nilai a saja yang dikalikan 2\n",
        "print(x3)"
      ],
      "metadata": {
        "colab": {
          "base_uri": "https://localhost:8080/"
        },
        "id": "c_JyvTZMukSC",
        "outputId": "8972c54c-559f-4bf5-a78e-3dc612b24f0d"
      },
      "execution_count": 161,
      "outputs": [
        {
          "output_type": "stream",
          "name": "stdout",
          "text": [
            "[[ 8 10 12 14 16]\n",
            " [ 2  4  6  8 10]\n",
            " [ 8 10 12 14 16]]\n"
          ]
        }
      ]
    },
    {
      "cell_type": "code",
      "source": [
        "#menggunakan cosinus pada array\n",
        "x4 = np.cos(a)\n",
        "print(x4)"
      ],
      "metadata": {
        "colab": {
          "base_uri": "https://localhost:8080/"
        },
        "id": "83t_758VuuFi",
        "outputId": "dbe3a3af-bc66-4603-ae4e-6548f89a4e1e"
      },
      "execution_count": 162,
      "outputs": [
        {
          "output_type": "stream",
          "name": "stdout",
          "text": [
            "[[-0.65364362  0.28366219  0.96017029  0.75390225 -0.14550003]\n",
            " [ 0.54030231 -0.41614684 -0.9899925  -0.65364362  0.28366219]\n",
            " [-0.65364362  0.28366219  0.96017029  0.75390225 -0.14550003]]\n"
          ]
        }
      ]
    },
    {
      "cell_type": "code",
      "source": [
        "#menggunakan sinus pada array\n",
        "x5 = np.sin(a)\n",
        "print(x5)"
      ],
      "metadata": {
        "colab": {
          "base_uri": "https://localhost:8080/"
        },
        "id": "gurK3ifDu6ZI",
        "outputId": "7f600e7a-da6a-4934-eaca-f86c5742b8bb"
      },
      "execution_count": 163,
      "outputs": [
        {
          "output_type": "stream",
          "name": "stdout",
          "text": [
            "[[-0.7568025  -0.95892427 -0.2794155   0.6569866   0.98935825]\n",
            " [ 0.84147098  0.90929743  0.14112001 -0.7568025  -0.95892427]\n",
            " [-0.7568025  -0.95892427 -0.2794155   0.6569866   0.98935825]]\n"
          ]
        }
      ]
    },
    {
      "cell_type": "code",
      "source": [
        "#meghitung nilai dari akar kuadrat\n",
        "x6 = np.sqrt(a)\n",
        "print(x6)"
      ],
      "metadata": {
        "colab": {
          "base_uri": "https://localhost:8080/"
        },
        "id": "BuK2zc-dvC1u",
        "outputId": "00dd70ad-829f-4cee-90db-71e0d88f9d4f"
      },
      "execution_count": 164,
      "outputs": [
        {
          "output_type": "stream",
          "name": "stdout",
          "text": [
            "[[2.         2.23606798 2.44948974 2.64575131 2.82842712]\n",
            " [1.         1.41421356 1.73205081 2.         2.23606798]\n",
            " [2.         2.23606798 2.44948974 2.64575131 2.82842712]]\n"
          ]
        }
      ]
    },
    {
      "cell_type": "markdown",
      "source": [
        "5.20.6 Perkalian pada matrik pada numpy"
      ],
      "metadata": {
        "id": "jvqc9EL_qvRv"
      }
    },
    {
      "cell_type": "code",
      "source": [
        "#LATIHAN\n",
        "\n",
        "#menampilan perkalian pada matrik pada numpy  \n",
        "a = np.array([[[2,4,6,], [7,8,9], [10,13,15]]])  #memggunakan angka random\n",
        "print(a)\n",
        "#gunakan print untuk menampilkan a"
      ],
      "metadata": {
        "colab": {
          "base_uri": "https://localhost:8080/"
        },
        "id": "1CLWfbReqhIr",
        "outputId": "c71b2f54-11ae-47fa-f50d-eea74a3fabfa"
      },
      "execution_count": 150,
      "outputs": [
        {
          "output_type": "stream",
          "name": "stdout",
          "text": [
            "[[[ 2  4  6]\n",
            "  [ 7  8  9]\n",
            "  [10 13 15]]]\n"
          ]
        }
      ]
    },
    {
      "cell_type": "code",
      "source": [
        "b= np.array([[[6,7,8], [7,8,10], [13,15,12]]]) #menggunakan angka random\n",
        "print(b)\n",
        "#gunakan print untuk menampilkan b"
      ],
      "metadata": {
        "colab": {
          "base_uri": "https://localhost:8080/"
        },
        "id": "OmE9AYOxrKZE",
        "outputId": "ba701738-d699-4372-8a1b-8ef5035edadc"
      },
      "execution_count": 151,
      "outputs": [
        {
          "output_type": "stream",
          "name": "stdout",
          "text": [
            "[[[ 6  7  8]\n",
            "  [ 7  8 10]\n",
            "  [13 15 12]]]\n"
          ]
        }
      ]
    },
    {
      "cell_type": "code",
      "source": [
        "c=a*b      #matriks a dikali matriks b hasilnya sama dengan c\n",
        "print(c)   #gunakan print untuk menampilkan c"
      ],
      "metadata": {
        "colab": {
          "base_uri": "https://localhost:8080/"
        },
        "id": "PebKW9mMrkdE",
        "outputId": "3010d4e9-0642-4ea5-9d97-5ccd929bf2a5"
      },
      "execution_count": 152,
      "outputs": [
        {
          "output_type": "stream",
          "name": "stdout",
          "text": [
            "[[[ 12  28  48]\n",
            "  [ 49  64  90]\n",
            "  [130 195 180]]]\n"
          ]
        }
      ]
    },
    {
      "cell_type": "code",
      "source": [
        "e=np.array([[12,13],[14,16], [6,7], [8,9]]) #mendeksripsikan data array\n",
        "print(e)"
      ],
      "metadata": {
        "colab": {
          "base_uri": "https://localhost:8080/"
        },
        "id": "FPNAa7Jyr_ke",
        "outputId": "802115be-c7d1-4b0e-c8e8-c3aaf05c87d5"
      },
      "execution_count": 153,
      "outputs": [
        {
          "output_type": "stream",
          "name": "stdout",
          "text": [
            "[[12 13]\n",
            " [14 16]\n",
            " [ 6  7]\n",
            " [ 8  9]]\n"
          ]
        }
      ]
    },
    {
      "cell_type": "code",
      "source": [
        "f=np.matmul(a,e)       #error tidak tahu kenapa pak\n",
        "print(f)"
      ],
      "metadata": {
        "colab": {
          "base_uri": "https://localhost:8080/",
          "height": 200
        },
        "id": "nwIs0L8NsZaz",
        "outputId": "40089066-25fd-4e17-87a8-2e71d24f7f04"
      },
      "execution_count": 154,
      "outputs": [
        {
          "output_type": "error",
          "ename": "ValueError",
          "evalue": "ignored",
          "traceback": [
            "\u001b[0;31m---------------------------------------------------------------------------\u001b[0m",
            "\u001b[0;31mValueError\u001b[0m                                Traceback (most recent call last)",
            "\u001b[0;32m<ipython-input-154-bcacf3363d0f>\u001b[0m in \u001b[0;36m<cell line: 1>\u001b[0;34m()\u001b[0m\n\u001b[0;32m----> 1\u001b[0;31m \u001b[0mf\u001b[0m\u001b[0;34m=\u001b[0m\u001b[0mnp\u001b[0m\u001b[0;34m.\u001b[0m\u001b[0mmatmul\u001b[0m\u001b[0;34m(\u001b[0m\u001b[0ma\u001b[0m\u001b[0;34m,\u001b[0m\u001b[0me\u001b[0m\u001b[0;34m)\u001b[0m\u001b[0;34m\u001b[0m\u001b[0;34m\u001b[0m\u001b[0m\n\u001b[0m\u001b[1;32m      2\u001b[0m \u001b[0mprint\u001b[0m\u001b[0;34m(\u001b[0m\u001b[0mf\u001b[0m\u001b[0;34m)\u001b[0m\u001b[0;34m\u001b[0m\u001b[0;34m\u001b[0m\u001b[0m\n",
            "\u001b[0;31mValueError\u001b[0m: matmul: Input operand 1 has a mismatch in its core dimension 0, with gufunc signature (n?,k),(k,m?)->(n?,m?) (size 4 is different from 3)"
          ]
        }
      ]
    },
    {
      "cell_type": "markdown",
      "source": [
        "5.20.7 min,max dan sun pada numpy"
      ],
      "metadata": {
        "id": "WziWus2EszF-"
      }
    },
    {
      "cell_type": "code",
      "source": [
        "a = np.array([[4,5,6,7,8],  #mendeskripsikan elemen pada variabel a yang berupa data array\n",
        "             [1,2,3,4,5],\n",
        "             [4,5,6,7,8]])\n",
        "print(a)"
      ],
      "metadata": {
        "colab": {
          "base_uri": "https://localhost:8080/"
        },
        "id": "p0TBNTI7snAZ",
        "outputId": "0a2fa275-c96d-4a9c-f16d-05a57b602218"
      },
      "execution_count": 155,
      "outputs": [
        {
          "output_type": "stream",
          "name": "stdout",
          "text": [
            "[[4 5 6 7 8]\n",
            " [1 2 3 4 5]\n",
            " [4 5 6 7 8]]\n"
          ]
        }
      ]
    },
    {
      "cell_type": "code",
      "source": [
        "b= np.min(a) #nilai minimal dari data array a\n",
        "print(b)     #gunakan print agar b dapat terbaca"
      ],
      "metadata": {
        "colab": {
          "base_uri": "https://localhost:8080/"
        },
        "id": "QsGHGjt1tMbk",
        "outputId": "b3b21903-d4e1-4b4b-c8bb-b6d75dff5f9f"
      },
      "execution_count": 156,
      "outputs": [
        {
          "output_type": "stream",
          "name": "stdout",
          "text": [
            "1\n"
          ]
        }
      ]
    },
    {
      "cell_type": "code",
      "source": [
        "c= np.max(a)   #nilai maksimal dari data nilai a\n",
        "print(c)       #gunakan print agar c terbaca"
      ],
      "metadata": {
        "colab": {
          "base_uri": "https://localhost:8080/"
        },
        "id": "UWwMSS5ftTR5",
        "outputId": "3125dbb1-c9c8-4956-acf3-b13115d67fc1"
      },
      "execution_count": 158,
      "outputs": [
        {
          "output_type": "stream",
          "name": "stdout",
          "text": [
            "8\n"
          ]
        }
      ]
    },
    {
      "cell_type": "code",
      "source": [],
      "metadata": {
        "id": "xtKdiLo5tcIy"
      },
      "execution_count": null,
      "outputs": []
    }
  ]
}