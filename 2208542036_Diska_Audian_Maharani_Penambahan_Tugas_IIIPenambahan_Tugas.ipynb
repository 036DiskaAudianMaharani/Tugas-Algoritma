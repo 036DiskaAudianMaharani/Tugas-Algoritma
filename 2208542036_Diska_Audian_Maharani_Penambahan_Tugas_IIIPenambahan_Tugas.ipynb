{
  "nbformat": 4,
  "nbformat_minor": 0,
  "metadata": {
    "colab": {
      "provenance": []
    },
    "kernelspec": {
      "name": "python3",
      "display_name": "Python 3"
    },
    "language_info": {
      "name": "python"
    }
  },
  "cells": [
    {
      "cell_type": "markdown",
      "source": [
        "# **PENAMBAHAN MATERI PADA:**\n",
        "# **20 Maret 2023**\n"
      ],
      "metadata": {
        "id": "EM9y7IOrVUaG"
      }
    },
    {
      "cell_type": "markdown",
      "source": [
        "5.10 Operator if di Python\n",
        "\n",
        "Operator if akan dijalankan apabila nilai variabel yang dijalankan adalah True, sedangkan kalau nilainya False, maka dia tidak akan dijalankan."
      ],
      "metadata": {
        "id": "YUqd6LC2V3L7"
      }
    },
    {
      "cell_type": "code",
      "source": [
        "#saya akan membuat program yang menggunakan operator if untuk menetapkan serta menampilkan data mahasiswa\n",
        "\n",
        "nilai_36 = float(input('Nilai anda adalah: '))       #disini nantinya kita akan menampilkan nilai yang anda kehendaki \n",
        "if nilai_36 >= 80:                                   #apabila memperoleh nilai 80 maka akan memperoleh predikat A\n",
        "  print('Anda mendapatkan nilai A')                  #print akan menampilkan kalimat ini apabila memperoleh nilai di atas 80\n",
        "  print('Bagus sekali, selamat!')                    \n",
        "if nilai_36 < 80 and nilai_36 >= 70:                 #apabila memperoleh nilai 70-80 maka akan memperoleh predikat B\n",
        "  print('Anda mendapatkan nilai B')                  #print akan menampilkan kalimat ini apabila memperoleh nilai sekitar 70-80\n",
        "  print('Tingkatkan prestasimu!')            \n",
        "if nilai_36 >= 60 and nilai_36 < 70:                 #apabila memperoleh nilai di 60-70 maka akan memperoleh predikat C\n",
        "  print('Anda mendapatkan nilai C')                  #print akan menampilkan kalimat ini apabila memperoleh nilai sekitar 60-70                       \n",
        "  print('Lain kali musti lebih baik')                \n",
        "if nilai_36 >= 50 and nilai_36 < 60:                 #apabila memperoleh nilai 50-60 maka akan memperoleh predikat D\n",
        "  print('Anda mendapatkan nilai D')                  #print akan menampilkan kalimat ini apabila memperoleh nilai sekitar 50-60\n",
        "  print('Ulang lagi tahun depan')\n",
        "if nilai_36 < 50:                                    #apabila memperoleh nilai di bawah 50 maka akan memperoleh predikat E\n",
        "  print('Anda mendapatkan nilai E')                  #print akan menampilkan kalimat ini apabila memperoleh nilai di bawah 50\n",
        "  print('sampai jumpa tahun depan')"
      ],
      "metadata": {
        "colab": {
          "base_uri": "https://localhost:8080/"
        },
        "id": "c93i5LwrVS8f",
        "outputId": "c3fe3140-8f7c-4d11-c1a4-01a5701e2c00"
      },
      "execution_count": null,
      "outputs": [
        {
          "output_type": "stream",
          "name": "stdout",
          "text": [
            "Nilai anda adalah: 60\n",
            "Anda mendapatkan nilai C\n",
            "Lain kali musti lebih baik\n"
          ]
        }
      ]
    },
    {
      "cell_type": "code",
      "execution_count": 2,
      "metadata": {
        "id": "Xq7fwcZEU2zF",
        "colab": {
          "base_uri": "https://localhost:8080/"
        },
        "outputId": "72458a88-eea9-4593-b4e4-94a32dc76c28"
      },
      "outputs": [
        {
          "output_type": "stream",
          "name": "stdout",
          "text": [
            "Nilai anda adalah 45\n",
            "Anda mendapatkan nilai E\n",
            "Sampai jumpa tahun depan\n"
          ]
        }
      ],
      "source": [
        "#ini adalah program yang menggunakan percabangan if, elif dan else\n",
        "\n",
        "nilai_36 = float(input('Nilai anda adalah '))\n",
        "if nilai_36 >= 80:                         #dimana if adalah kondisi utama\n",
        "  print('Anda mendapatkan nilai A')\n",
        "  print('Bagus sekali, selamat!')\n",
        "elif nilai_36 >= 70:                       #elif merupakan kondisi kedua\n",
        "  print('Anda mendapatkam milai B')\n",
        "  print('Tingkatkan prestasimu!')\n",
        "elif nilai_36 >= 60:                       #elif merupakan kondisi ketiga\n",
        "  print('Anda mendapatkan nilai C')\n",
        "  print('Lain kali musti lebih baik')\n",
        "elif nilai_36 >= 50:                       #elif merupakan kondisi keempat\n",
        "  print('Anda mendapatkan nilai D')\n",
        "  print('Ulang lagi tahun depan')\n",
        "else:                                      #else adalah kondisi terakhir\n",
        "  print('Anda mendapatkan nilai E')\n",
        "  print('Sampai jumpa tahun depan')\n",
        "\n",
        "  #kenapa pakai elif? kan bisa pakai if saja? karena setiap kali kita membuat blok if, itu artinya kita membuat satu pohon percabangan.\n",
        "  \n"
      ]
    },
    {
      "cell_type": "code",
      "source": [
        "#berikut merupakan contoh keanggotaan\n",
        "\n",
        "sayur_yang_tersedia = ['bayam', 'wortel', 'sawi', 'kol', 'kentang']\n",
        "sayur_yang_dicari = input('Masukkan nama sayur dalam huruf kecil: ')\n",
        "#input berfungsi agar kita dapat memasukkan nama sayur yang kita mau\n",
        "\n",
        "if(sayur_yang_dicari in sayur_yang_tersedia):\n",
        "  print('sayur yang anda cari tersedia!')\n",
        "#apabila sayur yang dicari termuat dalam sayur yang tersedia, maka akan menampilkan sayur yang anda cari tersedia\n",
        "else:\n",
        "  print('sayur yang anda cari tidak tersedia!')\n",
        "#apabila sayur yang dicari tidak termuat dalam sayur tersedia, maka akan menampilkan sayur yang anda cari tidak tersedia\n",
        "\n",
        "#karena nama sayur yang diminta adalah wortel dan wortel tersedia, maka menampilkan print sayur yang anda cari tersedia"
      ],
      "metadata": {
        "colab": {
          "base_uri": "https://localhost:8080/"
        },
        "id": "_6HlBw4P0VOU",
        "outputId": "1eaefb77-7d49-4182-f647-1097ebb6d80d"
      },
      "execution_count": 7,
      "outputs": [
        {
          "output_type": "stream",
          "name": "stdout",
          "text": [
            "Masukkan nama sayur dalam huruf kecil: wortel\n",
            "sayur yang anda cari tersedia!\n"
          ]
        }
      ]
    },
    {
      "cell_type": "code",
      "source": [
        "#mencoba sekali lagi\n",
        "\n",
        "sayur_yang_tersedia = ['bayam', 'wortel', 'sawi', 'kol', 'kentang']\n",
        "sayur_yang_dicari = input('Masukkan nama sayur dalam huruf kecil: ')\n",
        "#input berfungsi agar kita dapat memasukkan nama sayur yang kita mau\n",
        "\n",
        "if(sayur_yang_dicari in sayur_yang_tersedia):\n",
        "  print('sayur yang anda cari tersedia!')\n",
        "#apabila sayur yang dicari termuat dalam sayur yang tersedia, maka akan menampilkan sayur yang anda cari tersedia\n",
        "else:\n",
        "  print('sayur yang anda cari tidak tersedia!')\n",
        "#apabila sayur yang dicari tidak termuat dalam sayur tersedia, maka akan menampilkan sayur yang anda cari tidak tersedia\n",
        "\n",
        "#karena nama sayur yang diminta adalah timun dan timun tidak tersedia, maka menampilkan print sayur yang anda cari tidak tersedia"
      ],
      "metadata": {
        "colab": {
          "base_uri": "https://localhost:8080/"
        },
        "id": "LU3g8hBB3dCO",
        "outputId": "6685da3b-8bff-4f61-9694-63233636d6a8"
      },
      "execution_count": 8,
      "outputs": [
        {
          "output_type": "stream",
          "name": "stdout",
          "text": [
            "Masukkan nama sayur dalam huruf kecil: timun\n",
            "sayur yang anda cari tidak tersedia!\n"
          ]
        }
      ]
    },
    {
      "cell_type": "code",
      "source": [
        "#menampilkan if else dalam satu baris\n",
        "\n",
        "nilai = int(input('Masukkan nilai: '))\n",
        "status = 'lulus' if nilai >= 60 else 'tidak lulus'\n",
        "\n",
        "print (status)\n",
        "#karena 80 itu lebih dari 60, maka dia lulus"
      ],
      "metadata": {
        "colab": {
          "base_uri": "https://localhost:8080/"
        },
        "id": "nHIAz8zV36X0",
        "outputId": "b1c372c2-2912-4e08-a131-4d2b94beaa38"
      },
      "execution_count": 9,
      "outputs": [
        {
          "output_type": "stream",
          "name": "stdout",
          "text": [
            "Masukkan nilai: 80\n",
            "lulus\n"
          ]
        }
      ]
    },
    {
      "cell_type": "code",
      "source": [
        "#kode program di atas adalah shortcut dari kode seperti ini:\n",
        "\n",
        "if nilai >= 60:\n",
        "  status = 'lulus'\n",
        "else:\n",
        "  ststus = 'tidak lulus'\n",
        "\n",
        "print (status)\n"
      ],
      "metadata": {
        "colab": {
          "base_uri": "https://localhost:8080/"
        },
        "id": "2wJHhMkZ6Bva",
        "outputId": "0e911091-238c-42ae-ea5d-a8aed8799a68"
      },
      "execution_count": 10,
      "outputs": [
        {
          "output_type": "stream",
          "name": "stdout",
          "text": [
            "lulus\n"
          ]
        }
      ]
    },
    {
      "cell_type": "code",
      "source": [],
      "metadata": {
        "id": "yigNeJAK6npn"
      },
      "execution_count": null,
      "outputs": []
    }
  ]
}